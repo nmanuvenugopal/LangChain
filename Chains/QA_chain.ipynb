{
 "cells": [
  {
   "cell_type": "code",
   "execution_count": 28,
   "metadata": {},
   "outputs": [],
   "source": [
    "import os\n",
    "from langchain.document_loaders import WikipediaLoader\n",
    "from langchain.text_splitter import CharacterTextSplitter\n",
    "from langchain.embeddings import OpenAIEmbeddings\n",
    "from langchain.vectorstores import Chroma\n",
    "from langchain.chains.qa_with_sources import load_qa_with_sources_chain\n",
    "from langchain.chains.question_answering import load_qa_chain"
   ]
  },
  {
   "cell_type": "code",
   "execution_count": 29,
   "metadata": {},
   "outputs": [],
   "source": [
    "# Setting the environment path and autheticating the OpenAI API\n",
    "\n",
    "os.environ[\"OPENAI_API_KEY\"] = \"Your API Keys\""
   ]
  },
  {
   "cell_type": "code",
   "execution_count": 30,
   "metadata": {},
   "outputs": [],
   "source": [
    "# Loading the document\n",
    "\n",
    "document = WikipediaLoader('Indian Primier League')\n",
    "data = document.load()"
   ]
  },
  {
   "cell_type": "code",
   "execution_count": 31,
   "metadata": {},
   "outputs": [
    {
     "data": {
      "text/plain": [
       "[Document(page_content=\"The Kerala cricket team is a domestic cricket team based in the Indian state of Kerala. It is in the Elite Group of the Ranji Trophy, the premier first class cricket tournament in India. It was known as Travancore-Cochin cricket team until 1957/58.\\nKerala has produced two Indian Test cricketers, Tinu Yohannan and S. Sreesanth. Sanju Samson has represented India in T20Is and ODIs, while Basil Thampi has a national call-up to his name. The team also lined up ex-Indian International player Sadagoppan Ramesh for two years from 2005 to 2007. Robin Uthappa, a former Indian International player currently plays for Kerala. Kerala has also produced Krishna Chandran, who plays at International level for United Arab Emirates.\\n\\n\\n== Playing history ==\\nKerala began competing in the 1957–58 Ranji Trophy, succeeding the Travancore-Cochin cricket team after the states were reorganized. It competed in the South Zone, against Madras/Tamil Nadu, Mysore/Karnataka, Andhra and Hyderabad. In 1957–58 Kerala lost all four matches, three of them by an innings.\\nIn the 1959–60 season, Kerala's Balan Pandit (262*) and George Abraham (198) put up a 410 runs partnership in the fourth wicket, which is the highest in Indian first-class cricket. Pandit's score remained the highest for Kerala in FC format until the 2007–08 season.\\nKerala's best season in Syed Mushtaq Ali Trophy was in 2012–13 season where they finished 3rd, missing out from finals after losing the last league stage match to eventual champions Gujarat.\\nAt the end of the 2016–17 season, Kerala had played 302 first-class matches, and won 46, lost 140 and drawn 116. In List A cricket Kerala had played 120 matches, with 47 wins, 71 losses and two ties.\\nKerala reached the pre-quarterfinal of Ranji Trophy in the 1994–95 season when they progressed as South zone winners under the captaincy of KN Ananthapadmanabhan. They were qualified for the Super League after emerging as the south zone winners in 1996–97 under leadership of Feroze V Rasheed. Kerala reached plate final in 2002–03 and semifinal in 2007–08.\\nIn November 2017, they progressed to the quarter-finals of the Ranji Trophy for the first time, when they finished second in Group B of the 2017–18 tournament.\\nThey put on their best show in Ranji Trophy history when they progressed to the semifinals in 2018–19 season after beating former champions Gujarat in quarters.\\n\\n\\n== Governing body ==\\n\\nThe Kerala Cricket Association (KCA) is the governing body for the Kerala cricket team. It was founded on 1951 and is affiliated to the Board of Control for Cricket in India (BCCI) and the Kerala State Sports Authority (KSSA). It is the parent body of the 14 district associations in Kerala.\\n\\n\\n== Current squad ==\\nPlayers with International caps are listed in bold.\\n\\nUpdated as on 19 January 2024\\n\\n\\n== Support Staff ==\\n\\n\\n== Stadiums ==\\n\\n\\n=== International stadiums ===\\n\\n\\n==== Active Stadium ====\\n\\n\\n==== Former Stadiums ====\\n\\n\\n=== Other stadiums ===\\n\\n\\n== Famous players ==\\n\\nPlayers from Kerala who have played Test cricket for India, along with year of Test debut:\\n\\nTinu Yohannan (2001)\\nShanthakumaran Sreesanth (2006)\\nPlayers from Kerala who have played ODI but not Test cricket for India, along with year of ODI debut:\\n\\nSanju Samson (2021)\\nCricketers who played a large portion of their career for Kerala, and played T20I for India, along with year of T20I debut :\\n\\nSandeep Warrier (2021)\\nCricketers from other state teams who also played for Kerala, and played international cricket for India, along with year of international debut:\\n\\nSujith Somasunder (1996)\\nSadagoppan Ramesh (1999)\\nRobin Uthappa (2006)\\nProminent cricketers at the domestic level:\\n\\nAjay Varma\\nAjay Kudua\\nAntony Sebastian\\nB. Ramprakash\\nBalan Pandit\\nBasil Thampi\\nFeroze V Rasheed\\nKelappan Thampuran\\nK. N. Ananthapadmanabhan\\nK Jayaraman\\nPadmanabhan Prasanth\\nPrasanth Parameswaran\\nKrishna Chandran (Represented UAE)\\nRaiphi Gomez\\nRohan Prem\\nSachin Baby\\nSony Cheruvathur\\nSreekumar Nair\\nSunil Oasis\\nThomas Mathew\\nVA Jagadeesh\", metadata={'title': 'Kerala cricket team', 'summary': 'The Kerala cricket team is a domestic cricket team based in the Indian state of Kerala. It is in the Elite Group of the Ranji Trophy, the premier first class cricket tournament in India. It was known as Travancore-Cochin cricket team until 1957/58.\\nKerala has produced two Indian Test cricketers, Tinu Yohannan and S. Sreesanth. Sanju Samson has represented India in T20Is and ODIs, while Basil Thampi has a national call-up to his name. The team also lined up ex-Indian International player Sadagoppan Ramesh for two years from 2005 to 2007. Robin Uthappa, a former Indian International player currently plays for Kerala. Kerala has also produced Krishna Chandran, who plays at International level for United Arab Emirates.\\n\\n', 'source': 'https://en.wikipedia.org/wiki/Kerala_cricket_team'})]"
      ]
     },
     "execution_count": 31,
     "metadata": {},
     "output_type": "execute_result"
    }
   ],
   "source": [
    "data"
   ]
  },
  {
   "cell_type": "code",
   "execution_count": 32,
   "metadata": {},
   "outputs": [
    {
     "name": "stderr",
     "output_type": "stream",
     "text": [
      "Created a chunk of size 724, which is longer than the specified 500\n",
      "Created a chunk of size 1660, which is longer than the specified 500\n"
     ]
    }
   ],
   "source": [
    "# Now we need to split the document into chunks of text\n",
    "\n",
    "text_splitter  = CharacterTextSplitter(chunk_size = 500)\n",
    "chunkked_docs = text_splitter.split_documents(data)"
   ]
  },
  {
   "cell_type": "code",
   "execution_count": 33,
   "metadata": {},
   "outputs": [
    {
     "name": "stdout",
     "output_type": "stream",
     "text": [
      "1\n",
      "7\n"
     ]
    }
   ],
   "source": [
    "# verify the length of document array and chunked document array\n",
    "\n",
    "print(len(data))\n",
    "print(len(chunkked_docs))"
   ]
  },
  {
   "cell_type": "code",
   "execution_count": 36,
   "metadata": {},
   "outputs": [],
   "source": [
    "# We need to embedd this chunked docs before storing to vector stores\n",
    "\n",
    "embedding = OpenAIEmbeddings()\n",
    "\n",
    "db_AI = Chroma.from_documents(chunkked_docs, embedding=embedding, persist_directory='./AI_docs')"
   ]
  },
  {
   "cell_type": "code",
   "execution_count": 37,
   "metadata": {},
   "outputs": [],
   "source": [
    "db_AI.persist()"
   ]
  },
  {
   "cell_type": "code",
   "execution_count": 38,
   "metadata": {},
   "outputs": [],
   "source": [
    "# Now we need to do the Question answering system.\n",
    "\n",
    "from langchain.chains.question_answering import load_qa_chain\n",
    "from langchain.chains.qa_with_sources import load_qa_with_sources_chain\n",
    "from langchain.chat_models import ChatOpenAI"
   ]
  },
  {
   "cell_type": "code",
   "execution_count": 39,
   "metadata": {},
   "outputs": [],
   "source": [
    "chat_model = ChatOpenAI(temperature=0)"
   ]
  },
  {
   "cell_type": "code",
   "execution_count": 40,
   "metadata": {},
   "outputs": [],
   "source": [
    "chain = load_qa_chain(llm=chat_model, chain_type='stuff')"
   ]
  },
  {
   "cell_type": "code",
   "execution_count": 41,
   "metadata": {},
   "outputs": [],
   "source": [
    "question = \"What is Indian Primier League\""
   ]
  },
  {
   "cell_type": "code",
   "execution_count": 42,
   "metadata": {},
   "outputs": [],
   "source": [
    "db_connection = Chroma(embedding_function=embedding, persist_directory='./AI_docs')"
   ]
  },
  {
   "cell_type": "code",
   "execution_count": 43,
   "metadata": {},
   "outputs": [
    {
     "data": {
      "text/plain": [
       "[Document(page_content='The Kerala cricket team is a domestic cricket team based in the Indian state of Kerala. It is in the Elite Group of the Ranji Trophy, the premier first class cricket tournament in India. It was known as Travancore-Cochin cricket team until 1957/58.\\nKerala has produced two Indian Test cricketers, Tinu Yohannan and S. Sreesanth. Sanju Samson has represented India in T20Is and ODIs, while Basil Thampi has a national call-up to his name. The team also lined up ex-Indian International player Sadagoppan Ramesh for two years from 2005 to 2007. Robin Uthappa, a former Indian International player currently plays for Kerala. Kerala has also produced Krishna Chandran, who plays at International level for United Arab Emirates.', metadata={'source': 'https://en.wikipedia.org/wiki/Kerala_cricket_team', 'summary': 'The Kerala cricket team is a domestic cricket team based in the Indian state of Kerala. It is in the Elite Group of the Ranji Trophy, the premier first class cricket tournament in India. It was known as Travancore-Cochin cricket team until 1957/58.\\nKerala has produced two Indian Test cricketers, Tinu Yohannan and S. Sreesanth. Sanju Samson has represented India in T20Is and ODIs, while Basil Thampi has a national call-up to his name. The team also lined up ex-Indian International player Sadagoppan Ramesh for two years from 2005 to 2007. Robin Uthappa, a former Indian International player currently plays for Kerala. Kerala has also produced Krishna Chandran, who plays at International level for United Arab Emirates.\\n\\n', 'title': 'Kerala cricket team'}),\n",
       " Document(page_content=\"== Playing history ==\\nKerala began competing in the 1957–58 Ranji Trophy, succeeding the Travancore-Cochin cricket team after the states were reorganized. It competed in the South Zone, against Madras/Tamil Nadu, Mysore/Karnataka, Andhra and Hyderabad. In 1957–58 Kerala lost all four matches, three of them by an innings.\\nIn the 1959–60 season, Kerala's Balan Pandit (262*) and George Abraham (198) put up a 410 runs partnership in the fourth wicket, which is the highest in Indian first-class cricket. Pandit's score remained the highest for Kerala in FC format until the 2007–08 season.\\nKerala's best season in Syed Mushtaq Ali Trophy was in 2012–13 season where they finished 3rd, missing out from finals after losing the last league stage match to eventual champions Gujarat.\\nAt the end of the 2016–17 season, Kerala had played 302 first-class matches, and won 46, lost 140 and drawn 116. In List A cricket Kerala had played 120 matches, with 47 wins, 71 losses and two ties.\\nKerala reached the pre-quarterfinal of Ranji Trophy in the 1994–95 season when they progressed as South zone winners under the captaincy of KN Ananthapadmanabhan. They were qualified for the Super League after emerging as the south zone winners in 1996–97 under leadership of Feroze V Rasheed. Kerala reached plate final in 2002–03 and semifinal in 2007–08.\\nIn November 2017, they progressed to the quarter-finals of the Ranji Trophy for the first time, when they finished second in Group B of the 2017–18 tournament.\\nThey put on their best show in Ranji Trophy history when they progressed to the semifinals in 2018–19 season after beating former champions Gujarat in quarters.\", metadata={'source': 'https://en.wikipedia.org/wiki/Kerala_cricket_team', 'summary': 'The Kerala cricket team is a domestic cricket team based in the Indian state of Kerala. It is in the Elite Group of the Ranji Trophy, the premier first class cricket tournament in India. It was known as Travancore-Cochin cricket team until 1957/58.\\nKerala has produced two Indian Test cricketers, Tinu Yohannan and S. Sreesanth. Sanju Samson has represented India in T20Is and ODIs, while Basil Thampi has a national call-up to his name. The team also lined up ex-Indian International player Sadagoppan Ramesh for two years from 2005 to 2007. Robin Uthappa, a former Indian International player currently plays for Kerala. Kerala has also produced Krishna Chandran, who plays at International level for United Arab Emirates.\\n\\n', 'title': 'Kerala cricket team'}),\n",
       " Document(page_content='== Current squad ==\\nPlayers with International caps are listed in bold.\\n\\nUpdated as on 19 January 2024\\n\\n\\n== Support Staff ==\\n\\n\\n== Stadiums ==\\n\\n\\n=== International stadiums ===\\n\\n\\n==== Active Stadium ====\\n\\n\\n==== Former Stadiums ====\\n\\n\\n=== Other stadiums ===\\n\\n\\n== Famous players ==\\n\\nPlayers from Kerala who have played Test cricket for India, along with year of Test debut:', metadata={'source': 'https://en.wikipedia.org/wiki/Kerala_cricket_team', 'summary': 'The Kerala cricket team is a domestic cricket team based in the Indian state of Kerala. It is in the Elite Group of the Ranji Trophy, the premier first class cricket tournament in India. It was known as Travancore-Cochin cricket team until 1957/58.\\nKerala has produced two Indian Test cricketers, Tinu Yohannan and S. Sreesanth. Sanju Samson has represented India in T20Is and ODIs, while Basil Thampi has a national call-up to his name. The team also lined up ex-Indian International player Sadagoppan Ramesh for two years from 2005 to 2007. Robin Uthappa, a former Indian International player currently plays for Kerala. Kerala has also produced Krishna Chandran, who plays at International level for United Arab Emirates.\\n\\n', 'title': 'Kerala cricket team'}),\n",
       " Document(page_content='==== Active Stadium ====\\n\\n\\n==== Former Stadiums ====\\n\\n\\n=== Other stadiums ===\\n\\n\\n== Famous players ==\\n\\nPlayers from Kerala who have played Test cricket for India, along with year of Test debut:\\n\\nTinu Yohannan (2001)\\nShanthakumaran Sreesanth (2006)\\nPlayers from Kerala who have played ODI but not Test cricket for India, along with year of ODI debut:\\n\\nSanju Samson (2021)\\nCricketers who played a large portion of their career for Kerala, and played T20I for India, along with year of T20I debut :', metadata={'source': 'https://en.wikipedia.org/wiki/Kerala_cricket_team', 'summary': 'The Kerala cricket team is a domestic cricket team based in the Indian state of Kerala. It is in the Elite Group of the Ranji Trophy, the premier first class cricket tournament in India. It was known as Travancore-Cochin cricket team until 1957/58.\\nKerala has produced two Indian Test cricketers, Tinu Yohannan and S. Sreesanth. Sanju Samson has represented India in T20Is and ODIs, while Basil Thampi has a national call-up to his name. The team also lined up ex-Indian International player Sadagoppan Ramesh for two years from 2005 to 2007. Robin Uthappa, a former Indian International player currently plays for Kerala. Kerala has also produced Krishna Chandran, who plays at International level for United Arab Emirates.\\n\\n', 'title': 'Kerala cricket team'})]"
      ]
     },
     "execution_count": 43,
     "metadata": {},
     "output_type": "execute_result"
    }
   ],
   "source": [
    "chain_docs = db_connection.similarity_search(query=question)\n",
    "chain_docs"
   ]
  },
  {
   "cell_type": "code",
   "execution_count": 44,
   "metadata": {},
   "outputs": [
    {
     "data": {
      "text/plain": [
       "'The Indian Premier League (IPL) is a professional Twenty20 cricket league in India. It was founded by the Board of Control for Cricket in India (BCCI) in 2008. The IPL features franchise teams representing different cities and regions in India. It is considered one of the most popular and lucrative cricket leagues in the world, known for its high-intensity matches, star players, and entertainment value.'"
      ]
     },
     "execution_count": 44,
     "metadata": {},
     "output_type": "execute_result"
    }
   ],
   "source": [
    "result = chain.run(input_documents = chain_docs, question = question)\n",
    "result"
   ]
  },
  {
   "cell_type": "code",
   "execution_count": 45,
   "metadata": {},
   "outputs": [],
   "source": [
    "chain_with_source =  load_qa_with_sources_chain(llm=chat_model, chain_type='stuff')"
   ]
  },
  {
   "cell_type": "code",
   "execution_count": 46,
   "metadata": {},
   "outputs": [
    {
     "data": {
      "text/plain": [
       "'The Indian Premier League is a professional Twenty20 cricket league in India.\\nSOURCES: https://en.wikipedia.org/wiki/Indian_Premier_League'"
      ]
     },
     "execution_count": 46,
     "metadata": {},
     "output_type": "execute_result"
    }
   ],
   "source": [
    "result = chain_with_source.run(input_documents=chain_docs, question=question)\n",
    "result"
   ]
  },
  {
   "cell_type": "code",
   "execution_count": null,
   "metadata": {},
   "outputs": [],
   "source": []
  }
 ],
 "metadata": {
  "kernelspec": {
   "display_name": "langchain",
   "language": "python",
   "name": "python3"
  },
  "language_info": {
   "codemirror_mode": {
    "name": "ipython",
    "version": 3
   },
   "file_extension": ".py",
   "mimetype": "text/x-python",
   "name": "python",
   "nbconvert_exporter": "python",
   "pygments_lexer": "ipython3",
   "version": "3.11.7"
  }
 },
 "nbformat": 4,
 "nbformat_minor": 2
}
