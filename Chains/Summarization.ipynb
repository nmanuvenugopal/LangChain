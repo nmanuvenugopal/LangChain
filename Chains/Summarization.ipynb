{
 "cells": [
  {
   "cell_type": "code",
   "execution_count": 32,
   "metadata": {},
   "outputs": [],
   "source": [
    "from langchain.chat_models import ChatOpenAI\n",
    "from langchain.text_splitter import CharacterTextSplitter, RecursiveCharacterTextSplitter\n",
    "from langchain.prompts import PromptTemplate, ChatPromptTemplate, HumanMessagePromptTemplate\n",
    "from langchain.embeddings import OpenAIEmbeddings\n",
    "from langchain.vectorstores import Chroma\n",
    "from langchain.chains import LLMChain\n",
    "import os"
   ]
  },
  {
   "cell_type": "code",
   "execution_count": 3,
   "metadata": {},
   "outputs": [],
   "source": [
    "conversation = \"\"\"\n",
    "Financial Advisor: Good morning! How can I assist you today?\n",
    "Customer: Hi, I'm looking for some advice on retirement planning. I'm 45 years old and want to ensure I have enough saved up.\n",
    "Financial Advisor: Sure, I'd be happy to help with that. Do you currently have any retirement accounts, such as a 401(k) or an IRA?\n",
    "Customer: Yes, I have a 401(k) through my employer and a Roth IRA that I contribute to regularly.\n",
    "Financial Advisor: Great. How much do you currently have saved in those accounts?\n",
    "Customer: I have about $150,000 in my 401(k) and $50,000 in my Roth IRA.\n",
    "Financial Advisor: That's a good start. Are you currently making the maximum contributions to both accounts?\n",
    "Customer: I'm contributing the maximum to my Roth IRA, but I'm only contributing 5% of my salary to my 401(k).\n",
    "Financial Advisor: Increasing your 401(k) contributions could be beneficial, especially if your employer offers matching contributions. Do they match your 401(k) contributions?\n",
    "Customer: Yes, they match 50% of my contributions up to 6% of my salary.\n",
    "Financial Advisor: In that case, you might consider increasing your contribution to at least 6% to take full advantage of the employer match. It’s essentially free money for your retirement.\n",
    "Customer: That makes sense. I'll look into increasing my contribution. What about other investment options? Should I diversify more?\n",
    "Financial Advisor: Diversification is definitely important. Are you invested in a mix of stocks, bonds, and other assets within your 401(k) and Roth IRA?\n",
    "Customer: I think so, but I'm not sure about the exact allocation.\n",
    "Financial Advisor: We can review your current portfolio allocation. Generally, a mix of 60% stocks and 40% bonds is recommended for someone your age, but it depends on your risk tolerance. Would you say you are conservative, moderate, or aggressive in your investment approach?\n",
    "Customer: I’d say I'm moderate. I want growth but also want to minimize risk.\n",
    "Financial Advisor: Based on that, a 60/40 or even a 70/30 stock-to-bond ratio might be suitable. Also, consider including some international stocks and real estate investments to further diversify your portfolio.\n",
    "Customer: That sounds good. Is there anything else I should be doing to prepare for retirement?\n",
    "Financial Advisor: Besides saving and investing wisely, it's also important to manage your debt, keep an emergency fund, and regularly review and adjust your retirement plan. Do you have an emergency fund in place?\n",
    "Customer: Yes, I have about six months' worth of living expenses saved in a high-yield savings account.\n",
    "Financial Advisor: That’s excellent. You're on the right track. Regularly reviewing your retirement plan and making adjustments as needed is key to staying on course.\n",
    "Customer: Thank you for the advice. I feel more confident about my retirement planning now.\n",
    "Financial Advisor: You’re welcome! If you have any other questions or need further assistance, feel free to reach out.\n",
    "\"\"\""
   ]
  },
  {
   "cell_type": "code",
   "execution_count": 5,
   "metadata": {},
   "outputs": [],
   "source": [
    "# Authenticating OpenAI services\n",
    "\n",
    "os.environ['OPENAI_API_KEY'] = \"sk-proj-n40SdhtnchmUMUXn64wwT3BlbkFJICSq4aqyi4sKHClnW2O5\""
   ]
  },
  {
   "cell_type": "code",
   "execution_count": 23,
   "metadata": {},
   "outputs": [],
   "source": [
    "chat_model = ChatOpenAI(temperature=0,\n",
    "                        model = 'gpt-4o')"
   ]
  },
  {
   "cell_type": "code",
   "execution_count": 24,
   "metadata": {},
   "outputs": [],
   "source": [
    "# Function for summarization\n",
    "\n",
    "def conversation_Summary(conversation):\n",
    "    summary_prompt = \"Please summarize the following conversation: \\n{conversation}\"\n",
    "    summary_template = ChatPromptTemplate.from_template(summary_prompt)\n",
    "    summary_chain = LLMChain(llm=chat_model,\n",
    "                             prompt = summary_template,\n",
    "                             output_key = 'summary')\n",
    "    result =  summary_chain.run(conversation)\n",
    "    return result"
   ]
  },
  {
   "cell_type": "code",
   "execution_count": 25,
   "metadata": {},
   "outputs": [],
   "source": [
    "# function for Key point extraction\n",
    "\n",
    "def conversation_Keypoints(conversation):\n",
    "    keypoints_prompt = \"Please extract the key information spoken in the following conversation: \\n{conversation}\"\n",
    "    keypoints_template = ChatPromptTemplate.from_template(keypoints_prompt)\n",
    "    keypoints_chains = LLMChain(llm=chat_model, \n",
    "                                prompt=keypoints_template,\n",
    "                                output_key = 'keypoints')\n",
    "    result = keypoints_chains.run(conversation)\n",
    "    return result"
   ]
  },
  {
   "cell_type": "code",
   "execution_count": 16,
   "metadata": {},
   "outputs": [
    {
     "name": "stdout",
     "output_type": "stream",
     "text": [
      "The financial advisor assists a 45-year-old customer with retirement planning. The customer currently has a 401(k) and a Roth IRA, with $150,000 and $50,000 saved, respectively. The advisor suggests increasing 401(k) contributions to take advantage of employer matching, recommends a 60/40 or 70/30 stock-to-bond ratio, and advises diversifying with international stocks and real estate investments. The customer is advised to manage debt, maintain an emergency fund, and regularly review and adjust their retirement plan. The customer feels more confident about their retirement planning after the conversation.\n"
     ]
    }
   ],
   "source": [
    "print(conversation_Summary(conversation=conversation))"
   ]
  },
  {
   "cell_type": "code",
   "execution_count": 18,
   "metadata": {},
   "outputs": [
    {
     "name": "stdout",
     "output_type": "stream",
     "text": [
      "- Customer is 45 years old and looking for advice on retirement planning\n",
      "- Customer has a 401(k) with $150,000 and a Roth IRA with $50,000\n",
      "- Customer is contributing the maximum to Roth IRA but only 5% of salary to 401(k)\n",
      "- Employer matches 50% of contributions up to 6% of salary\n",
      "- Financial Advisor recommends increasing 401(k) contribution to take full advantage of employer match\n",
      "- Financial Advisor recommends diversifying investment portfolio with a mix of stocks, bonds, international stocks, and real estate\n",
      "- Customer has six months' worth of living expenses saved in a high-yield savings account\n",
      "- Financial Advisor emphasizes the importance of managing debt, having an emergency fund, and regularly reviewing and adjusting retirement plan.\n"
     ]
    }
   ],
   "source": [
    "print(conversation_Keypoints(conversation=conversation))"
   ]
  },
  {
   "cell_type": "code",
   "execution_count": 26,
   "metadata": {},
   "outputs": [
    {
     "name": "stdout",
     "output_type": "stream",
     "text": [
      "In the conversation, a 45-year-old customer seeks retirement planning advice from a financial advisor. The customer has $150,000 in a 401(k) and $50,000 in a Roth IRA, contributing the maximum to the Roth IRA but only 5% of their salary to the 401(k). The advisor suggests increasing the 401(k) contribution to at least 6% to maximize employer matching. They discuss the importance of diversification, recommending a 60/40 or 70/30 stock-to-bond ratio based on the customer's moderate risk tolerance, and suggest including international stocks and real estate. The advisor also emphasizes managing debt, maintaining an emergency fund, and regularly reviewing the retirement plan. The customer has an emergency fund with six months' living expenses and feels more confident after the discussion.\n"
     ]
    }
   ],
   "source": [
    "print(conversation_Summary(conversation=conversation))"
   ]
  },
  {
   "cell_type": "code",
   "execution_count": 27,
   "metadata": {},
   "outputs": [
    {
     "name": "stdout",
     "output_type": "stream",
     "text": [
      "Here is the key information extracted from the conversation:\n",
      "\n",
      "1. **Customer's Age and Goal**:\n",
      "   - Customer is 45 years old and seeking retirement planning advice.\n",
      "\n",
      "2. **Current Retirement Accounts**:\n",
      "   - Customer has a 401(k) with $150,000.\n",
      "   - Customer has a Roth IRA with $50,000.\n",
      "\n",
      "3. **Contributions**:\n",
      "   - Customer is contributing the maximum to the Roth IRA.\n",
      "   - Customer is contributing 5% of their salary to the 401(k).\n",
      "\n",
      "4. **Employer Matching**:\n",
      "   - Employer matches 50% of 401(k) contributions up to 6% of the salary.\n",
      "\n",
      "5. **Advisor's Recommendations**:\n",
      "   - Increase 401(k) contributions to at least 6% to take full advantage of the employer match.\n",
      "   - Diversify investments within the 401(k) and Roth IRA.\n",
      "   - Consider a mix of 60% stocks and 40% bonds, or 70/30, based on moderate risk tolerance.\n",
      "   - Include international stocks and real estate investments for further diversification.\n",
      "\n",
      "6. **Additional Financial Advice**:\n",
      "   - Manage debt.\n",
      "   - Maintain an emergency fund.\n",
      "   - Regularly review and adjust the retirement plan.\n",
      "\n",
      "7. **Customer's Financial Preparedness**:\n",
      "   - Customer has an emergency fund with six months' worth of living expenses in a high-yield savings account.\n",
      "\n",
      "8. **Outcome**:\n",
      "   - Customer feels more confident about their retirement planning after the advice.\n"
     ]
    }
   ],
   "source": [
    "print(conversation_Keypoints(conversation=conversation))"
   ]
  },
  {
   "cell_type": "code",
   "execution_count": 28,
   "metadata": {},
   "outputs": [],
   "source": [
    "def verify_key_points(conversation, key_points):\n",
    "    # Split key points into lines\n",
    "    key_points_lines = key_points.strip().split('\\n')\n",
    "    # Initialize a dictionary to hold the verification results\n",
    "    verification_results = {}\n",
    "    \n",
    "    for key_point in key_points_lines:\n",
    "        # Check if each key point is in the conversation\n",
    "        verification_results[key_point] = key_point.strip() in conversation\n",
    "\n",
    "    return verification_results"
   ]
  },
  {
   "cell_type": "code",
   "execution_count": 30,
   "metadata": {},
   "outputs": [],
   "source": [
    "key_points = conversation_Keypoints(conversation=conversation)"
   ]
  },
  {
   "cell_type": "code",
   "execution_count": 31,
   "metadata": {},
   "outputs": [
    {
     "name": "stdout",
     "output_type": "stream",
     "text": [
      "\n",
      "Verification Results:\n",
      "Here is the key information from the conversation:: Not Present\n",
      ": Present\n",
      "- **Customer's Age**: 45 years old.: Not Present\n",
      "- **Current Retirement Accounts**: : Not Present\n",
      "  - 401(k) with $150,000 saved.: Not Present\n",
      "  - Roth IRA with $50,000 saved.: Not Present\n",
      "- **Contributions**:: Not Present\n",
      "  - Maximum contributions to Roth IRA.: Not Present\n",
      "  - 5% of salary to 401(k).: Not Present\n",
      "- **Employer 401(k) Match**: 50% of contributions up to 6% of salary.: Not Present\n",
      "- **Advice Given**:: Not Present\n",
      "  - Increase 401(k) contributions to at least 6% to take full advantage of the employer match.: Not Present\n",
      "  - Diversify investments within 401(k) and Roth IRA.: Not Present\n",
      "  - Recommended portfolio allocation: 60% stocks and 40% bonds, or 70% stocks and 30% bonds, based on moderate risk tolerance.: Not Present\n",
      "  - Consider including international stocks and real estate investments.: Not Present\n",
      "- **Additional Recommendations**:: Not Present\n",
      "  - Manage debt.: Not Present\n",
      "  - Maintain an emergency fund.: Not Present\n",
      "  - Regularly review and adjust the retirement plan.: Not Present\n",
      "- **Customer's Emergency Fund**: Six months' worth of living expenses in a high-yield savings account.: Not Present\n",
      "- **Outcome**: Customer feels more confident about retirement planning.: Not Present\n"
     ]
    }
   ],
   "source": [
    "# Verify the extracted key points\n",
    "verification_results = verify_key_points(conversation, key_points)\n",
    "print(\"\\nVerification Results:\")\n",
    "for key_point, is_present in verification_results.items():\n",
    "    print(f\"{key_point}: {'Present' if is_present else 'Not Present'}\")"
   ]
  },
  {
   "cell_type": "markdown",
   "metadata": {},
   "source": [
    "## Verification part"
   ]
  },
  {
   "cell_type": "code",
   "execution_count": 33,
   "metadata": {},
   "outputs": [],
   "source": [
    "text_splitter =  RecursiveCharacterTextSplitter(chunk_size = 500,\n",
    "                                                chunk_overlap = 40,\n",
    "                                                separators=[\"\\n\\n\", \"\\n\", \" \", \"\"])"
   ]
  },
  {
   "cell_type": "code",
   "execution_count": 36,
   "metadata": {},
   "outputs": [],
   "source": [
    "splits =  text_splitter.split_text(conversation)"
   ]
  },
  {
   "cell_type": "code",
   "execution_count": 39,
   "metadata": {},
   "outputs": [
    {
     "name": "stdout",
     "output_type": "stream",
     "text": [
      "2950\n",
      "7\n"
     ]
    }
   ],
   "source": [
    "print(len(conversation))\n",
    "print(len(splits))"
   ]
  },
  {
   "cell_type": "code",
   "execution_count": 40,
   "metadata": {},
   "outputs": [
    {
     "data": {
      "text/plain": [
       "[\"Financial Advisor: Good morning! How can I assist you today?\\nCustomer: Hi, I'm looking for some advice on retirement planning. I'm 45 years old and want to ensure I have enough saved up.\\nFinancial Advisor: Sure, I'd be happy to help with that. Do you currently have any retirement accounts, such as a 401(k) or an IRA?\\nCustomer: Yes, I have a 401(k) through my employer and a Roth IRA that I contribute to regularly.\\nFinancial Advisor: Great. How much do you currently have saved in those accounts?\",\n",
       " \"Customer: I have about $150,000 in my 401(k) and $50,000 in my Roth IRA.\\nFinancial Advisor: That's a good start. Are you currently making the maximum contributions to both accounts?\\nCustomer: I'm contributing the maximum to my Roth IRA, but I'm only contributing 5% of my salary to my 401(k).\\nFinancial Advisor: Increasing your 401(k) contributions could be beneficial, especially if your employer offers matching contributions. Do they match your 401(k) contributions?\",\n",
       " \"Customer: Yes, they match 50% of my contributions up to 6% of my salary.\\nFinancial Advisor: In that case, you might consider increasing your contribution to at least 6% to take full advantage of the employer match. It’s essentially free money for your retirement.\\nCustomer: That makes sense. I'll look into increasing my contribution. What about other investment options? Should I diversify more?\",\n",
       " \"Financial Advisor: Diversification is definitely important. Are you invested in a mix of stocks, bonds, and other assets within your 401(k) and Roth IRA?\\nCustomer: I think so, but I'm not sure about the exact allocation.\\nFinancial Advisor: We can review your current portfolio allocation. Generally, a mix of 60% stocks and 40% bonds is recommended for someone your age, but it depends on your risk tolerance. Would you say you are conservative, moderate, or aggressive in your investment approach?\",\n",
       " \"Customer: I’d say I'm moderate. I want growth but also want to minimize risk.\\nFinancial Advisor: Based on that, a 60/40 or even a 70/30 stock-to-bond ratio might be suitable. Also, consider including some international stocks and real estate investments to further diversify your portfolio.\\nCustomer: That sounds good. Is there anything else I should be doing to prepare for retirement?\",\n",
       " \"Financial Advisor: Besides saving and investing wisely, it's also important to manage your debt, keep an emergency fund, and regularly review and adjust your retirement plan. Do you have an emergency fund in place?\\nCustomer: Yes, I have about six months' worth of living expenses saved in a high-yield savings account.\\nFinancial Advisor: That’s excellent. You're on the right track. Regularly reviewing your retirement plan and making adjustments as needed is key to staying on course.\",\n",
       " 'Customer: Thank you for the advice. I feel more confident about my retirement planning now.\\nFinancial Advisor: You’re welcome! If you have any other questions or need further assistance, feel free to reach out.']"
      ]
     },
     "execution_count": 40,
     "metadata": {},
     "output_type": "execute_result"
    }
   ],
   "source": [
    "splits"
   ]
  },
  {
   "cell_type": "code",
   "execution_count": 44,
   "metadata": {},
   "outputs": [],
   "source": [
    "embedding  =  OpenAIEmbeddings()\n",
    "conv_db =  Chroma.from_texts(texts=splits, embedding=embedding, persist_directory='./conv_db')"
   ]
  },
  {
   "cell_type": "code",
   "execution_count": 45,
   "metadata": {},
   "outputs": [
    {
     "data": {
      "text/plain": [
       "<langchain_community.vectorstores.chroma.Chroma at 0x173ca4210>"
      ]
     },
     "execution_count": 45,
     "metadata": {},
     "output_type": "execute_result"
    }
   ],
   "source": [
    "conv_db"
   ]
  },
  {
   "cell_type": "code",
   "execution_count": 46,
   "metadata": {},
   "outputs": [],
   "source": [
    "def verify_key_points_with_semantic_search(conversation_chunks, key_points, vector_store):\n",
    "    verification_results = {}\n",
    "    \n",
    "    for key_point in key_points.strip().split('\\n'):\n",
    "        key_point = key_point.strip()\n",
    "        if key_point:\n",
    "            # Perform semantic search\n",
    "            result = vector_store.similarity_search(key_point, k=1)\n",
    "            best_match = result[0].page_content if result else \"Not found\"\n",
    "            verification_results[key_point] = best_match\n",
    "            \n",
    "    return verification_results"
   ]
  },
  {
   "cell_type": "code",
   "execution_count": 47,
   "metadata": {},
   "outputs": [],
   "source": [
    "verification_results = verify_key_points_with_semantic_search(splits, key_points, conv_db)"
   ]
  },
  {
   "cell_type": "code",
   "execution_count": 48,
   "metadata": {},
   "outputs": [
    {
     "name": "stdout",
     "output_type": "stream",
     "text": [
      "\n",
      "Verification Results:\n",
      "Key Point: Here is the key information from the conversation:\n",
      "Best Match: Customer: Thank you for the advice. I feel more confident about my retirement planning now.\n",
      "Financial Advisor: You’re welcome! If you have any other questions or need further assistance, feel free to reach out.\n",
      "\n",
      "Key Point: - **Customer's Age**: 45 years old.\n",
      "Best Match: Financial Advisor: Good morning! How can I assist you today?\n",
      "Customer: Hi, I'm looking for some advice on retirement planning. I'm 45 years old and want to ensure I have enough saved up.\n",
      "Financial Advisor: Sure, I'd be happy to help with that. Do you currently have any retirement accounts, such as a 401(k) or an IRA?\n",
      "Customer: Yes, I have a 401(k) through my employer and a Roth IRA that I contribute to regularly.\n",
      "Financial Advisor: Great. How much do you currently have saved in those accounts?\n",
      "\n",
      "Key Point: - **Current Retirement Accounts**:\n",
      "Best Match: Financial Advisor: Good morning! How can I assist you today?\n",
      "Customer: Hi, I'm looking for some advice on retirement planning. I'm 45 years old and want to ensure I have enough saved up.\n",
      "Financial Advisor: Sure, I'd be happy to help with that. Do you currently have any retirement accounts, such as a 401(k) or an IRA?\n",
      "Customer: Yes, I have a 401(k) through my employer and a Roth IRA that I contribute to regularly.\n",
      "Financial Advisor: Great. How much do you currently have saved in those accounts?\n",
      "\n",
      "Key Point: - 401(k) with $150,000 saved.\n",
      "Best Match: Customer: I have about $150,000 in my 401(k) and $50,000 in my Roth IRA.\n",
      "Financial Advisor: That's a good start. Are you currently making the maximum contributions to both accounts?\n",
      "Customer: I'm contributing the maximum to my Roth IRA, but I'm only contributing 5% of my salary to my 401(k).\n",
      "Financial Advisor: Increasing your 401(k) contributions could be beneficial, especially if your employer offers matching contributions. Do they match your 401(k) contributions?\n",
      "\n",
      "Key Point: - Roth IRA with $50,000 saved.\n",
      "Best Match: Customer: I have about $150,000 in my 401(k) and $50,000 in my Roth IRA.\n",
      "Financial Advisor: That's a good start. Are you currently making the maximum contributions to both accounts?\n",
      "Customer: I'm contributing the maximum to my Roth IRA, but I'm only contributing 5% of my salary to my 401(k).\n",
      "Financial Advisor: Increasing your 401(k) contributions could be beneficial, especially if your employer offers matching contributions. Do they match your 401(k) contributions?\n",
      "\n",
      "Key Point: - **Contributions**:\n",
      "Best Match: Customer: Yes, they match 50% of my contributions up to 6% of my salary.\n",
      "Financial Advisor: In that case, you might consider increasing your contribution to at least 6% to take full advantage of the employer match. It’s essentially free money for your retirement.\n",
      "Customer: That makes sense. I'll look into increasing my contribution. What about other investment options? Should I diversify more?\n",
      "\n",
      "Key Point: - Maximum contributions to Roth IRA.\n",
      "Best Match: Customer: I have about $150,000 in my 401(k) and $50,000 in my Roth IRA.\n",
      "Financial Advisor: That's a good start. Are you currently making the maximum contributions to both accounts?\n",
      "Customer: I'm contributing the maximum to my Roth IRA, but I'm only contributing 5% of my salary to my 401(k).\n",
      "Financial Advisor: Increasing your 401(k) contributions could be beneficial, especially if your employer offers matching contributions. Do they match your 401(k) contributions?\n",
      "\n",
      "Key Point: - 5% of salary to 401(k).\n",
      "Best Match: Customer: I have about $150,000 in my 401(k) and $50,000 in my Roth IRA.\n",
      "Financial Advisor: That's a good start. Are you currently making the maximum contributions to both accounts?\n",
      "Customer: I'm contributing the maximum to my Roth IRA, but I'm only contributing 5% of my salary to my 401(k).\n",
      "Financial Advisor: Increasing your 401(k) contributions could be beneficial, especially if your employer offers matching contributions. Do they match your 401(k) contributions?\n",
      "\n",
      "Key Point: - **Employer 401(k) Match**: 50% of contributions up to 6% of salary.\n",
      "Best Match: Customer: Yes, they match 50% of my contributions up to 6% of my salary.\n",
      "Financial Advisor: In that case, you might consider increasing your contribution to at least 6% to take full advantage of the employer match. It’s essentially free money for your retirement.\n",
      "Customer: That makes sense. I'll look into increasing my contribution. What about other investment options? Should I diversify more?\n",
      "\n",
      "Key Point: - **Advice Given**:\n",
      "Best Match: Customer: Thank you for the advice. I feel more confident about my retirement planning now.\n",
      "Financial Advisor: You’re welcome! If you have any other questions or need further assistance, feel free to reach out.\n",
      "\n",
      "Key Point: - Increase 401(k) contributions to at least 6% to take full advantage of the employer match.\n",
      "Best Match: Customer: Yes, they match 50% of my contributions up to 6% of my salary.\n",
      "Financial Advisor: In that case, you might consider increasing your contribution to at least 6% to take full advantage of the employer match. It’s essentially free money for your retirement.\n",
      "Customer: That makes sense. I'll look into increasing my contribution. What about other investment options? Should I diversify more?\n",
      "\n",
      "Key Point: - Diversify investments within 401(k) and Roth IRA.\n",
      "Best Match: Financial Advisor: Diversification is definitely important. Are you invested in a mix of stocks, bonds, and other assets within your 401(k) and Roth IRA?\n",
      "Customer: I think so, but I'm not sure about the exact allocation.\n",
      "Financial Advisor: We can review your current portfolio allocation. Generally, a mix of 60% stocks and 40% bonds is recommended for someone your age, but it depends on your risk tolerance. Would you say you are conservative, moderate, or aggressive in your investment approach?\n",
      "\n",
      "Key Point: - Recommended portfolio allocation: 60% stocks and 40% bonds, or 70% stocks and 30% bonds, based on moderate risk tolerance.\n",
      "Best Match: Customer: I’d say I'm moderate. I want growth but also want to minimize risk.\n",
      "Financial Advisor: Based on that, a 60/40 or even a 70/30 stock-to-bond ratio might be suitable. Also, consider including some international stocks and real estate investments to further diversify your portfolio.\n",
      "Customer: That sounds good. Is there anything else I should be doing to prepare for retirement?\n",
      "\n",
      "Key Point: - Consider including international stocks and real estate investments.\n",
      "Best Match: Customer: I’d say I'm moderate. I want growth but also want to minimize risk.\n",
      "Financial Advisor: Based on that, a 60/40 or even a 70/30 stock-to-bond ratio might be suitable. Also, consider including some international stocks and real estate investments to further diversify your portfolio.\n",
      "Customer: That sounds good. Is there anything else I should be doing to prepare for retirement?\n",
      "\n",
      "Key Point: - **Additional Recommendations**:\n",
      "Best Match: Customer: Thank you for the advice. I feel more confident about my retirement planning now.\n",
      "Financial Advisor: You’re welcome! If you have any other questions or need further assistance, feel free to reach out.\n",
      "\n",
      "Key Point: - Manage debt.\n",
      "Best Match: Financial Advisor: Besides saving and investing wisely, it's also important to manage your debt, keep an emergency fund, and regularly review and adjust your retirement plan. Do you have an emergency fund in place?\n",
      "Customer: Yes, I have about six months' worth of living expenses saved in a high-yield savings account.\n",
      "Financial Advisor: That’s excellent. You're on the right track. Regularly reviewing your retirement plan and making adjustments as needed is key to staying on course.\n",
      "\n",
      "Key Point: - Maintain an emergency fund.\n",
      "Best Match: Financial Advisor: Besides saving and investing wisely, it's also important to manage your debt, keep an emergency fund, and regularly review and adjust your retirement plan. Do you have an emergency fund in place?\n",
      "Customer: Yes, I have about six months' worth of living expenses saved in a high-yield savings account.\n",
      "Financial Advisor: That’s excellent. You're on the right track. Regularly reviewing your retirement plan and making adjustments as needed is key to staying on course.\n",
      "\n",
      "Key Point: - Regularly review and adjust the retirement plan.\n",
      "Best Match: Financial Advisor: Besides saving and investing wisely, it's also important to manage your debt, keep an emergency fund, and regularly review and adjust your retirement plan. Do you have an emergency fund in place?\n",
      "Customer: Yes, I have about six months' worth of living expenses saved in a high-yield savings account.\n",
      "Financial Advisor: That’s excellent. You're on the right track. Regularly reviewing your retirement plan and making adjustments as needed is key to staying on course.\n",
      "\n",
      "Key Point: - **Customer's Emergency Fund**: Six months' worth of living expenses in a high-yield savings account.\n",
      "Best Match: Financial Advisor: Besides saving and investing wisely, it's also important to manage your debt, keep an emergency fund, and regularly review and adjust your retirement plan. Do you have an emergency fund in place?\n",
      "Customer: Yes, I have about six months' worth of living expenses saved in a high-yield savings account.\n",
      "Financial Advisor: That’s excellent. You're on the right track. Regularly reviewing your retirement plan and making adjustments as needed is key to staying on course.\n",
      "\n",
      "Key Point: - **Outcome**: Customer feels more confident about retirement planning.\n",
      "Best Match: Customer: Thank you for the advice. I feel more confident about my retirement planning now.\n",
      "Financial Advisor: You’re welcome! If you have any other questions or need further assistance, feel free to reach out.\n",
      "\n"
     ]
    }
   ],
   "source": [
    "print(\"\\nVerification Results:\")\n",
    "for key_point, best_match in verification_results.items():\n",
    "    print(f\"Key Point: {key_point}\\nBest Match: {best_match}\\n\")"
   ]
  },
  {
   "cell_type": "code",
   "execution_count": null,
   "metadata": {},
   "outputs": [],
   "source": []
  }
 ],
 "metadata": {
  "kernelspec": {
   "display_name": "langchain",
   "language": "python",
   "name": "python3"
  },
  "language_info": {
   "codemirror_mode": {
    "name": "ipython",
    "version": 3
   },
   "file_extension": ".py",
   "mimetype": "text/x-python",
   "name": "python",
   "nbconvert_exporter": "python",
   "pygments_lexer": "ipython3",
   "version": "3.11.7"
  }
 },
 "nbformat": 4,
 "nbformat_minor": 2
}
