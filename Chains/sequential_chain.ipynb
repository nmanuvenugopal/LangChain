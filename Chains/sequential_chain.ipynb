{
 "cells": [
  {
   "cell_type": "code",
   "execution_count": 2,
   "metadata": {},
   "outputs": [],
   "source": [
    "import os\n",
    "from langchain.chat_models import ChatOpenAI\n",
    "from langchain.prompts import ChatPromptTemplate, HumanMessagePromptTemplate\n",
    "from langchain.chains import LLMChain, SequentialChain"
   ]
  },
  {
   "cell_type": "code",
   "execution_count": 3,
   "metadata": {},
   "outputs": [],
   "source": [
    "# Setting the environment path and autheticating the OpenAI API\n",
    "\n",
    "os.environ[\"OPENAI_API_KEY\"] = \"Your API key\""
   ]
  },
  {
   "cell_type": "code",
   "execution_count": 6,
   "metadata": {},
   "outputs": [],
   "source": [
    "# Instance of the chat model\n",
    "\n",
    "chat_model = ChatOpenAI(temperature=0)"
   ]
  },
  {
   "cell_type": "markdown",
   "metadata": {},
   "source": [
    "### Our motive is to get  Performance summary ==> Weaknesses ==> steps to overcome "
   ]
  },
  {
   "cell_type": "code",
   "execution_count": 5,
   "metadata": {},
   "outputs": [],
   "source": [
    "# Perompt number 1\n",
    "\n",
    "template1 = \"Give the summary of this employee's prerfomance review \\n {review}\"\n",
    "prompt1 = ChatPromptTemplate.from_template(template=template1)\n",
    "chain1 = LLMChain(llm=chat_model, \n",
    "                  prompt=prompt1, \n",
    "                  output_key = \"summary\")"
   ]
  },
  {
   "cell_type": "code",
   "execution_count": 7,
   "metadata": {},
   "outputs": [],
   "source": [
    "template2 = \"Identify the key employee weaknesses from this summary \\n {summary}\"\n",
    "prompt2 = ChatPromptTemplate.from_template(template=template2)\n",
    "chain2 = LLMChain(llm=chat_model, \n",
    "                  prompt=prompt2,\n",
    "                  output_key = \"weaknesses\")\n"
   ]
  },
  {
   "cell_type": "code",
   "execution_count": 8,
   "metadata": {},
   "outputs": [],
   "source": [
    "template3 = \"Create a personalised plan to help address and fix this weaknesses \\n {weaknesses}\"\n",
    "prompt3 = ChatPromptTemplate.from_template(template3)\n",
    "chain3 = LLMChain(llm=chat_model,\n",
    "                  prompt = prompt3,\n",
    "                  output_key = \"plans\")"
   ]
  },
  {
   "cell_type": "code",
   "execution_count": 9,
   "metadata": {},
   "outputs": [],
   "source": [
    "# Its better to define the input and output varibale to the chain\n",
    "\n",
    "seq_chain = SequentialChain(chains=[chain1, chain2, chain3],\n",
    "                            input_variables = ['review'],\n",
    "                            output_variables = ['summary', 'weaknesses', 'plans'],\n",
    "                            verbose = True)"
   ]
  },
  {
   "cell_type": "code",
   "execution_count": 10,
   "metadata": {},
   "outputs": [],
   "source": [
    "employee_review = '''\n",
    "Employee Information:\n",
    "Name: Joe Schmo\n",
    "Position: Software Engineer\n",
    "Date of Review: July 14, 2023\n",
    "\n",
    "Strengths:\n",
    "Joe is a highly skilled software engineer with a deep understanding of programming languages, algorithms, and software development best practices. His technical expertise shines through in his ability to efficiently solve complex problems and deliver high-quality code.\n",
    "\n",
    "One of Joe's greatest strengths is his collaborative nature. He actively engages with cross-functional teams, contributing valuable insights and seeking input from others. His open-mindedness and willingness to learn from colleagues make him a true team player.\n",
    "\n",
    "Joe consistently demonstrates initiative and self-motivation. He takes the lead in seeking out new projects and challenges, and his proactive attitude has led to significant improvements in existing processes and systems. His dedication to self-improvement and growth is commendable.\n",
    "\n",
    "Another notable strength is Joe's adaptability. He has shown great flexibility in handling changing project requirements and learning new technologies. This adaptability allows him to seamlessly transition between different projects and tasks, making him a valuable asset to the team.\n",
    "\n",
    "Joe's problem-solving skills are exceptional. He approaches issues with a logical mindset and consistently finds effective solutions, often thinking outside the box. His ability to break down complex problems into manageable parts is key to his success in resolving issues efficiently.\n",
    "\n",
    "Weaknesses:\n",
    "While Joe possesses numerous strengths, there are a few areas where he could benefit from improvement. One such area is time management. Occasionally, Joe struggles with effectively managing his time, resulting in missed deadlines or the need for additional support to complete tasks on time. Developing better prioritization and time management techniques would greatly enhance his efficiency.\n",
    "\n",
    "Another area for improvement is Joe's written communication skills. While he communicates well verbally, there have been instances where his written documentation lacked clarity, leading to confusion among team members. Focusing on enhancing his written communication abilities will help him effectively convey ideas and instructions.\n",
    "\n",
    "Additionally, Joe tends to take on too many responsibilities and hesitates to delegate tasks to others. This can result in an excessive workload and potential burnout. Encouraging him to delegate tasks appropriately will not only alleviate his own workload but also foster a more balanced and productive team environment.\n",
    "'''"
   ]
  },
  {
   "cell_type": "code",
   "execution_count": 12,
   "metadata": {},
   "outputs": [
    {
     "name": "stdout",
     "output_type": "stream",
     "text": [
      "\n",
      "\n",
      "\u001b[1m> Entering new SequentialChain chain...\u001b[0m\n",
      "\n",
      "\u001b[1m> Finished chain.\u001b[0m\n"
     ]
    }
   ],
   "source": [
    "\n",
    "result =  seq_chain(employee_review)"
   ]
  },
  {
   "cell_type": "code",
   "execution_count": 13,
   "metadata": {},
   "outputs": [
    {
     "data": {
      "text/plain": [
       "dict"
      ]
     },
     "execution_count": 13,
     "metadata": {},
     "output_type": "execute_result"
    }
   ],
   "source": [
    "# Even though the verbose value is True, we didn't see the detailed out like we seen in Simple \n",
    "# result will be in the form of the dictionary and the key will the output_key that we mentioned while creating chain.\n",
    "\n",
    "type(result)"
   ]
  },
  {
   "cell_type": "code",
   "execution_count": 14,
   "metadata": {},
   "outputs": [
    {
     "data": {
      "text/plain": [
       "dict_keys(['review', 'summary', 'weaknesses', 'plans'])"
      ]
     },
     "execution_count": 14,
     "metadata": {},
     "output_type": "execute_result"
    }
   ],
   "source": [
    "result.keys()"
   ]
  },
  {
   "cell_type": "code",
   "execution_count": 16,
   "metadata": {},
   "outputs": [
    {
     "name": "stdout",
     "output_type": "stream",
     "text": [
      "\n",
      "Employee Information:\n",
      "Name: Joe Schmo\n",
      "Position: Software Engineer\n",
      "Date of Review: July 14, 2023\n",
      "\n",
      "Strengths:\n",
      "Joe is a highly skilled software engineer with a deep understanding of programming languages, algorithms, and software development best practices. His technical expertise shines through in his ability to efficiently solve complex problems and deliver high-quality code.\n",
      "\n",
      "One of Joe's greatest strengths is his collaborative nature. He actively engages with cross-functional teams, contributing valuable insights and seeking input from others. His open-mindedness and willingness to learn from colleagues make him a true team player.\n",
      "\n",
      "Joe consistently demonstrates initiative and self-motivation. He takes the lead in seeking out new projects and challenges, and his proactive attitude has led to significant improvements in existing processes and systems. His dedication to self-improvement and growth is commendable.\n",
      "\n",
      "Another notable strength is Joe's adaptability. He has shown great flexibility in handling changing project requirements and learning new technologies. This adaptability allows him to seamlessly transition between different projects and tasks, making him a valuable asset to the team.\n",
      "\n",
      "Joe's problem-solving skills are exceptional. He approaches issues with a logical mindset and consistently finds effective solutions, often thinking outside the box. His ability to break down complex problems into manageable parts is key to his success in resolving issues efficiently.\n",
      "\n",
      "Weaknesses:\n",
      "While Joe possesses numerous strengths, there are a few areas where he could benefit from improvement. One such area is time management. Occasionally, Joe struggles with effectively managing his time, resulting in missed deadlines or the need for additional support to complete tasks on time. Developing better prioritization and time management techniques would greatly enhance his efficiency.\n",
      "\n",
      "Another area for improvement is Joe's written communication skills. While he communicates well verbally, there have been instances where his written documentation lacked clarity, leading to confusion among team members. Focusing on enhancing his written communication abilities will help him effectively convey ideas and instructions.\n",
      "\n",
      "Additionally, Joe tends to take on too many responsibilities and hesitates to delegate tasks to others. This can result in an excessive workload and potential burnout. Encouraging him to delegate tasks appropriately will not only alleviate his own workload but also foster a more balanced and productive team environment.\n",
      "\n"
     ]
    }
   ],
   "source": [
    "# we can retrieve the out by giving keys\n",
    "\n",
    "print(result['review'])"
   ]
  },
  {
   "cell_type": "code",
   "execution_count": 17,
   "metadata": {},
   "outputs": [
    {
     "name": "stdout",
     "output_type": "stream",
     "text": [
      "Overall, Joe Schmo's performance review highlights his exceptional technical skills, collaborative nature, initiative, adaptability, and problem-solving abilities. While he excels in many areas, there are opportunities for improvement in time management, written communication, and delegation of tasks. By addressing these areas, Joe can further enhance his efficiency, communication, and overall effectiveness as a software engineer.\n"
     ]
    }
   ],
   "source": [
    "print(result['summary'])"
   ]
  },
  {
   "cell_type": "code",
   "execution_count": 18,
   "metadata": {},
   "outputs": [
    {
     "name": "stdout",
     "output_type": "stream",
     "text": [
      "Key employee weaknesses identified in the summary are time management, written communication, and delegation of tasks.\n"
     ]
    }
   ],
   "source": [
    "print(result['weaknesses'])"
   ]
  },
  {
   "cell_type": "code",
   "execution_count": 19,
   "metadata": {},
   "outputs": [
    {
     "name": "stdout",
     "output_type": "stream",
     "text": [
      "1. Time Management:\n",
      "- Encourage the employee to prioritize tasks and create a daily to-do list to help them stay organized and focused.\n",
      "- Provide training on time management techniques such as the Pomodoro technique or setting SMART goals.\n",
      "- Set clear deadlines for projects and check in regularly to ensure they are on track.\n",
      "- Encourage the employee to limit distractions and set boundaries to improve their focus and productivity.\n",
      "\n",
      "2. Written Communication:\n",
      "- Offer writing workshops or courses to improve the employee's writing skills.\n",
      "- Provide templates or examples of effective written communication for reference.\n",
      "- Encourage the employee to proofread and edit their work before submitting it.\n",
      "- Assign writing tasks with clear guidelines and expectations to help them practice and improve their skills.\n",
      "\n",
      "3. Delegation of Tasks:\n",
      "- Provide training on effective delegation techniques and how to assign tasks based on each team member's strengths and skills.\n",
      "- Encourage the employee to communicate clearly and set expectations when delegating tasks to ensure successful outcomes.\n",
      "- Offer support and guidance on how to monitor progress and provide feedback to team members.\n",
      "- Encourage the employee to trust their team members and empower them to take ownership of their tasks.\n",
      "\n",
      "Overall, it is important to provide ongoing support, feedback, and resources to help the employee address and improve their weaknesses. Regular check-ins and performance evaluations can also help track progress and adjust the plan as needed.\n"
     ]
    }
   ],
   "source": [
    "print(result['plans'])"
   ]
  },
  {
   "cell_type": "code",
   "execution_count": null,
   "metadata": {},
   "outputs": [],
   "source": []
  }
 ],
 "metadata": {
  "kernelspec": {
   "display_name": "langchain",
   "language": "python",
   "name": "python3"
  },
  "language_info": {
   "codemirror_mode": {
    "name": "ipython",
    "version": 3
   },
   "file_extension": ".py",
   "mimetype": "text/x-python",
   "name": "python",
   "nbconvert_exporter": "python",
   "pygments_lexer": "ipython3",
   "version": "3.11.7"
  }
 },
 "nbformat": 4,
 "nbformat_minor": 2
}
