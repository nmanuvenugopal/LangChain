{
 "cells": [
  {
   "cell_type": "code",
   "execution_count": 2,
   "metadata": {},
   "outputs": [],
   "source": [
    "import os\n",
    "from langchain.chat_models import ChatOpenAI\n",
    "from langchain.prompts.chat import ChatPromptTemplate, HumanMessagePromptTemplate\n",
    "from langchain.chains import LLMChain, SimpleSequentialChain"
   ]
  },
  {
   "cell_type": "code",
   "execution_count": 3,
   "metadata": {},
   "outputs": [],
   "source": [
    "# Setting the environment path and autheticating the OpenAI API\n",
    "\n",
    "os.environ[\"OPENAI_API_KEY\"] = \"Your API key\""
   ]
  },
  {
   "cell_type": "code",
   "execution_count": 4,
   "metadata": {},
   "outputs": [],
   "source": [
    "# Creating instance of chat model\n",
    "\n",
    "chat_model = ChatOpenAI(temperature=0)"
   ]
  },
  {
   "cell_type": "code",
   "execution_count": 5,
   "metadata": {},
   "outputs": [],
   "source": [
    "# Let's create chain number 1\n",
    "\n",
    "template1 = \"Give me simple bullets point outline for the blog post topic {topic}\"\n",
    "prompt_template1 = ChatPromptTemplate.from_template(template=template1)\n",
    "chain1 = LLMChain(llm=chat_model, prompt=prompt_template1)"
   ]
  },
  {
   "cell_type": "code",
   "execution_count": 6,
   "metadata": {},
   "outputs": [],
   "source": [
    "# Create chain 2\n",
    "\n",
    "template2 = \"Write a blogpost using this outline {outline}\"\n",
    "prompt_template2 = ChatPromptTemplate.from_template(template2)\n",
    "chain2 = LLMChain(llm=chat_model, prompt=prompt_template2)"
   ]
  },
  {
   "cell_type": "code",
   "execution_count": 9,
   "metadata": {},
   "outputs": [
    {
     "name": "stdout",
     "output_type": "stream",
     "text": [
      "\n",
      "\n",
      "\u001b[1m> Entering new SimpleSequentialChain chain...\u001b[0m\n",
      "\u001b[36;1m\u001b[1;3m- Introduction to the English Premier League\n",
      "- History and background of the league\n",
      "- Overview of the current season\n",
      "- Top teams and players to watch\n",
      "- Key matches and rivalries\n",
      "- Analysis of the league's impact on global football\n",
      "- Discussion of the league's popularity and fan base\n",
      "- Predictions for the upcoming season\n",
      "- Conclusion and final thoughts on the English Premier League\u001b[0m\n",
      "\u001b[33;1m\u001b[1;3mThe English Premier League, often referred to as the EPL, is one of the most popular and competitive football leagues in the world. With a rich history and a passionate fan base, the league has become a global phenomenon, attracting millions of viewers from all corners of the globe. In this blog post, we will take a closer look at the English Premier League, its history, top teams and players, key matches and rivalries, as well as its impact on global football.\n",
      "\n",
      "History and Background of the League\n",
      "\n",
      "The English Premier League was founded in 1992, following the decision of the top clubs in England to break away from the Football League and form their own elite competition. Since then, the league has grown in popularity and stature, attracting some of the best players and managers in the world. With its fast-paced and exciting style of play, the EPL has become a favorite among football fans worldwide.\n",
      "\n",
      "Overview of the Current Season\n",
      "\n",
      "The current season of the English Premier League is shaping up to be one of the most competitive in recent memory. With top teams like Manchester City, Liverpool, Chelsea, and Manchester United all vying for the title, the race for the championship promises to be a thrilling one. With talented players like Mohamed Salah, Harry Kane, Kevin De Bruyne, and Bruno Fernandes lighting up the league, fans can expect plenty of goals and drama in the coming months.\n",
      "\n",
      "Top Teams and Players to Watch\n",
      "\n",
      "As mentioned earlier, teams like Manchester City, Liverpool, Chelsea, and Manchester United are among the favorites to win the league this season. With star players like Mohamed Salah, Harry Kane, Kevin De Bruyne, and Bruno Fernandes leading the charge, these teams have the firepower to compete at the highest level. Keep an eye on these players as they look to make a big impact on the league this season.\n",
      "\n",
      "Key Matches and Rivalries\n",
      "\n",
      "The English Premier League is known for its intense rivalries and high-stakes matches. From the Manchester Derby between Manchester United and Manchester City to the North London Derby between Arsenal and Tottenham Hotspur, these games always deliver plenty of excitement and drama. Fans can expect more of the same this season as these teams battle it out for bragging rights and crucial points in the league standings.\n",
      "\n",
      "Analysis of the League's Impact on Global Football\n",
      "\n",
      "The English Premier League's impact on global football cannot be overstated. With its massive television deals, lucrative sponsorships, and worldwide fan base, the EPL has become a powerhouse in the world of football. The league's success has helped raise the profile of English football and attract top talent from around the world, making it one of the most competitive and entertaining leagues in the sport.\n",
      "\n",
      "Discussion of the League's Popularity and Fan Base\n",
      "\n",
      "The English Premier League's popularity is evident in its massive fan base, both in England and abroad. With millions of fans tuning in to watch games each week, the league has become a cultural phenomenon, with supporters from all walks of life coming together to cheer on their favorite teams. Whether you're a die-hard fan or a casual viewer, the EPL offers something for everyone to enjoy.\n",
      "\n",
      "Predictions for the Upcoming Season\n",
      "\n",
      "As we look ahead to the rest of the season, it's difficult to predict which team will come out on top. With so much talent and competition in the league, anything can happen. However, one thing is for certain – fans can expect plenty of excitement, drama, and memorable moments as the race for the title heats up. Keep an eye on your favorite teams and players as they look to make their mark on the English Premier League this season.\n",
      "\n",
      "Conclusion and Final Thoughts on the English Premier League\n",
      "\n",
      "In conclusion, the English Premier League is a league like no other, with its rich history, top teams and players, intense rivalries, and global impact. As the season unfolds, fans can expect plenty of thrills and excitement as the best teams in England battle it out for supremacy. Whether you're a seasoned supporter or a newcomer to the sport, the EPL offers something for everyone to enjoy. So sit back, relax, and get ready for another thrilling season of English football.\u001b[0m\n",
      "\n",
      "\u001b[1m> Finished chain.\u001b[0m\n"
     ]
    }
   ],
   "source": [
    "simple_sequential_chain = SimpleSequentialChain(chains=[chain1, chain2], verbose=True)\n",
    "result = simple_sequential_chain.run(\"Englisg premier league\")"
   ]
  },
  {
   "cell_type": "code",
   "execution_count": 10,
   "metadata": {},
   "outputs": [
    {
     "data": {
      "text/plain": [
       "str"
      ]
     },
     "execution_count": 10,
     "metadata": {},
     "output_type": "execute_result"
    }
   ],
   "source": [
    "type(result)"
   ]
  },
  {
   "cell_type": "code",
   "execution_count": null,
   "metadata": {},
   "outputs": [],
   "source": []
  }
 ],
 "metadata": {
  "kernelspec": {
   "display_name": "langchain",
   "language": "python",
   "name": "python3"
  },
  "language_info": {
   "codemirror_mode": {
    "name": "ipython",
    "version": 3
   },
   "file_extension": ".py",
   "mimetype": "text/x-python",
   "name": "python",
   "nbconvert_exporter": "python",
   "pygments_lexer": "ipython3",
   "version": "3.11.7"
  }
 },
 "nbformat": 4,
 "nbformat_minor": 2
}
