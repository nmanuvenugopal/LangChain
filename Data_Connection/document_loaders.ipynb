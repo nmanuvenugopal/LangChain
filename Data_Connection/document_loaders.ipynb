{
 "cells": [
  {
   "cell_type": "markdown",
   "metadata": {},
   "source": [
    "## CSV file "
   ]
  },
  {
   "cell_type": "code",
   "execution_count": 12,
   "metadata": {},
   "outputs": [],
   "source": [
    "# We need to install the CSV loader, PDF loader and HTML loader from data_loader class\n",
    "\n",
    "from langchain.document_loaders import CSVLoader"
   ]
  },
  {
   "cell_type": "code",
   "execution_count": 2,
   "metadata": {},
   "outputs": [
    {
     "data": {
      "text/plain": [
       "'/Users/manuvenugopal/Documents/LangChain/Data_Connection'"
      ]
     },
     "execution_count": 2,
     "metadata": {},
     "output_type": "execute_result"
    }
   ],
   "source": [
    "pwd"
   ]
  },
  {
   "cell_type": "code",
   "execution_count": 3,
   "metadata": {},
   "outputs": [],
   "source": [
    "# Create an instance of the loader objects and specify the path to the input files\n",
    "\n",
    "loader_csv = CSVLoader(\"/Users/manuvenugopal/Downloads/LangChainNotebooks-UNZIP-ME/01-Data-Connections/some_data/penguins.csv\")"
   ]
  },
  {
   "cell_type": "code",
   "execution_count": 5,
   "metadata": {},
   "outputs": [],
   "source": [
    "# It is in this step that the data get loaded\n",
    "\n",
    "data = loader_csv.load()"
   ]
  },
  {
   "cell_type": "code",
   "execution_count": 7,
   "metadata": {},
   "outputs": [
    {
     "data": {
      "text/plain": [
       "[Document(page_content='species: Adelie\\nisland: Torgersen\\nbill_length_mm: 39.1\\nbill_depth_mm: 18.7\\nflipper_length_mm: 181\\nbody_mass_g: 3750\\nsex: MALE', metadata={'source': '/Users/manuvenugopal/Downloads/LangChainNotebooks-UNZIP-ME/01-Data-Connections/some_data/penguins.csv', 'row': 0}),\n",
       " Document(page_content='species: Adelie\\nisland: Torgersen\\nbill_length_mm: 39.5\\nbill_depth_mm: 17.4\\nflipper_length_mm: 186\\nbody_mass_g: 3800\\nsex: FEMALE', metadata={'source': '/Users/manuvenugopal/Downloads/LangChainNotebooks-UNZIP-ME/01-Data-Connections/some_data/penguins.csv', 'row': 1}),\n",
       " Document(page_content='species: Adelie\\nisland: Torgersen\\nbill_length_mm: 40.3\\nbill_depth_mm: 18\\nflipper_length_mm: 195\\nbody_mass_g: 3250\\nsex: FEMALE', metadata={'source': '/Users/manuvenugopal/Downloads/LangChainNotebooks-UNZIP-ME/01-Data-Connections/some_data/penguins.csv', 'row': 2}),\n",
       " Document(page_content='species: Adelie\\nisland: Torgersen\\nbill_length_mm: \\nbill_depth_mm: \\nflipper_length_mm: \\nbody_mass_g: \\nsex: ', metadata={'source': '/Users/manuvenugopal/Downloads/LangChainNotebooks-UNZIP-ME/01-Data-Connections/some_data/penguins.csv', 'row': 3}),\n",
       " Document(page_content='species: Adelie\\nisland: Torgersen\\nbill_length_mm: 36.7\\nbill_depth_mm: 19.3\\nflipper_length_mm: 193\\nbody_mass_g: 3450\\nsex: FEMALE', metadata={'source': '/Users/manuvenugopal/Downloads/LangChainNotebooks-UNZIP-ME/01-Data-Connections/some_data/penguins.csv', 'row': 4}),\n",
       " Document(page_content='species: Adelie\\nisland: Torgersen\\nbill_length_mm: 39.3\\nbill_depth_mm: 20.6\\nflipper_length_mm: 190\\nbody_mass_g: 3650\\nsex: MALE', metadata={'source': '/Users/manuvenugopal/Downloads/LangChainNotebooks-UNZIP-ME/01-Data-Connections/some_data/penguins.csv', 'row': 5}),\n",
       " Document(page_content='species: Adelie\\nisland: Torgersen\\nbill_length_mm: 38.9\\nbill_depth_mm: 17.8\\nflipper_length_mm: 181\\nbody_mass_g: 3625\\nsex: FEMALE', metadata={'source': '/Users/manuvenugopal/Downloads/LangChainNotebooks-UNZIP-ME/01-Data-Connections/some_data/penguins.csv', 'row': 6}),\n",
       " Document(page_content='species: Adelie\\nisland: Torgersen\\nbill_length_mm: 39.2\\nbill_depth_mm: 19.6\\nflipper_length_mm: 195\\nbody_mass_g: 4675\\nsex: MALE', metadata={'source': '/Users/manuvenugopal/Downloads/LangChainNotebooks-UNZIP-ME/01-Data-Connections/some_data/penguins.csv', 'row': 7}),\n",
       " Document(page_content='species: Adelie\\nisland: Torgersen\\nbill_length_mm: 34.1\\nbill_depth_mm: 18.1\\nflipper_length_mm: 193\\nbody_mass_g: 3475\\nsex: ', metadata={'source': '/Users/manuvenugopal/Downloads/LangChainNotebooks-UNZIP-ME/01-Data-Connections/some_data/penguins.csv', 'row': 8}),\n",
       " Document(page_content='species: Adelie\\nisland: Torgersen\\nbill_length_mm: 42\\nbill_depth_mm: 20.2\\nflipper_length_mm: 190\\nbody_mass_g: 4250\\nsex: ', metadata={'source': '/Users/manuvenugopal/Downloads/LangChainNotebooks-UNZIP-ME/01-Data-Connections/some_data/penguins.csv', 'row': 9}),\n",
       " Document(page_content='species: Adelie\\nisland: Torgersen\\nbill_length_mm: 37.8\\nbill_depth_mm: 17.1\\nflipper_length_mm: 186\\nbody_mass_g: 3300\\nsex: ', metadata={'source': '/Users/manuvenugopal/Downloads/LangChainNotebooks-UNZIP-ME/01-Data-Connections/some_data/penguins.csv', 'row': 10}),\n",
       " Document(page_content='species: Adelie\\nisland: Torgersen\\nbill_length_mm: 37.8\\nbill_depth_mm: 17.3\\nflipper_length_mm: 180\\nbody_mass_g: 3700\\nsex: ', metadata={'source': '/Users/manuvenugopal/Downloads/LangChainNotebooks-UNZIP-ME/01-Data-Connections/some_data/penguins.csv', 'row': 11}),\n",
       " Document(page_content='species: Adelie\\nisland: Torgersen\\nbill_length_mm: 41.1\\nbill_depth_mm: 17.6\\nflipper_length_mm: 182\\nbody_mass_g: 3200\\nsex: FEMALE', metadata={'source': '/Users/manuvenugopal/Downloads/LangChainNotebooks-UNZIP-ME/01-Data-Connections/some_data/penguins.csv', 'row': 12}),\n",
       " Document(page_content='species: Adelie\\nisland: Torgersen\\nbill_length_mm: 38.6\\nbill_depth_mm: 21.2\\nflipper_length_mm: 191\\nbody_mass_g: 3800\\nsex: MALE', metadata={'source': '/Users/manuvenugopal/Downloads/LangChainNotebooks-UNZIP-ME/01-Data-Connections/some_data/penguins.csv', 'row': 13}),\n",
       " Document(page_content='species: Adelie\\nisland: Torgersen\\nbill_length_mm: 34.6\\nbill_depth_mm: 21.1\\nflipper_length_mm: 198\\nbody_mass_g: 4400\\nsex: MALE', metadata={'source': '/Users/manuvenugopal/Downloads/LangChainNotebooks-UNZIP-ME/01-Data-Connections/some_data/penguins.csv', 'row': 14}),\n",
       " Document(page_content='species: Adelie\\nisland: Torgersen\\nbill_length_mm: 36.6\\nbill_depth_mm: 17.8\\nflipper_length_mm: 185\\nbody_mass_g: 3700\\nsex: FEMALE', metadata={'source': '/Users/manuvenugopal/Downloads/LangChainNotebooks-UNZIP-ME/01-Data-Connections/some_data/penguins.csv', 'row': 15}),\n",
       " Document(page_content='species: Adelie\\nisland: Torgersen\\nbill_length_mm: 38.7\\nbill_depth_mm: 19\\nflipper_length_mm: 195\\nbody_mass_g: 3450\\nsex: FEMALE', metadata={'source': '/Users/manuvenugopal/Downloads/LangChainNotebooks-UNZIP-ME/01-Data-Connections/some_data/penguins.csv', 'row': 16}),\n",
       " Document(page_content='species: Adelie\\nisland: Torgersen\\nbill_length_mm: 42.5\\nbill_depth_mm: 20.7\\nflipper_length_mm: 197\\nbody_mass_g: 4500\\nsex: MALE', metadata={'source': '/Users/manuvenugopal/Downloads/LangChainNotebooks-UNZIP-ME/01-Data-Connections/some_data/penguins.csv', 'row': 17}),\n",
       " Document(page_content='species: Adelie\\nisland: Torgersen\\nbill_length_mm: 34.4\\nbill_depth_mm: 18.4\\nflipper_length_mm: 184\\nbody_mass_g: 3325\\nsex: FEMALE', metadata={'source': '/Users/manuvenugopal/Downloads/LangChainNotebooks-UNZIP-ME/01-Data-Connections/some_data/penguins.csv', 'row': 18}),\n",
       " Document(page_content='species: Adelie\\nisland: Torgersen\\nbill_length_mm: 46\\nbill_depth_mm: 21.5\\nflipper_length_mm: 194\\nbody_mass_g: 4200\\nsex: MALE', metadata={'source': '/Users/manuvenugopal/Downloads/LangChainNotebooks-UNZIP-ME/01-Data-Connections/some_data/penguins.csv', 'row': 19}),\n",
       " Document(page_content='species: Adelie\\nisland: Biscoe\\nbill_length_mm: 37.8\\nbill_depth_mm: 18.3\\nflipper_length_mm: 174\\nbody_mass_g: 3400\\nsex: FEMALE', metadata={'source': '/Users/manuvenugopal/Downloads/LangChainNotebooks-UNZIP-ME/01-Data-Connections/some_data/penguins.csv', 'row': 20}),\n",
       " Document(page_content='species: Adelie\\nisland: Biscoe\\nbill_length_mm: 37.7\\nbill_depth_mm: 18.7\\nflipper_length_mm: 180\\nbody_mass_g: 3600\\nsex: MALE', metadata={'source': '/Users/manuvenugopal/Downloads/LangChainNotebooks-UNZIP-ME/01-Data-Connections/some_data/penguins.csv', 'row': 21}),\n",
       " Document(page_content='species: Adelie\\nisland: Biscoe\\nbill_length_mm: 35.9\\nbill_depth_mm: 19.2\\nflipper_length_mm: 189\\nbody_mass_g: 3800\\nsex: FEMALE', metadata={'source': '/Users/manuvenugopal/Downloads/LangChainNotebooks-UNZIP-ME/01-Data-Connections/some_data/penguins.csv', 'row': 22}),\n",
       " Document(page_content='species: Adelie\\nisland: Biscoe\\nbill_length_mm: 38.2\\nbill_depth_mm: 18.1\\nflipper_length_mm: 185\\nbody_mass_g: 3950\\nsex: MALE', metadata={'source': '/Users/manuvenugopal/Downloads/LangChainNotebooks-UNZIP-ME/01-Data-Connections/some_data/penguins.csv', 'row': 23}),\n",
       " Document(page_content='species: Adelie\\nisland: Biscoe\\nbill_length_mm: 38.8\\nbill_depth_mm: 17.2\\nflipper_length_mm: 180\\nbody_mass_g: 3800\\nsex: MALE', metadata={'source': '/Users/manuvenugopal/Downloads/LangChainNotebooks-UNZIP-ME/01-Data-Connections/some_data/penguins.csv', 'row': 24}),\n",
       " Document(page_content='species: Adelie\\nisland: Biscoe\\nbill_length_mm: 35.3\\nbill_depth_mm: 18.9\\nflipper_length_mm: 187\\nbody_mass_g: 3800\\nsex: FEMALE', metadata={'source': '/Users/manuvenugopal/Downloads/LangChainNotebooks-UNZIP-ME/01-Data-Connections/some_data/penguins.csv', 'row': 25}),\n",
       " Document(page_content='species: Adelie\\nisland: Biscoe\\nbill_length_mm: 40.6\\nbill_depth_mm: 18.6\\nflipper_length_mm: 183\\nbody_mass_g: 3550\\nsex: MALE', metadata={'source': '/Users/manuvenugopal/Downloads/LangChainNotebooks-UNZIP-ME/01-Data-Connections/some_data/penguins.csv', 'row': 26}),\n",
       " Document(page_content='species: Adelie\\nisland: Biscoe\\nbill_length_mm: 40.5\\nbill_depth_mm: 17.9\\nflipper_length_mm: 187\\nbody_mass_g: 3200\\nsex: FEMALE', metadata={'source': '/Users/manuvenugopal/Downloads/LangChainNotebooks-UNZIP-ME/01-Data-Connections/some_data/penguins.csv', 'row': 27}),\n",
       " Document(page_content='species: Adelie\\nisland: Biscoe\\nbill_length_mm: 37.9\\nbill_depth_mm: 18.6\\nflipper_length_mm: 172\\nbody_mass_g: 3150\\nsex: FEMALE', metadata={'source': '/Users/manuvenugopal/Downloads/LangChainNotebooks-UNZIP-ME/01-Data-Connections/some_data/penguins.csv', 'row': 28}),\n",
       " Document(page_content='species: Adelie\\nisland: Biscoe\\nbill_length_mm: 40.5\\nbill_depth_mm: 18.9\\nflipper_length_mm: 180\\nbody_mass_g: 3950\\nsex: MALE', metadata={'source': '/Users/manuvenugopal/Downloads/LangChainNotebooks-UNZIP-ME/01-Data-Connections/some_data/penguins.csv', 'row': 29}),\n",
       " Document(page_content='species: Adelie\\nisland: Dream\\nbill_length_mm: 39.5\\nbill_depth_mm: 16.7\\nflipper_length_mm: 178\\nbody_mass_g: 3250\\nsex: FEMALE', metadata={'source': '/Users/manuvenugopal/Downloads/LangChainNotebooks-UNZIP-ME/01-Data-Connections/some_data/penguins.csv', 'row': 30}),\n",
       " Document(page_content='species: Adelie\\nisland: Dream\\nbill_length_mm: 37.2\\nbill_depth_mm: 18.1\\nflipper_length_mm: 178\\nbody_mass_g: 3900\\nsex: MALE', metadata={'source': '/Users/manuvenugopal/Downloads/LangChainNotebooks-UNZIP-ME/01-Data-Connections/some_data/penguins.csv', 'row': 31}),\n",
       " Document(page_content='species: Adelie\\nisland: Dream\\nbill_length_mm: 39.5\\nbill_depth_mm: 17.8\\nflipper_length_mm: 188\\nbody_mass_g: 3300\\nsex: FEMALE', metadata={'source': '/Users/manuvenugopal/Downloads/LangChainNotebooks-UNZIP-ME/01-Data-Connections/some_data/penguins.csv', 'row': 32}),\n",
       " Document(page_content='species: Adelie\\nisland: Dream\\nbill_length_mm: 40.9\\nbill_depth_mm: 18.9\\nflipper_length_mm: 184\\nbody_mass_g: 3900\\nsex: MALE', metadata={'source': '/Users/manuvenugopal/Downloads/LangChainNotebooks-UNZIP-ME/01-Data-Connections/some_data/penguins.csv', 'row': 33}),\n",
       " Document(page_content='species: Adelie\\nisland: Dream\\nbill_length_mm: 36.4\\nbill_depth_mm: 17\\nflipper_length_mm: 195\\nbody_mass_g: 3325\\nsex: FEMALE', metadata={'source': '/Users/manuvenugopal/Downloads/LangChainNotebooks-UNZIP-ME/01-Data-Connections/some_data/penguins.csv', 'row': 34}),\n",
       " Document(page_content='species: Adelie\\nisland: Dream\\nbill_length_mm: 39.2\\nbill_depth_mm: 21.1\\nflipper_length_mm: 196\\nbody_mass_g: 4150\\nsex: MALE', metadata={'source': '/Users/manuvenugopal/Downloads/LangChainNotebooks-UNZIP-ME/01-Data-Connections/some_data/penguins.csv', 'row': 35}),\n",
       " Document(page_content='species: Adelie\\nisland: Dream\\nbill_length_mm: 38.8\\nbill_depth_mm: 20\\nflipper_length_mm: 190\\nbody_mass_g: 3950\\nsex: MALE', metadata={'source': '/Users/manuvenugopal/Downloads/LangChainNotebooks-UNZIP-ME/01-Data-Connections/some_data/penguins.csv', 'row': 36}),\n",
       " Document(page_content='species: Adelie\\nisland: Dream\\nbill_length_mm: 42.2\\nbill_depth_mm: 18.5\\nflipper_length_mm: 180\\nbody_mass_g: 3550\\nsex: FEMALE', metadata={'source': '/Users/manuvenugopal/Downloads/LangChainNotebooks-UNZIP-ME/01-Data-Connections/some_data/penguins.csv', 'row': 37}),\n",
       " Document(page_content='species: Adelie\\nisland: Dream\\nbill_length_mm: 37.6\\nbill_depth_mm: 19.3\\nflipper_length_mm: 181\\nbody_mass_g: 3300\\nsex: FEMALE', metadata={'source': '/Users/manuvenugopal/Downloads/LangChainNotebooks-UNZIP-ME/01-Data-Connections/some_data/penguins.csv', 'row': 38}),\n",
       " Document(page_content='species: Adelie\\nisland: Dream\\nbill_length_mm: 39.8\\nbill_depth_mm: 19.1\\nflipper_length_mm: 184\\nbody_mass_g: 4650\\nsex: MALE', metadata={'source': '/Users/manuvenugopal/Downloads/LangChainNotebooks-UNZIP-ME/01-Data-Connections/some_data/penguins.csv', 'row': 39}),\n",
       " Document(page_content='species: Adelie\\nisland: Dream\\nbill_length_mm: 36.5\\nbill_depth_mm: 18\\nflipper_length_mm: 182\\nbody_mass_g: 3150\\nsex: FEMALE', metadata={'source': '/Users/manuvenugopal/Downloads/LangChainNotebooks-UNZIP-ME/01-Data-Connections/some_data/penguins.csv', 'row': 40}),\n",
       " Document(page_content='species: Adelie\\nisland: Dream\\nbill_length_mm: 40.8\\nbill_depth_mm: 18.4\\nflipper_length_mm: 195\\nbody_mass_g: 3900\\nsex: MALE', metadata={'source': '/Users/manuvenugopal/Downloads/LangChainNotebooks-UNZIP-ME/01-Data-Connections/some_data/penguins.csv', 'row': 41}),\n",
       " Document(page_content='species: Adelie\\nisland: Dream\\nbill_length_mm: 36\\nbill_depth_mm: 18.5\\nflipper_length_mm: 186\\nbody_mass_g: 3100\\nsex: FEMALE', metadata={'source': '/Users/manuvenugopal/Downloads/LangChainNotebooks-UNZIP-ME/01-Data-Connections/some_data/penguins.csv', 'row': 42}),\n",
       " Document(page_content='species: Adelie\\nisland: Dream\\nbill_length_mm: 44.1\\nbill_depth_mm: 19.7\\nflipper_length_mm: 196\\nbody_mass_g: 4400\\nsex: MALE', metadata={'source': '/Users/manuvenugopal/Downloads/LangChainNotebooks-UNZIP-ME/01-Data-Connections/some_data/penguins.csv', 'row': 43}),\n",
       " Document(page_content='species: Adelie\\nisland: Dream\\nbill_length_mm: 37\\nbill_depth_mm: 16.9\\nflipper_length_mm: 185\\nbody_mass_g: 3000\\nsex: FEMALE', metadata={'source': '/Users/manuvenugopal/Downloads/LangChainNotebooks-UNZIP-ME/01-Data-Connections/some_data/penguins.csv', 'row': 44}),\n",
       " Document(page_content='species: Adelie\\nisland: Dream\\nbill_length_mm: 39.6\\nbill_depth_mm: 18.8\\nflipper_length_mm: 190\\nbody_mass_g: 4600\\nsex: MALE', metadata={'source': '/Users/manuvenugopal/Downloads/LangChainNotebooks-UNZIP-ME/01-Data-Connections/some_data/penguins.csv', 'row': 45}),\n",
       " Document(page_content='species: Adelie\\nisland: Dream\\nbill_length_mm: 41.1\\nbill_depth_mm: 19\\nflipper_length_mm: 182\\nbody_mass_g: 3425\\nsex: MALE', metadata={'source': '/Users/manuvenugopal/Downloads/LangChainNotebooks-UNZIP-ME/01-Data-Connections/some_data/penguins.csv', 'row': 46}),\n",
       " Document(page_content='species: Adelie\\nisland: Dream\\nbill_length_mm: 37.5\\nbill_depth_mm: 18.9\\nflipper_length_mm: 179\\nbody_mass_g: 2975\\nsex: ', metadata={'source': '/Users/manuvenugopal/Downloads/LangChainNotebooks-UNZIP-ME/01-Data-Connections/some_data/penguins.csv', 'row': 47}),\n",
       " Document(page_content='species: Adelie\\nisland: Dream\\nbill_length_mm: 36\\nbill_depth_mm: 17.9\\nflipper_length_mm: 190\\nbody_mass_g: 3450\\nsex: FEMALE', metadata={'source': '/Users/manuvenugopal/Downloads/LangChainNotebooks-UNZIP-ME/01-Data-Connections/some_data/penguins.csv', 'row': 48}),\n",
       " Document(page_content='species: Adelie\\nisland: Dream\\nbill_length_mm: 42.3\\nbill_depth_mm: 21.2\\nflipper_length_mm: 191\\nbody_mass_g: 4150\\nsex: MALE', metadata={'source': '/Users/manuvenugopal/Downloads/LangChainNotebooks-UNZIP-ME/01-Data-Connections/some_data/penguins.csv', 'row': 49}),\n",
       " Document(page_content='species: Adelie\\nisland: Biscoe\\nbill_length_mm: 39.6\\nbill_depth_mm: 17.7\\nflipper_length_mm: 186\\nbody_mass_g: 3500\\nsex: FEMALE', metadata={'source': '/Users/manuvenugopal/Downloads/LangChainNotebooks-UNZIP-ME/01-Data-Connections/some_data/penguins.csv', 'row': 50}),\n",
       " Document(page_content='species: Adelie\\nisland: Biscoe\\nbill_length_mm: 40.1\\nbill_depth_mm: 18.9\\nflipper_length_mm: 188\\nbody_mass_g: 4300\\nsex: MALE', metadata={'source': '/Users/manuvenugopal/Downloads/LangChainNotebooks-UNZIP-ME/01-Data-Connections/some_data/penguins.csv', 'row': 51}),\n",
       " Document(page_content='species: Adelie\\nisland: Biscoe\\nbill_length_mm: 35\\nbill_depth_mm: 17.9\\nflipper_length_mm: 190\\nbody_mass_g: 3450\\nsex: FEMALE', metadata={'source': '/Users/manuvenugopal/Downloads/LangChainNotebooks-UNZIP-ME/01-Data-Connections/some_data/penguins.csv', 'row': 52}),\n",
       " Document(page_content='species: Adelie\\nisland: Biscoe\\nbill_length_mm: 42\\nbill_depth_mm: 19.5\\nflipper_length_mm: 200\\nbody_mass_g: 4050\\nsex: MALE', metadata={'source': '/Users/manuvenugopal/Downloads/LangChainNotebooks-UNZIP-ME/01-Data-Connections/some_data/penguins.csv', 'row': 53}),\n",
       " Document(page_content='species: Adelie\\nisland: Biscoe\\nbill_length_mm: 34.5\\nbill_depth_mm: 18.1\\nflipper_length_mm: 187\\nbody_mass_g: 2900\\nsex: FEMALE', metadata={'source': '/Users/manuvenugopal/Downloads/LangChainNotebooks-UNZIP-ME/01-Data-Connections/some_data/penguins.csv', 'row': 54}),\n",
       " Document(page_content='species: Adelie\\nisland: Biscoe\\nbill_length_mm: 41.4\\nbill_depth_mm: 18.6\\nflipper_length_mm: 191\\nbody_mass_g: 3700\\nsex: MALE', metadata={'source': '/Users/manuvenugopal/Downloads/LangChainNotebooks-UNZIP-ME/01-Data-Connections/some_data/penguins.csv', 'row': 55}),\n",
       " Document(page_content='species: Adelie\\nisland: Biscoe\\nbill_length_mm: 39\\nbill_depth_mm: 17.5\\nflipper_length_mm: 186\\nbody_mass_g: 3550\\nsex: FEMALE', metadata={'source': '/Users/manuvenugopal/Downloads/LangChainNotebooks-UNZIP-ME/01-Data-Connections/some_data/penguins.csv', 'row': 56}),\n",
       " Document(page_content='species: Adelie\\nisland: Biscoe\\nbill_length_mm: 40.6\\nbill_depth_mm: 18.8\\nflipper_length_mm: 193\\nbody_mass_g: 3800\\nsex: MALE', metadata={'source': '/Users/manuvenugopal/Downloads/LangChainNotebooks-UNZIP-ME/01-Data-Connections/some_data/penguins.csv', 'row': 57}),\n",
       " Document(page_content='species: Adelie\\nisland: Biscoe\\nbill_length_mm: 36.5\\nbill_depth_mm: 16.6\\nflipper_length_mm: 181\\nbody_mass_g: 2850\\nsex: FEMALE', metadata={'source': '/Users/manuvenugopal/Downloads/LangChainNotebooks-UNZIP-ME/01-Data-Connections/some_data/penguins.csv', 'row': 58}),\n",
       " Document(page_content='species: Adelie\\nisland: Biscoe\\nbill_length_mm: 37.6\\nbill_depth_mm: 19.1\\nflipper_length_mm: 194\\nbody_mass_g: 3750\\nsex: MALE', metadata={'source': '/Users/manuvenugopal/Downloads/LangChainNotebooks-UNZIP-ME/01-Data-Connections/some_data/penguins.csv', 'row': 59}),\n",
       " Document(page_content='species: Adelie\\nisland: Biscoe\\nbill_length_mm: 35.7\\nbill_depth_mm: 16.9\\nflipper_length_mm: 185\\nbody_mass_g: 3150\\nsex: FEMALE', metadata={'source': '/Users/manuvenugopal/Downloads/LangChainNotebooks-UNZIP-ME/01-Data-Connections/some_data/penguins.csv', 'row': 60}),\n",
       " Document(page_content='species: Adelie\\nisland: Biscoe\\nbill_length_mm: 41.3\\nbill_depth_mm: 21.1\\nflipper_length_mm: 195\\nbody_mass_g: 4400\\nsex: MALE', metadata={'source': '/Users/manuvenugopal/Downloads/LangChainNotebooks-UNZIP-ME/01-Data-Connections/some_data/penguins.csv', 'row': 61}),\n",
       " Document(page_content='species: Adelie\\nisland: Biscoe\\nbill_length_mm: 37.6\\nbill_depth_mm: 17\\nflipper_length_mm: 185\\nbody_mass_g: 3600\\nsex: FEMALE', metadata={'source': '/Users/manuvenugopal/Downloads/LangChainNotebooks-UNZIP-ME/01-Data-Connections/some_data/penguins.csv', 'row': 62}),\n",
       " Document(page_content='species: Adelie\\nisland: Biscoe\\nbill_length_mm: 41.1\\nbill_depth_mm: 18.2\\nflipper_length_mm: 192\\nbody_mass_g: 4050\\nsex: MALE', metadata={'source': '/Users/manuvenugopal/Downloads/LangChainNotebooks-UNZIP-ME/01-Data-Connections/some_data/penguins.csv', 'row': 63}),\n",
       " Document(page_content='species: Adelie\\nisland: Biscoe\\nbill_length_mm: 36.4\\nbill_depth_mm: 17.1\\nflipper_length_mm: 184\\nbody_mass_g: 2850\\nsex: FEMALE', metadata={'source': '/Users/manuvenugopal/Downloads/LangChainNotebooks-UNZIP-ME/01-Data-Connections/some_data/penguins.csv', 'row': 64}),\n",
       " Document(page_content='species: Adelie\\nisland: Biscoe\\nbill_length_mm: 41.6\\nbill_depth_mm: 18\\nflipper_length_mm: 192\\nbody_mass_g: 3950\\nsex: MALE', metadata={'source': '/Users/manuvenugopal/Downloads/LangChainNotebooks-UNZIP-ME/01-Data-Connections/some_data/penguins.csv', 'row': 65}),\n",
       " Document(page_content='species: Adelie\\nisland: Biscoe\\nbill_length_mm: 35.5\\nbill_depth_mm: 16.2\\nflipper_length_mm: 195\\nbody_mass_g: 3350\\nsex: FEMALE', metadata={'source': '/Users/manuvenugopal/Downloads/LangChainNotebooks-UNZIP-ME/01-Data-Connections/some_data/penguins.csv', 'row': 66}),\n",
       " Document(page_content='species: Adelie\\nisland: Biscoe\\nbill_length_mm: 41.1\\nbill_depth_mm: 19.1\\nflipper_length_mm: 188\\nbody_mass_g: 4100\\nsex: MALE', metadata={'source': '/Users/manuvenugopal/Downloads/LangChainNotebooks-UNZIP-ME/01-Data-Connections/some_data/penguins.csv', 'row': 67}),\n",
       " Document(page_content='species: Adelie\\nisland: Torgersen\\nbill_length_mm: 35.9\\nbill_depth_mm: 16.6\\nflipper_length_mm: 190\\nbody_mass_g: 3050\\nsex: FEMALE', metadata={'source': '/Users/manuvenugopal/Downloads/LangChainNotebooks-UNZIP-ME/01-Data-Connections/some_data/penguins.csv', 'row': 68}),\n",
       " Document(page_content='species: Adelie\\nisland: Torgersen\\nbill_length_mm: 41.8\\nbill_depth_mm: 19.4\\nflipper_length_mm: 198\\nbody_mass_g: 4450\\nsex: MALE', metadata={'source': '/Users/manuvenugopal/Downloads/LangChainNotebooks-UNZIP-ME/01-Data-Connections/some_data/penguins.csv', 'row': 69}),\n",
       " Document(page_content='species: Adelie\\nisland: Torgersen\\nbill_length_mm: 33.5\\nbill_depth_mm: 19\\nflipper_length_mm: 190\\nbody_mass_g: 3600\\nsex: FEMALE', metadata={'source': '/Users/manuvenugopal/Downloads/LangChainNotebooks-UNZIP-ME/01-Data-Connections/some_data/penguins.csv', 'row': 70}),\n",
       " Document(page_content='species: Adelie\\nisland: Torgersen\\nbill_length_mm: 39.7\\nbill_depth_mm: 18.4\\nflipper_length_mm: 190\\nbody_mass_g: 3900\\nsex: MALE', metadata={'source': '/Users/manuvenugopal/Downloads/LangChainNotebooks-UNZIP-ME/01-Data-Connections/some_data/penguins.csv', 'row': 71}),\n",
       " Document(page_content='species: Adelie\\nisland: Torgersen\\nbill_length_mm: 39.6\\nbill_depth_mm: 17.2\\nflipper_length_mm: 196\\nbody_mass_g: 3550\\nsex: FEMALE', metadata={'source': '/Users/manuvenugopal/Downloads/LangChainNotebooks-UNZIP-ME/01-Data-Connections/some_data/penguins.csv', 'row': 72}),\n",
       " Document(page_content='species: Adelie\\nisland: Torgersen\\nbill_length_mm: 45.8\\nbill_depth_mm: 18.9\\nflipper_length_mm: 197\\nbody_mass_g: 4150\\nsex: MALE', metadata={'source': '/Users/manuvenugopal/Downloads/LangChainNotebooks-UNZIP-ME/01-Data-Connections/some_data/penguins.csv', 'row': 73}),\n",
       " Document(page_content='species: Adelie\\nisland: Torgersen\\nbill_length_mm: 35.5\\nbill_depth_mm: 17.5\\nflipper_length_mm: 190\\nbody_mass_g: 3700\\nsex: FEMALE', metadata={'source': '/Users/manuvenugopal/Downloads/LangChainNotebooks-UNZIP-ME/01-Data-Connections/some_data/penguins.csv', 'row': 74}),\n",
       " Document(page_content='species: Adelie\\nisland: Torgersen\\nbill_length_mm: 42.8\\nbill_depth_mm: 18.5\\nflipper_length_mm: 195\\nbody_mass_g: 4250\\nsex: MALE', metadata={'source': '/Users/manuvenugopal/Downloads/LangChainNotebooks-UNZIP-ME/01-Data-Connections/some_data/penguins.csv', 'row': 75}),\n",
       " Document(page_content='species: Adelie\\nisland: Torgersen\\nbill_length_mm: 40.9\\nbill_depth_mm: 16.8\\nflipper_length_mm: 191\\nbody_mass_g: 3700\\nsex: FEMALE', metadata={'source': '/Users/manuvenugopal/Downloads/LangChainNotebooks-UNZIP-ME/01-Data-Connections/some_data/penguins.csv', 'row': 76}),\n",
       " Document(page_content='species: Adelie\\nisland: Torgersen\\nbill_length_mm: 37.2\\nbill_depth_mm: 19.4\\nflipper_length_mm: 184\\nbody_mass_g: 3900\\nsex: MALE', metadata={'source': '/Users/manuvenugopal/Downloads/LangChainNotebooks-UNZIP-ME/01-Data-Connections/some_data/penguins.csv', 'row': 77}),\n",
       " Document(page_content='species: Adelie\\nisland: Torgersen\\nbill_length_mm: 36.2\\nbill_depth_mm: 16.1\\nflipper_length_mm: 187\\nbody_mass_g: 3550\\nsex: FEMALE', metadata={'source': '/Users/manuvenugopal/Downloads/LangChainNotebooks-UNZIP-ME/01-Data-Connections/some_data/penguins.csv', 'row': 78}),\n",
       " Document(page_content='species: Adelie\\nisland: Torgersen\\nbill_length_mm: 42.1\\nbill_depth_mm: 19.1\\nflipper_length_mm: 195\\nbody_mass_g: 4000\\nsex: MALE', metadata={'source': '/Users/manuvenugopal/Downloads/LangChainNotebooks-UNZIP-ME/01-Data-Connections/some_data/penguins.csv', 'row': 79}),\n",
       " Document(page_content='species: Adelie\\nisland: Torgersen\\nbill_length_mm: 34.6\\nbill_depth_mm: 17.2\\nflipper_length_mm: 189\\nbody_mass_g: 3200\\nsex: FEMALE', metadata={'source': '/Users/manuvenugopal/Downloads/LangChainNotebooks-UNZIP-ME/01-Data-Connections/some_data/penguins.csv', 'row': 80}),\n",
       " Document(page_content='species: Adelie\\nisland: Torgersen\\nbill_length_mm: 42.9\\nbill_depth_mm: 17.6\\nflipper_length_mm: 196\\nbody_mass_g: 4700\\nsex: MALE', metadata={'source': '/Users/manuvenugopal/Downloads/LangChainNotebooks-UNZIP-ME/01-Data-Connections/some_data/penguins.csv', 'row': 81}),\n",
       " Document(page_content='species: Adelie\\nisland: Torgersen\\nbill_length_mm: 36.7\\nbill_depth_mm: 18.8\\nflipper_length_mm: 187\\nbody_mass_g: 3800\\nsex: FEMALE', metadata={'source': '/Users/manuvenugopal/Downloads/LangChainNotebooks-UNZIP-ME/01-Data-Connections/some_data/penguins.csv', 'row': 82}),\n",
       " Document(page_content='species: Adelie\\nisland: Torgersen\\nbill_length_mm: 35.1\\nbill_depth_mm: 19.4\\nflipper_length_mm: 193\\nbody_mass_g: 4200\\nsex: MALE', metadata={'source': '/Users/manuvenugopal/Downloads/LangChainNotebooks-UNZIP-ME/01-Data-Connections/some_data/penguins.csv', 'row': 83}),\n",
       " Document(page_content='species: Adelie\\nisland: Dream\\nbill_length_mm: 37.3\\nbill_depth_mm: 17.8\\nflipper_length_mm: 191\\nbody_mass_g: 3350\\nsex: FEMALE', metadata={'source': '/Users/manuvenugopal/Downloads/LangChainNotebooks-UNZIP-ME/01-Data-Connections/some_data/penguins.csv', 'row': 84}),\n",
       " Document(page_content='species: Adelie\\nisland: Dream\\nbill_length_mm: 41.3\\nbill_depth_mm: 20.3\\nflipper_length_mm: 194\\nbody_mass_g: 3550\\nsex: MALE', metadata={'source': '/Users/manuvenugopal/Downloads/LangChainNotebooks-UNZIP-ME/01-Data-Connections/some_data/penguins.csv', 'row': 85}),\n",
       " Document(page_content='species: Adelie\\nisland: Dream\\nbill_length_mm: 36.3\\nbill_depth_mm: 19.5\\nflipper_length_mm: 190\\nbody_mass_g: 3800\\nsex: MALE', metadata={'source': '/Users/manuvenugopal/Downloads/LangChainNotebooks-UNZIP-ME/01-Data-Connections/some_data/penguins.csv', 'row': 86}),\n",
       " Document(page_content='species: Adelie\\nisland: Dream\\nbill_length_mm: 36.9\\nbill_depth_mm: 18.6\\nflipper_length_mm: 189\\nbody_mass_g: 3500\\nsex: FEMALE', metadata={'source': '/Users/manuvenugopal/Downloads/LangChainNotebooks-UNZIP-ME/01-Data-Connections/some_data/penguins.csv', 'row': 87}),\n",
       " Document(page_content='species: Adelie\\nisland: Dream\\nbill_length_mm: 38.3\\nbill_depth_mm: 19.2\\nflipper_length_mm: 189\\nbody_mass_g: 3950\\nsex: MALE', metadata={'source': '/Users/manuvenugopal/Downloads/LangChainNotebooks-UNZIP-ME/01-Data-Connections/some_data/penguins.csv', 'row': 88}),\n",
       " Document(page_content='species: Adelie\\nisland: Dream\\nbill_length_mm: 38.9\\nbill_depth_mm: 18.8\\nflipper_length_mm: 190\\nbody_mass_g: 3600\\nsex: FEMALE', metadata={'source': '/Users/manuvenugopal/Downloads/LangChainNotebooks-UNZIP-ME/01-Data-Connections/some_data/penguins.csv', 'row': 89}),\n",
       " Document(page_content='species: Adelie\\nisland: Dream\\nbill_length_mm: 35.7\\nbill_depth_mm: 18\\nflipper_length_mm: 202\\nbody_mass_g: 3550\\nsex: FEMALE', metadata={'source': '/Users/manuvenugopal/Downloads/LangChainNotebooks-UNZIP-ME/01-Data-Connections/some_data/penguins.csv', 'row': 90}),\n",
       " Document(page_content='species: Adelie\\nisland: Dream\\nbill_length_mm: 41.1\\nbill_depth_mm: 18.1\\nflipper_length_mm: 205\\nbody_mass_g: 4300\\nsex: MALE', metadata={'source': '/Users/manuvenugopal/Downloads/LangChainNotebooks-UNZIP-ME/01-Data-Connections/some_data/penguins.csv', 'row': 91}),\n",
       " Document(page_content='species: Adelie\\nisland: Dream\\nbill_length_mm: 34\\nbill_depth_mm: 17.1\\nflipper_length_mm: 185\\nbody_mass_g: 3400\\nsex: FEMALE', metadata={'source': '/Users/manuvenugopal/Downloads/LangChainNotebooks-UNZIP-ME/01-Data-Connections/some_data/penguins.csv', 'row': 92}),\n",
       " Document(page_content='species: Adelie\\nisland: Dream\\nbill_length_mm: 39.6\\nbill_depth_mm: 18.1\\nflipper_length_mm: 186\\nbody_mass_g: 4450\\nsex: MALE', metadata={'source': '/Users/manuvenugopal/Downloads/LangChainNotebooks-UNZIP-ME/01-Data-Connections/some_data/penguins.csv', 'row': 93}),\n",
       " Document(page_content='species: Adelie\\nisland: Dream\\nbill_length_mm: 36.2\\nbill_depth_mm: 17.3\\nflipper_length_mm: 187\\nbody_mass_g: 3300\\nsex: FEMALE', metadata={'source': '/Users/manuvenugopal/Downloads/LangChainNotebooks-UNZIP-ME/01-Data-Connections/some_data/penguins.csv', 'row': 94}),\n",
       " Document(page_content='species: Adelie\\nisland: Dream\\nbill_length_mm: 40.8\\nbill_depth_mm: 18.9\\nflipper_length_mm: 208\\nbody_mass_g: 4300\\nsex: MALE', metadata={'source': '/Users/manuvenugopal/Downloads/LangChainNotebooks-UNZIP-ME/01-Data-Connections/some_data/penguins.csv', 'row': 95}),\n",
       " Document(page_content='species: Adelie\\nisland: Dream\\nbill_length_mm: 38.1\\nbill_depth_mm: 18.6\\nflipper_length_mm: 190\\nbody_mass_g: 3700\\nsex: FEMALE', metadata={'source': '/Users/manuvenugopal/Downloads/LangChainNotebooks-UNZIP-ME/01-Data-Connections/some_data/penguins.csv', 'row': 96}),\n",
       " Document(page_content='species: Adelie\\nisland: Dream\\nbill_length_mm: 40.3\\nbill_depth_mm: 18.5\\nflipper_length_mm: 196\\nbody_mass_g: 4350\\nsex: MALE', metadata={'source': '/Users/manuvenugopal/Downloads/LangChainNotebooks-UNZIP-ME/01-Data-Connections/some_data/penguins.csv', 'row': 97}),\n",
       " Document(page_content='species: Adelie\\nisland: Dream\\nbill_length_mm: 33.1\\nbill_depth_mm: 16.1\\nflipper_length_mm: 178\\nbody_mass_g: 2900\\nsex: FEMALE', metadata={'source': '/Users/manuvenugopal/Downloads/LangChainNotebooks-UNZIP-ME/01-Data-Connections/some_data/penguins.csv', 'row': 98}),\n",
       " Document(page_content='species: Adelie\\nisland: Dream\\nbill_length_mm: 43.2\\nbill_depth_mm: 18.5\\nflipper_length_mm: 192\\nbody_mass_g: 4100\\nsex: MALE', metadata={'source': '/Users/manuvenugopal/Downloads/LangChainNotebooks-UNZIP-ME/01-Data-Connections/some_data/penguins.csv', 'row': 99}),\n",
       " Document(page_content='species: Adelie\\nisland: Biscoe\\nbill_length_mm: 35\\nbill_depth_mm: 17.9\\nflipper_length_mm: 192\\nbody_mass_g: 3725\\nsex: FEMALE', metadata={'source': '/Users/manuvenugopal/Downloads/LangChainNotebooks-UNZIP-ME/01-Data-Connections/some_data/penguins.csv', 'row': 100}),\n",
       " Document(page_content='species: Adelie\\nisland: Biscoe\\nbill_length_mm: 41\\nbill_depth_mm: 20\\nflipper_length_mm: 203\\nbody_mass_g: 4725\\nsex: MALE', metadata={'source': '/Users/manuvenugopal/Downloads/LangChainNotebooks-UNZIP-ME/01-Data-Connections/some_data/penguins.csv', 'row': 101}),\n",
       " Document(page_content='species: Adelie\\nisland: Biscoe\\nbill_length_mm: 37.7\\nbill_depth_mm: 16\\nflipper_length_mm: 183\\nbody_mass_g: 3075\\nsex: FEMALE', metadata={'source': '/Users/manuvenugopal/Downloads/LangChainNotebooks-UNZIP-ME/01-Data-Connections/some_data/penguins.csv', 'row': 102}),\n",
       " Document(page_content='species: Adelie\\nisland: Biscoe\\nbill_length_mm: 37.8\\nbill_depth_mm: 20\\nflipper_length_mm: 190\\nbody_mass_g: 4250\\nsex: MALE', metadata={'source': '/Users/manuvenugopal/Downloads/LangChainNotebooks-UNZIP-ME/01-Data-Connections/some_data/penguins.csv', 'row': 103}),\n",
       " Document(page_content='species: Adelie\\nisland: Biscoe\\nbill_length_mm: 37.9\\nbill_depth_mm: 18.6\\nflipper_length_mm: 193\\nbody_mass_g: 2925\\nsex: FEMALE', metadata={'source': '/Users/manuvenugopal/Downloads/LangChainNotebooks-UNZIP-ME/01-Data-Connections/some_data/penguins.csv', 'row': 104}),\n",
       " Document(page_content='species: Adelie\\nisland: Biscoe\\nbill_length_mm: 39.7\\nbill_depth_mm: 18.9\\nflipper_length_mm: 184\\nbody_mass_g: 3550\\nsex: MALE', metadata={'source': '/Users/manuvenugopal/Downloads/LangChainNotebooks-UNZIP-ME/01-Data-Connections/some_data/penguins.csv', 'row': 105}),\n",
       " Document(page_content='species: Adelie\\nisland: Biscoe\\nbill_length_mm: 38.6\\nbill_depth_mm: 17.2\\nflipper_length_mm: 199\\nbody_mass_g: 3750\\nsex: FEMALE', metadata={'source': '/Users/manuvenugopal/Downloads/LangChainNotebooks-UNZIP-ME/01-Data-Connections/some_data/penguins.csv', 'row': 106}),\n",
       " Document(page_content='species: Adelie\\nisland: Biscoe\\nbill_length_mm: 38.2\\nbill_depth_mm: 20\\nflipper_length_mm: 190\\nbody_mass_g: 3900\\nsex: MALE', metadata={'source': '/Users/manuvenugopal/Downloads/LangChainNotebooks-UNZIP-ME/01-Data-Connections/some_data/penguins.csv', 'row': 107}),\n",
       " Document(page_content='species: Adelie\\nisland: Biscoe\\nbill_length_mm: 38.1\\nbill_depth_mm: 17\\nflipper_length_mm: 181\\nbody_mass_g: 3175\\nsex: FEMALE', metadata={'source': '/Users/manuvenugopal/Downloads/LangChainNotebooks-UNZIP-ME/01-Data-Connections/some_data/penguins.csv', 'row': 108}),\n",
       " Document(page_content='species: Adelie\\nisland: Biscoe\\nbill_length_mm: 43.2\\nbill_depth_mm: 19\\nflipper_length_mm: 197\\nbody_mass_g: 4775\\nsex: MALE', metadata={'source': '/Users/manuvenugopal/Downloads/LangChainNotebooks-UNZIP-ME/01-Data-Connections/some_data/penguins.csv', 'row': 109}),\n",
       " Document(page_content='species: Adelie\\nisland: Biscoe\\nbill_length_mm: 38.1\\nbill_depth_mm: 16.5\\nflipper_length_mm: 198\\nbody_mass_g: 3825\\nsex: FEMALE', metadata={'source': '/Users/manuvenugopal/Downloads/LangChainNotebooks-UNZIP-ME/01-Data-Connections/some_data/penguins.csv', 'row': 110}),\n",
       " Document(page_content='species: Adelie\\nisland: Biscoe\\nbill_length_mm: 45.6\\nbill_depth_mm: 20.3\\nflipper_length_mm: 191\\nbody_mass_g: 4600\\nsex: MALE', metadata={'source': '/Users/manuvenugopal/Downloads/LangChainNotebooks-UNZIP-ME/01-Data-Connections/some_data/penguins.csv', 'row': 111}),\n",
       " Document(page_content='species: Adelie\\nisland: Biscoe\\nbill_length_mm: 39.7\\nbill_depth_mm: 17.7\\nflipper_length_mm: 193\\nbody_mass_g: 3200\\nsex: FEMALE', metadata={'source': '/Users/manuvenugopal/Downloads/LangChainNotebooks-UNZIP-ME/01-Data-Connections/some_data/penguins.csv', 'row': 112}),\n",
       " Document(page_content='species: Adelie\\nisland: Biscoe\\nbill_length_mm: 42.2\\nbill_depth_mm: 19.5\\nflipper_length_mm: 197\\nbody_mass_g: 4275\\nsex: MALE', metadata={'source': '/Users/manuvenugopal/Downloads/LangChainNotebooks-UNZIP-ME/01-Data-Connections/some_data/penguins.csv', 'row': 113}),\n",
       " Document(page_content='species: Adelie\\nisland: Biscoe\\nbill_length_mm: 39.6\\nbill_depth_mm: 20.7\\nflipper_length_mm: 191\\nbody_mass_g: 3900\\nsex: FEMALE', metadata={'source': '/Users/manuvenugopal/Downloads/LangChainNotebooks-UNZIP-ME/01-Data-Connections/some_data/penguins.csv', 'row': 114}),\n",
       " Document(page_content='species: Adelie\\nisland: Biscoe\\nbill_length_mm: 42.7\\nbill_depth_mm: 18.3\\nflipper_length_mm: 196\\nbody_mass_g: 4075\\nsex: MALE', metadata={'source': '/Users/manuvenugopal/Downloads/LangChainNotebooks-UNZIP-ME/01-Data-Connections/some_data/penguins.csv', 'row': 115}),\n",
       " Document(page_content='species: Adelie\\nisland: Torgersen\\nbill_length_mm: 38.6\\nbill_depth_mm: 17\\nflipper_length_mm: 188\\nbody_mass_g: 2900\\nsex: FEMALE', metadata={'source': '/Users/manuvenugopal/Downloads/LangChainNotebooks-UNZIP-ME/01-Data-Connections/some_data/penguins.csv', 'row': 116}),\n",
       " Document(page_content='species: Adelie\\nisland: Torgersen\\nbill_length_mm: 37.3\\nbill_depth_mm: 20.5\\nflipper_length_mm: 199\\nbody_mass_g: 3775\\nsex: MALE', metadata={'source': '/Users/manuvenugopal/Downloads/LangChainNotebooks-UNZIP-ME/01-Data-Connections/some_data/penguins.csv', 'row': 117}),\n",
       " Document(page_content='species: Adelie\\nisland: Torgersen\\nbill_length_mm: 35.7\\nbill_depth_mm: 17\\nflipper_length_mm: 189\\nbody_mass_g: 3350\\nsex: FEMALE', metadata={'source': '/Users/manuvenugopal/Downloads/LangChainNotebooks-UNZIP-ME/01-Data-Connections/some_data/penguins.csv', 'row': 118}),\n",
       " Document(page_content='species: Adelie\\nisland: Torgersen\\nbill_length_mm: 41.1\\nbill_depth_mm: 18.6\\nflipper_length_mm: 189\\nbody_mass_g: 3325\\nsex: MALE', metadata={'source': '/Users/manuvenugopal/Downloads/LangChainNotebooks-UNZIP-ME/01-Data-Connections/some_data/penguins.csv', 'row': 119}),\n",
       " Document(page_content='species: Adelie\\nisland: Torgersen\\nbill_length_mm: 36.2\\nbill_depth_mm: 17.2\\nflipper_length_mm: 187\\nbody_mass_g: 3150\\nsex: FEMALE', metadata={'source': '/Users/manuvenugopal/Downloads/LangChainNotebooks-UNZIP-ME/01-Data-Connections/some_data/penguins.csv', 'row': 120}),\n",
       " Document(page_content='species: Adelie\\nisland: Torgersen\\nbill_length_mm: 37.7\\nbill_depth_mm: 19.8\\nflipper_length_mm: 198\\nbody_mass_g: 3500\\nsex: MALE', metadata={'source': '/Users/manuvenugopal/Downloads/LangChainNotebooks-UNZIP-ME/01-Data-Connections/some_data/penguins.csv', 'row': 121}),\n",
       " Document(page_content='species: Adelie\\nisland: Torgersen\\nbill_length_mm: 40.2\\nbill_depth_mm: 17\\nflipper_length_mm: 176\\nbody_mass_g: 3450\\nsex: FEMALE', metadata={'source': '/Users/manuvenugopal/Downloads/LangChainNotebooks-UNZIP-ME/01-Data-Connections/some_data/penguins.csv', 'row': 122}),\n",
       " Document(page_content='species: Adelie\\nisland: Torgersen\\nbill_length_mm: 41.4\\nbill_depth_mm: 18.5\\nflipper_length_mm: 202\\nbody_mass_g: 3875\\nsex: MALE', metadata={'source': '/Users/manuvenugopal/Downloads/LangChainNotebooks-UNZIP-ME/01-Data-Connections/some_data/penguins.csv', 'row': 123}),\n",
       " Document(page_content='species: Adelie\\nisland: Torgersen\\nbill_length_mm: 35.2\\nbill_depth_mm: 15.9\\nflipper_length_mm: 186\\nbody_mass_g: 3050\\nsex: FEMALE', metadata={'source': '/Users/manuvenugopal/Downloads/LangChainNotebooks-UNZIP-ME/01-Data-Connections/some_data/penguins.csv', 'row': 124}),\n",
       " Document(page_content='species: Adelie\\nisland: Torgersen\\nbill_length_mm: 40.6\\nbill_depth_mm: 19\\nflipper_length_mm: 199\\nbody_mass_g: 4000\\nsex: MALE', metadata={'source': '/Users/manuvenugopal/Downloads/LangChainNotebooks-UNZIP-ME/01-Data-Connections/some_data/penguins.csv', 'row': 125}),\n",
       " Document(page_content='species: Adelie\\nisland: Torgersen\\nbill_length_mm: 38.8\\nbill_depth_mm: 17.6\\nflipper_length_mm: 191\\nbody_mass_g: 3275\\nsex: FEMALE', metadata={'source': '/Users/manuvenugopal/Downloads/LangChainNotebooks-UNZIP-ME/01-Data-Connections/some_data/penguins.csv', 'row': 126}),\n",
       " Document(page_content='species: Adelie\\nisland: Torgersen\\nbill_length_mm: 41.5\\nbill_depth_mm: 18.3\\nflipper_length_mm: 195\\nbody_mass_g: 4300\\nsex: MALE', metadata={'source': '/Users/manuvenugopal/Downloads/LangChainNotebooks-UNZIP-ME/01-Data-Connections/some_data/penguins.csv', 'row': 127}),\n",
       " Document(page_content='species: Adelie\\nisland: Torgersen\\nbill_length_mm: 39\\nbill_depth_mm: 17.1\\nflipper_length_mm: 191\\nbody_mass_g: 3050\\nsex: FEMALE', metadata={'source': '/Users/manuvenugopal/Downloads/LangChainNotebooks-UNZIP-ME/01-Data-Connections/some_data/penguins.csv', 'row': 128}),\n",
       " Document(page_content='species: Adelie\\nisland: Torgersen\\nbill_length_mm: 44.1\\nbill_depth_mm: 18\\nflipper_length_mm: 210\\nbody_mass_g: 4000\\nsex: MALE', metadata={'source': '/Users/manuvenugopal/Downloads/LangChainNotebooks-UNZIP-ME/01-Data-Connections/some_data/penguins.csv', 'row': 129}),\n",
       " Document(page_content='species: Adelie\\nisland: Torgersen\\nbill_length_mm: 38.5\\nbill_depth_mm: 17.9\\nflipper_length_mm: 190\\nbody_mass_g: 3325\\nsex: FEMALE', metadata={'source': '/Users/manuvenugopal/Downloads/LangChainNotebooks-UNZIP-ME/01-Data-Connections/some_data/penguins.csv', 'row': 130}),\n",
       " Document(page_content='species: Adelie\\nisland: Torgersen\\nbill_length_mm: 43.1\\nbill_depth_mm: 19.2\\nflipper_length_mm: 197\\nbody_mass_g: 3500\\nsex: MALE', metadata={'source': '/Users/manuvenugopal/Downloads/LangChainNotebooks-UNZIP-ME/01-Data-Connections/some_data/penguins.csv', 'row': 131}),\n",
       " Document(page_content='species: Adelie\\nisland: Dream\\nbill_length_mm: 36.8\\nbill_depth_mm: 18.5\\nflipper_length_mm: 193\\nbody_mass_g: 3500\\nsex: FEMALE', metadata={'source': '/Users/manuvenugopal/Downloads/LangChainNotebooks-UNZIP-ME/01-Data-Connections/some_data/penguins.csv', 'row': 132}),\n",
       " Document(page_content='species: Adelie\\nisland: Dream\\nbill_length_mm: 37.5\\nbill_depth_mm: 18.5\\nflipper_length_mm: 199\\nbody_mass_g: 4475\\nsex: MALE', metadata={'source': '/Users/manuvenugopal/Downloads/LangChainNotebooks-UNZIP-ME/01-Data-Connections/some_data/penguins.csv', 'row': 133}),\n",
       " Document(page_content='species: Adelie\\nisland: Dream\\nbill_length_mm: 38.1\\nbill_depth_mm: 17.6\\nflipper_length_mm: 187\\nbody_mass_g: 3425\\nsex: FEMALE', metadata={'source': '/Users/manuvenugopal/Downloads/LangChainNotebooks-UNZIP-ME/01-Data-Connections/some_data/penguins.csv', 'row': 134}),\n",
       " Document(page_content='species: Adelie\\nisland: Dream\\nbill_length_mm: 41.1\\nbill_depth_mm: 17.5\\nflipper_length_mm: 190\\nbody_mass_g: 3900\\nsex: MALE', metadata={'source': '/Users/manuvenugopal/Downloads/LangChainNotebooks-UNZIP-ME/01-Data-Connections/some_data/penguins.csv', 'row': 135}),\n",
       " Document(page_content='species: Adelie\\nisland: Dream\\nbill_length_mm: 35.6\\nbill_depth_mm: 17.5\\nflipper_length_mm: 191\\nbody_mass_g: 3175\\nsex: FEMALE', metadata={'source': '/Users/manuvenugopal/Downloads/LangChainNotebooks-UNZIP-ME/01-Data-Connections/some_data/penguins.csv', 'row': 136}),\n",
       " Document(page_content='species: Adelie\\nisland: Dream\\nbill_length_mm: 40.2\\nbill_depth_mm: 20.1\\nflipper_length_mm: 200\\nbody_mass_g: 3975\\nsex: MALE', metadata={'source': '/Users/manuvenugopal/Downloads/LangChainNotebooks-UNZIP-ME/01-Data-Connections/some_data/penguins.csv', 'row': 137}),\n",
       " Document(page_content='species: Adelie\\nisland: Dream\\nbill_length_mm: 37\\nbill_depth_mm: 16.5\\nflipper_length_mm: 185\\nbody_mass_g: 3400\\nsex: FEMALE', metadata={'source': '/Users/manuvenugopal/Downloads/LangChainNotebooks-UNZIP-ME/01-Data-Connections/some_data/penguins.csv', 'row': 138}),\n",
       " Document(page_content='species: Adelie\\nisland: Dream\\nbill_length_mm: 39.7\\nbill_depth_mm: 17.9\\nflipper_length_mm: 193\\nbody_mass_g: 4250\\nsex: MALE', metadata={'source': '/Users/manuvenugopal/Downloads/LangChainNotebooks-UNZIP-ME/01-Data-Connections/some_data/penguins.csv', 'row': 139}),\n",
       " Document(page_content='species: Adelie\\nisland: Dream\\nbill_length_mm: 40.2\\nbill_depth_mm: 17.1\\nflipper_length_mm: 193\\nbody_mass_g: 3400\\nsex: FEMALE', metadata={'source': '/Users/manuvenugopal/Downloads/LangChainNotebooks-UNZIP-ME/01-Data-Connections/some_data/penguins.csv', 'row': 140}),\n",
       " Document(page_content='species: Adelie\\nisland: Dream\\nbill_length_mm: 40.6\\nbill_depth_mm: 17.2\\nflipper_length_mm: 187\\nbody_mass_g: 3475\\nsex: MALE', metadata={'source': '/Users/manuvenugopal/Downloads/LangChainNotebooks-UNZIP-ME/01-Data-Connections/some_data/penguins.csv', 'row': 141}),\n",
       " Document(page_content='species: Adelie\\nisland: Dream\\nbill_length_mm: 32.1\\nbill_depth_mm: 15.5\\nflipper_length_mm: 188\\nbody_mass_g: 3050\\nsex: FEMALE', metadata={'source': '/Users/manuvenugopal/Downloads/LangChainNotebooks-UNZIP-ME/01-Data-Connections/some_data/penguins.csv', 'row': 142}),\n",
       " Document(page_content='species: Adelie\\nisland: Dream\\nbill_length_mm: 40.7\\nbill_depth_mm: 17\\nflipper_length_mm: 190\\nbody_mass_g: 3725\\nsex: MALE', metadata={'source': '/Users/manuvenugopal/Downloads/LangChainNotebooks-UNZIP-ME/01-Data-Connections/some_data/penguins.csv', 'row': 143}),\n",
       " Document(page_content='species: Adelie\\nisland: Dream\\nbill_length_mm: 37.3\\nbill_depth_mm: 16.8\\nflipper_length_mm: 192\\nbody_mass_g: 3000\\nsex: FEMALE', metadata={'source': '/Users/manuvenugopal/Downloads/LangChainNotebooks-UNZIP-ME/01-Data-Connections/some_data/penguins.csv', 'row': 144}),\n",
       " Document(page_content='species: Adelie\\nisland: Dream\\nbill_length_mm: 39\\nbill_depth_mm: 18.7\\nflipper_length_mm: 185\\nbody_mass_g: 3650\\nsex: MALE', metadata={'source': '/Users/manuvenugopal/Downloads/LangChainNotebooks-UNZIP-ME/01-Data-Connections/some_data/penguins.csv', 'row': 145}),\n",
       " Document(page_content='species: Adelie\\nisland: Dream\\nbill_length_mm: 39.2\\nbill_depth_mm: 18.6\\nflipper_length_mm: 190\\nbody_mass_g: 4250\\nsex: MALE', metadata={'source': '/Users/manuvenugopal/Downloads/LangChainNotebooks-UNZIP-ME/01-Data-Connections/some_data/penguins.csv', 'row': 146}),\n",
       " Document(page_content='species: Adelie\\nisland: Dream\\nbill_length_mm: 36.6\\nbill_depth_mm: 18.4\\nflipper_length_mm: 184\\nbody_mass_g: 3475\\nsex: FEMALE', metadata={'source': '/Users/manuvenugopal/Downloads/LangChainNotebooks-UNZIP-ME/01-Data-Connections/some_data/penguins.csv', 'row': 147}),\n",
       " Document(page_content='species: Adelie\\nisland: Dream\\nbill_length_mm: 36\\nbill_depth_mm: 17.8\\nflipper_length_mm: 195\\nbody_mass_g: 3450\\nsex: FEMALE', metadata={'source': '/Users/manuvenugopal/Downloads/LangChainNotebooks-UNZIP-ME/01-Data-Connections/some_data/penguins.csv', 'row': 148}),\n",
       " Document(page_content='species: Adelie\\nisland: Dream\\nbill_length_mm: 37.8\\nbill_depth_mm: 18.1\\nflipper_length_mm: 193\\nbody_mass_g: 3750\\nsex: MALE', metadata={'source': '/Users/manuvenugopal/Downloads/LangChainNotebooks-UNZIP-ME/01-Data-Connections/some_data/penguins.csv', 'row': 149}),\n",
       " Document(page_content='species: Adelie\\nisland: Dream\\nbill_length_mm: 36\\nbill_depth_mm: 17.1\\nflipper_length_mm: 187\\nbody_mass_g: 3700\\nsex: FEMALE', metadata={'source': '/Users/manuvenugopal/Downloads/LangChainNotebooks-UNZIP-ME/01-Data-Connections/some_data/penguins.csv', 'row': 150}),\n",
       " Document(page_content='species: Adelie\\nisland: Dream\\nbill_length_mm: 41.5\\nbill_depth_mm: 18.5\\nflipper_length_mm: 201\\nbody_mass_g: 4000\\nsex: MALE', metadata={'source': '/Users/manuvenugopal/Downloads/LangChainNotebooks-UNZIP-ME/01-Data-Connections/some_data/penguins.csv', 'row': 151}),\n",
       " Document(page_content='species: Chinstrap\\nisland: Dream\\nbill_length_mm: 46.5\\nbill_depth_mm: 17.9\\nflipper_length_mm: 192\\nbody_mass_g: 3500\\nsex: FEMALE', metadata={'source': '/Users/manuvenugopal/Downloads/LangChainNotebooks-UNZIP-ME/01-Data-Connections/some_data/penguins.csv', 'row': 152}),\n",
       " Document(page_content='species: Chinstrap\\nisland: Dream\\nbill_length_mm: 50\\nbill_depth_mm: 19.5\\nflipper_length_mm: 196\\nbody_mass_g: 3900\\nsex: MALE', metadata={'source': '/Users/manuvenugopal/Downloads/LangChainNotebooks-UNZIP-ME/01-Data-Connections/some_data/penguins.csv', 'row': 153}),\n",
       " Document(page_content='species: Chinstrap\\nisland: Dream\\nbill_length_mm: 51.3\\nbill_depth_mm: 19.2\\nflipper_length_mm: 193\\nbody_mass_g: 3650\\nsex: MALE', metadata={'source': '/Users/manuvenugopal/Downloads/LangChainNotebooks-UNZIP-ME/01-Data-Connections/some_data/penguins.csv', 'row': 154}),\n",
       " Document(page_content='species: Chinstrap\\nisland: Dream\\nbill_length_mm: 45.4\\nbill_depth_mm: 18.7\\nflipper_length_mm: 188\\nbody_mass_g: 3525\\nsex: FEMALE', metadata={'source': '/Users/manuvenugopal/Downloads/LangChainNotebooks-UNZIP-ME/01-Data-Connections/some_data/penguins.csv', 'row': 155}),\n",
       " Document(page_content='species: Chinstrap\\nisland: Dream\\nbill_length_mm: 52.7\\nbill_depth_mm: 19.8\\nflipper_length_mm: 197\\nbody_mass_g: 3725\\nsex: MALE', metadata={'source': '/Users/manuvenugopal/Downloads/LangChainNotebooks-UNZIP-ME/01-Data-Connections/some_data/penguins.csv', 'row': 156}),\n",
       " Document(page_content='species: Chinstrap\\nisland: Dream\\nbill_length_mm: 45.2\\nbill_depth_mm: 17.8\\nflipper_length_mm: 198\\nbody_mass_g: 3950\\nsex: FEMALE', metadata={'source': '/Users/manuvenugopal/Downloads/LangChainNotebooks-UNZIP-ME/01-Data-Connections/some_data/penguins.csv', 'row': 157}),\n",
       " Document(page_content='species: Chinstrap\\nisland: Dream\\nbill_length_mm: 46.1\\nbill_depth_mm: 18.2\\nflipper_length_mm: 178\\nbody_mass_g: 3250\\nsex: FEMALE', metadata={'source': '/Users/manuvenugopal/Downloads/LangChainNotebooks-UNZIP-ME/01-Data-Connections/some_data/penguins.csv', 'row': 158}),\n",
       " Document(page_content='species: Chinstrap\\nisland: Dream\\nbill_length_mm: 51.3\\nbill_depth_mm: 18.2\\nflipper_length_mm: 197\\nbody_mass_g: 3750\\nsex: MALE', metadata={'source': '/Users/manuvenugopal/Downloads/LangChainNotebooks-UNZIP-ME/01-Data-Connections/some_data/penguins.csv', 'row': 159}),\n",
       " Document(page_content='species: Chinstrap\\nisland: Dream\\nbill_length_mm: 46\\nbill_depth_mm: 18.9\\nflipper_length_mm: 195\\nbody_mass_g: 4150\\nsex: FEMALE', metadata={'source': '/Users/manuvenugopal/Downloads/LangChainNotebooks-UNZIP-ME/01-Data-Connections/some_data/penguins.csv', 'row': 160}),\n",
       " Document(page_content='species: Chinstrap\\nisland: Dream\\nbill_length_mm: 51.3\\nbill_depth_mm: 19.9\\nflipper_length_mm: 198\\nbody_mass_g: 3700\\nsex: MALE', metadata={'source': '/Users/manuvenugopal/Downloads/LangChainNotebooks-UNZIP-ME/01-Data-Connections/some_data/penguins.csv', 'row': 161}),\n",
       " Document(page_content='species: Chinstrap\\nisland: Dream\\nbill_length_mm: 46.6\\nbill_depth_mm: 17.8\\nflipper_length_mm: 193\\nbody_mass_g: 3800\\nsex: FEMALE', metadata={'source': '/Users/manuvenugopal/Downloads/LangChainNotebooks-UNZIP-ME/01-Data-Connections/some_data/penguins.csv', 'row': 162}),\n",
       " Document(page_content='species: Chinstrap\\nisland: Dream\\nbill_length_mm: 51.7\\nbill_depth_mm: 20.3\\nflipper_length_mm: 194\\nbody_mass_g: 3775\\nsex: MALE', metadata={'source': '/Users/manuvenugopal/Downloads/LangChainNotebooks-UNZIP-ME/01-Data-Connections/some_data/penguins.csv', 'row': 163}),\n",
       " Document(page_content='species: Chinstrap\\nisland: Dream\\nbill_length_mm: 47\\nbill_depth_mm: 17.3\\nflipper_length_mm: 185\\nbody_mass_g: 3700\\nsex: FEMALE', metadata={'source': '/Users/manuvenugopal/Downloads/LangChainNotebooks-UNZIP-ME/01-Data-Connections/some_data/penguins.csv', 'row': 164}),\n",
       " Document(page_content='species: Chinstrap\\nisland: Dream\\nbill_length_mm: 52\\nbill_depth_mm: 18.1\\nflipper_length_mm: 201\\nbody_mass_g: 4050\\nsex: MALE', metadata={'source': '/Users/manuvenugopal/Downloads/LangChainNotebooks-UNZIP-ME/01-Data-Connections/some_data/penguins.csv', 'row': 165}),\n",
       " Document(page_content='species: Chinstrap\\nisland: Dream\\nbill_length_mm: 45.9\\nbill_depth_mm: 17.1\\nflipper_length_mm: 190\\nbody_mass_g: 3575\\nsex: FEMALE', metadata={'source': '/Users/manuvenugopal/Downloads/LangChainNotebooks-UNZIP-ME/01-Data-Connections/some_data/penguins.csv', 'row': 166}),\n",
       " Document(page_content='species: Chinstrap\\nisland: Dream\\nbill_length_mm: 50.5\\nbill_depth_mm: 19.6\\nflipper_length_mm: 201\\nbody_mass_g: 4050\\nsex: MALE', metadata={'source': '/Users/manuvenugopal/Downloads/LangChainNotebooks-UNZIP-ME/01-Data-Connections/some_data/penguins.csv', 'row': 167}),\n",
       " Document(page_content='species: Chinstrap\\nisland: Dream\\nbill_length_mm: 50.3\\nbill_depth_mm: 20\\nflipper_length_mm: 197\\nbody_mass_g: 3300\\nsex: MALE', metadata={'source': '/Users/manuvenugopal/Downloads/LangChainNotebooks-UNZIP-ME/01-Data-Connections/some_data/penguins.csv', 'row': 168}),\n",
       " Document(page_content='species: Chinstrap\\nisland: Dream\\nbill_length_mm: 58\\nbill_depth_mm: 17.8\\nflipper_length_mm: 181\\nbody_mass_g: 3700\\nsex: FEMALE', metadata={'source': '/Users/manuvenugopal/Downloads/LangChainNotebooks-UNZIP-ME/01-Data-Connections/some_data/penguins.csv', 'row': 169}),\n",
       " Document(page_content='species: Chinstrap\\nisland: Dream\\nbill_length_mm: 46.4\\nbill_depth_mm: 18.6\\nflipper_length_mm: 190\\nbody_mass_g: 3450\\nsex: FEMALE', metadata={'source': '/Users/manuvenugopal/Downloads/LangChainNotebooks-UNZIP-ME/01-Data-Connections/some_data/penguins.csv', 'row': 170}),\n",
       " Document(page_content='species: Chinstrap\\nisland: Dream\\nbill_length_mm: 49.2\\nbill_depth_mm: 18.2\\nflipper_length_mm: 195\\nbody_mass_g: 4400\\nsex: MALE', metadata={'source': '/Users/manuvenugopal/Downloads/LangChainNotebooks-UNZIP-ME/01-Data-Connections/some_data/penguins.csv', 'row': 171}),\n",
       " Document(page_content='species: Chinstrap\\nisland: Dream\\nbill_length_mm: 42.4\\nbill_depth_mm: 17.3\\nflipper_length_mm: 181\\nbody_mass_g: 3600\\nsex: FEMALE', metadata={'source': '/Users/manuvenugopal/Downloads/LangChainNotebooks-UNZIP-ME/01-Data-Connections/some_data/penguins.csv', 'row': 172}),\n",
       " Document(page_content='species: Chinstrap\\nisland: Dream\\nbill_length_mm: 48.5\\nbill_depth_mm: 17.5\\nflipper_length_mm: 191\\nbody_mass_g: 3400\\nsex: MALE', metadata={'source': '/Users/manuvenugopal/Downloads/LangChainNotebooks-UNZIP-ME/01-Data-Connections/some_data/penguins.csv', 'row': 173}),\n",
       " Document(page_content='species: Chinstrap\\nisland: Dream\\nbill_length_mm: 43.2\\nbill_depth_mm: 16.6\\nflipper_length_mm: 187\\nbody_mass_g: 2900\\nsex: FEMALE', metadata={'source': '/Users/manuvenugopal/Downloads/LangChainNotebooks-UNZIP-ME/01-Data-Connections/some_data/penguins.csv', 'row': 174}),\n",
       " Document(page_content='species: Chinstrap\\nisland: Dream\\nbill_length_mm: 50.6\\nbill_depth_mm: 19.4\\nflipper_length_mm: 193\\nbody_mass_g: 3800\\nsex: MALE', metadata={'source': '/Users/manuvenugopal/Downloads/LangChainNotebooks-UNZIP-ME/01-Data-Connections/some_data/penguins.csv', 'row': 175}),\n",
       " Document(page_content='species: Chinstrap\\nisland: Dream\\nbill_length_mm: 46.7\\nbill_depth_mm: 17.9\\nflipper_length_mm: 195\\nbody_mass_g: 3300\\nsex: FEMALE', metadata={'source': '/Users/manuvenugopal/Downloads/LangChainNotebooks-UNZIP-ME/01-Data-Connections/some_data/penguins.csv', 'row': 176}),\n",
       " Document(page_content='species: Chinstrap\\nisland: Dream\\nbill_length_mm: 52\\nbill_depth_mm: 19\\nflipper_length_mm: 197\\nbody_mass_g: 4150\\nsex: MALE', metadata={'source': '/Users/manuvenugopal/Downloads/LangChainNotebooks-UNZIP-ME/01-Data-Connections/some_data/penguins.csv', 'row': 177}),\n",
       " Document(page_content='species: Chinstrap\\nisland: Dream\\nbill_length_mm: 50.5\\nbill_depth_mm: 18.4\\nflipper_length_mm: 200\\nbody_mass_g: 3400\\nsex: FEMALE', metadata={'source': '/Users/manuvenugopal/Downloads/LangChainNotebooks-UNZIP-ME/01-Data-Connections/some_data/penguins.csv', 'row': 178}),\n",
       " Document(page_content='species: Chinstrap\\nisland: Dream\\nbill_length_mm: 49.5\\nbill_depth_mm: 19\\nflipper_length_mm: 200\\nbody_mass_g: 3800\\nsex: MALE', metadata={'source': '/Users/manuvenugopal/Downloads/LangChainNotebooks-UNZIP-ME/01-Data-Connections/some_data/penguins.csv', 'row': 179}),\n",
       " Document(page_content='species: Chinstrap\\nisland: Dream\\nbill_length_mm: 46.4\\nbill_depth_mm: 17.8\\nflipper_length_mm: 191\\nbody_mass_g: 3700\\nsex: FEMALE', metadata={'source': '/Users/manuvenugopal/Downloads/LangChainNotebooks-UNZIP-ME/01-Data-Connections/some_data/penguins.csv', 'row': 180}),\n",
       " Document(page_content='species: Chinstrap\\nisland: Dream\\nbill_length_mm: 52.8\\nbill_depth_mm: 20\\nflipper_length_mm: 205\\nbody_mass_g: 4550\\nsex: MALE', metadata={'source': '/Users/manuvenugopal/Downloads/LangChainNotebooks-UNZIP-ME/01-Data-Connections/some_data/penguins.csv', 'row': 181}),\n",
       " Document(page_content='species: Chinstrap\\nisland: Dream\\nbill_length_mm: 40.9\\nbill_depth_mm: 16.6\\nflipper_length_mm: 187\\nbody_mass_g: 3200\\nsex: FEMALE', metadata={'source': '/Users/manuvenugopal/Downloads/LangChainNotebooks-UNZIP-ME/01-Data-Connections/some_data/penguins.csv', 'row': 182}),\n",
       " Document(page_content='species: Chinstrap\\nisland: Dream\\nbill_length_mm: 54.2\\nbill_depth_mm: 20.8\\nflipper_length_mm: 201\\nbody_mass_g: 4300\\nsex: MALE', metadata={'source': '/Users/manuvenugopal/Downloads/LangChainNotebooks-UNZIP-ME/01-Data-Connections/some_data/penguins.csv', 'row': 183}),\n",
       " Document(page_content='species: Chinstrap\\nisland: Dream\\nbill_length_mm: 42.5\\nbill_depth_mm: 16.7\\nflipper_length_mm: 187\\nbody_mass_g: 3350\\nsex: FEMALE', metadata={'source': '/Users/manuvenugopal/Downloads/LangChainNotebooks-UNZIP-ME/01-Data-Connections/some_data/penguins.csv', 'row': 184}),\n",
       " Document(page_content='species: Chinstrap\\nisland: Dream\\nbill_length_mm: 51\\nbill_depth_mm: 18.8\\nflipper_length_mm: 203\\nbody_mass_g: 4100\\nsex: MALE', metadata={'source': '/Users/manuvenugopal/Downloads/LangChainNotebooks-UNZIP-ME/01-Data-Connections/some_data/penguins.csv', 'row': 185}),\n",
       " Document(page_content='species: Chinstrap\\nisland: Dream\\nbill_length_mm: 49.7\\nbill_depth_mm: 18.6\\nflipper_length_mm: 195\\nbody_mass_g: 3600\\nsex: MALE', metadata={'source': '/Users/manuvenugopal/Downloads/LangChainNotebooks-UNZIP-ME/01-Data-Connections/some_data/penguins.csv', 'row': 186}),\n",
       " Document(page_content='species: Chinstrap\\nisland: Dream\\nbill_length_mm: 47.5\\nbill_depth_mm: 16.8\\nflipper_length_mm: 199\\nbody_mass_g: 3900\\nsex: FEMALE', metadata={'source': '/Users/manuvenugopal/Downloads/LangChainNotebooks-UNZIP-ME/01-Data-Connections/some_data/penguins.csv', 'row': 187}),\n",
       " Document(page_content='species: Chinstrap\\nisland: Dream\\nbill_length_mm: 47.6\\nbill_depth_mm: 18.3\\nflipper_length_mm: 195\\nbody_mass_g: 3850\\nsex: FEMALE', metadata={'source': '/Users/manuvenugopal/Downloads/LangChainNotebooks-UNZIP-ME/01-Data-Connections/some_data/penguins.csv', 'row': 188}),\n",
       " Document(page_content='species: Chinstrap\\nisland: Dream\\nbill_length_mm: 52\\nbill_depth_mm: 20.7\\nflipper_length_mm: 210\\nbody_mass_g: 4800\\nsex: MALE', metadata={'source': '/Users/manuvenugopal/Downloads/LangChainNotebooks-UNZIP-ME/01-Data-Connections/some_data/penguins.csv', 'row': 189}),\n",
       " Document(page_content='species: Chinstrap\\nisland: Dream\\nbill_length_mm: 46.9\\nbill_depth_mm: 16.6\\nflipper_length_mm: 192\\nbody_mass_g: 2700\\nsex: FEMALE', metadata={'source': '/Users/manuvenugopal/Downloads/LangChainNotebooks-UNZIP-ME/01-Data-Connections/some_data/penguins.csv', 'row': 190}),\n",
       " Document(page_content='species: Chinstrap\\nisland: Dream\\nbill_length_mm: 53.5\\nbill_depth_mm: 19.9\\nflipper_length_mm: 205\\nbody_mass_g: 4500\\nsex: MALE', metadata={'source': '/Users/manuvenugopal/Downloads/LangChainNotebooks-UNZIP-ME/01-Data-Connections/some_data/penguins.csv', 'row': 191}),\n",
       " Document(page_content='species: Chinstrap\\nisland: Dream\\nbill_length_mm: 49\\nbill_depth_mm: 19.5\\nflipper_length_mm: 210\\nbody_mass_g: 3950\\nsex: MALE', metadata={'source': '/Users/manuvenugopal/Downloads/LangChainNotebooks-UNZIP-ME/01-Data-Connections/some_data/penguins.csv', 'row': 192}),\n",
       " Document(page_content='species: Chinstrap\\nisland: Dream\\nbill_length_mm: 46.2\\nbill_depth_mm: 17.5\\nflipper_length_mm: 187\\nbody_mass_g: 3650\\nsex: FEMALE', metadata={'source': '/Users/manuvenugopal/Downloads/LangChainNotebooks-UNZIP-ME/01-Data-Connections/some_data/penguins.csv', 'row': 193}),\n",
       " Document(page_content='species: Chinstrap\\nisland: Dream\\nbill_length_mm: 50.9\\nbill_depth_mm: 19.1\\nflipper_length_mm: 196\\nbody_mass_g: 3550\\nsex: MALE', metadata={'source': '/Users/manuvenugopal/Downloads/LangChainNotebooks-UNZIP-ME/01-Data-Connections/some_data/penguins.csv', 'row': 194}),\n",
       " Document(page_content='species: Chinstrap\\nisland: Dream\\nbill_length_mm: 45.5\\nbill_depth_mm: 17\\nflipper_length_mm: 196\\nbody_mass_g: 3500\\nsex: FEMALE', metadata={'source': '/Users/manuvenugopal/Downloads/LangChainNotebooks-UNZIP-ME/01-Data-Connections/some_data/penguins.csv', 'row': 195}),\n",
       " Document(page_content='species: Chinstrap\\nisland: Dream\\nbill_length_mm: 50.9\\nbill_depth_mm: 17.9\\nflipper_length_mm: 196\\nbody_mass_g: 3675\\nsex: FEMALE', metadata={'source': '/Users/manuvenugopal/Downloads/LangChainNotebooks-UNZIP-ME/01-Data-Connections/some_data/penguins.csv', 'row': 196}),\n",
       " Document(page_content='species: Chinstrap\\nisland: Dream\\nbill_length_mm: 50.8\\nbill_depth_mm: 18.5\\nflipper_length_mm: 201\\nbody_mass_g: 4450\\nsex: MALE', metadata={'source': '/Users/manuvenugopal/Downloads/LangChainNotebooks-UNZIP-ME/01-Data-Connections/some_data/penguins.csv', 'row': 197}),\n",
       " Document(page_content='species: Chinstrap\\nisland: Dream\\nbill_length_mm: 50.1\\nbill_depth_mm: 17.9\\nflipper_length_mm: 190\\nbody_mass_g: 3400\\nsex: FEMALE', metadata={'source': '/Users/manuvenugopal/Downloads/LangChainNotebooks-UNZIP-ME/01-Data-Connections/some_data/penguins.csv', 'row': 198}),\n",
       " Document(page_content='species: Chinstrap\\nisland: Dream\\nbill_length_mm: 49\\nbill_depth_mm: 19.6\\nflipper_length_mm: 212\\nbody_mass_g: 4300\\nsex: MALE', metadata={'source': '/Users/manuvenugopal/Downloads/LangChainNotebooks-UNZIP-ME/01-Data-Connections/some_data/penguins.csv', 'row': 199}),\n",
       " Document(page_content='species: Chinstrap\\nisland: Dream\\nbill_length_mm: 51.5\\nbill_depth_mm: 18.7\\nflipper_length_mm: 187\\nbody_mass_g: 3250\\nsex: MALE', metadata={'source': '/Users/manuvenugopal/Downloads/LangChainNotebooks-UNZIP-ME/01-Data-Connections/some_data/penguins.csv', 'row': 200}),\n",
       " Document(page_content='species: Chinstrap\\nisland: Dream\\nbill_length_mm: 49.8\\nbill_depth_mm: 17.3\\nflipper_length_mm: 198\\nbody_mass_g: 3675\\nsex: FEMALE', metadata={'source': '/Users/manuvenugopal/Downloads/LangChainNotebooks-UNZIP-ME/01-Data-Connections/some_data/penguins.csv', 'row': 201}),\n",
       " Document(page_content='species: Chinstrap\\nisland: Dream\\nbill_length_mm: 48.1\\nbill_depth_mm: 16.4\\nflipper_length_mm: 199\\nbody_mass_g: 3325\\nsex: FEMALE', metadata={'source': '/Users/manuvenugopal/Downloads/LangChainNotebooks-UNZIP-ME/01-Data-Connections/some_data/penguins.csv', 'row': 202}),\n",
       " Document(page_content='species: Chinstrap\\nisland: Dream\\nbill_length_mm: 51.4\\nbill_depth_mm: 19\\nflipper_length_mm: 201\\nbody_mass_g: 3950\\nsex: MALE', metadata={'source': '/Users/manuvenugopal/Downloads/LangChainNotebooks-UNZIP-ME/01-Data-Connections/some_data/penguins.csv', 'row': 203}),\n",
       " Document(page_content='species: Chinstrap\\nisland: Dream\\nbill_length_mm: 45.7\\nbill_depth_mm: 17.3\\nflipper_length_mm: 193\\nbody_mass_g: 3600\\nsex: FEMALE', metadata={'source': '/Users/manuvenugopal/Downloads/LangChainNotebooks-UNZIP-ME/01-Data-Connections/some_data/penguins.csv', 'row': 204}),\n",
       " Document(page_content='species: Chinstrap\\nisland: Dream\\nbill_length_mm: 50.7\\nbill_depth_mm: 19.7\\nflipper_length_mm: 203\\nbody_mass_g: 4050\\nsex: MALE', metadata={'source': '/Users/manuvenugopal/Downloads/LangChainNotebooks-UNZIP-ME/01-Data-Connections/some_data/penguins.csv', 'row': 205}),\n",
       " Document(page_content='species: Chinstrap\\nisland: Dream\\nbill_length_mm: 42.5\\nbill_depth_mm: 17.3\\nflipper_length_mm: 187\\nbody_mass_g: 3350\\nsex: FEMALE', metadata={'source': '/Users/manuvenugopal/Downloads/LangChainNotebooks-UNZIP-ME/01-Data-Connections/some_data/penguins.csv', 'row': 206}),\n",
       " Document(page_content='species: Chinstrap\\nisland: Dream\\nbill_length_mm: 52.2\\nbill_depth_mm: 18.8\\nflipper_length_mm: 197\\nbody_mass_g: 3450\\nsex: MALE', metadata={'source': '/Users/manuvenugopal/Downloads/LangChainNotebooks-UNZIP-ME/01-Data-Connections/some_data/penguins.csv', 'row': 207}),\n",
       " Document(page_content='species: Chinstrap\\nisland: Dream\\nbill_length_mm: 45.2\\nbill_depth_mm: 16.6\\nflipper_length_mm: 191\\nbody_mass_g: 3250\\nsex: FEMALE', metadata={'source': '/Users/manuvenugopal/Downloads/LangChainNotebooks-UNZIP-ME/01-Data-Connections/some_data/penguins.csv', 'row': 208}),\n",
       " Document(page_content='species: Chinstrap\\nisland: Dream\\nbill_length_mm: 49.3\\nbill_depth_mm: 19.9\\nflipper_length_mm: 203\\nbody_mass_g: 4050\\nsex: MALE', metadata={'source': '/Users/manuvenugopal/Downloads/LangChainNotebooks-UNZIP-ME/01-Data-Connections/some_data/penguins.csv', 'row': 209}),\n",
       " Document(page_content='species: Chinstrap\\nisland: Dream\\nbill_length_mm: 50.2\\nbill_depth_mm: 18.8\\nflipper_length_mm: 202\\nbody_mass_g: 3800\\nsex: MALE', metadata={'source': '/Users/manuvenugopal/Downloads/LangChainNotebooks-UNZIP-ME/01-Data-Connections/some_data/penguins.csv', 'row': 210}),\n",
       " Document(page_content='species: Chinstrap\\nisland: Dream\\nbill_length_mm: 45.6\\nbill_depth_mm: 19.4\\nflipper_length_mm: 194\\nbody_mass_g: 3525\\nsex: FEMALE', metadata={'source': '/Users/manuvenugopal/Downloads/LangChainNotebooks-UNZIP-ME/01-Data-Connections/some_data/penguins.csv', 'row': 211}),\n",
       " Document(page_content='species: Chinstrap\\nisland: Dream\\nbill_length_mm: 51.9\\nbill_depth_mm: 19.5\\nflipper_length_mm: 206\\nbody_mass_g: 3950\\nsex: MALE', metadata={'source': '/Users/manuvenugopal/Downloads/LangChainNotebooks-UNZIP-ME/01-Data-Connections/some_data/penguins.csv', 'row': 212}),\n",
       " Document(page_content='species: Chinstrap\\nisland: Dream\\nbill_length_mm: 46.8\\nbill_depth_mm: 16.5\\nflipper_length_mm: 189\\nbody_mass_g: 3650\\nsex: FEMALE', metadata={'source': '/Users/manuvenugopal/Downloads/LangChainNotebooks-UNZIP-ME/01-Data-Connections/some_data/penguins.csv', 'row': 213}),\n",
       " Document(page_content='species: Chinstrap\\nisland: Dream\\nbill_length_mm: 45.7\\nbill_depth_mm: 17\\nflipper_length_mm: 195\\nbody_mass_g: 3650\\nsex: FEMALE', metadata={'source': '/Users/manuvenugopal/Downloads/LangChainNotebooks-UNZIP-ME/01-Data-Connections/some_data/penguins.csv', 'row': 214}),\n",
       " Document(page_content='species: Chinstrap\\nisland: Dream\\nbill_length_mm: 55.8\\nbill_depth_mm: 19.8\\nflipper_length_mm: 207\\nbody_mass_g: 4000\\nsex: MALE', metadata={'source': '/Users/manuvenugopal/Downloads/LangChainNotebooks-UNZIP-ME/01-Data-Connections/some_data/penguins.csv', 'row': 215}),\n",
       " Document(page_content='species: Chinstrap\\nisland: Dream\\nbill_length_mm: 43.5\\nbill_depth_mm: 18.1\\nflipper_length_mm: 202\\nbody_mass_g: 3400\\nsex: FEMALE', metadata={'source': '/Users/manuvenugopal/Downloads/LangChainNotebooks-UNZIP-ME/01-Data-Connections/some_data/penguins.csv', 'row': 216}),\n",
       " Document(page_content='species: Chinstrap\\nisland: Dream\\nbill_length_mm: 49.6\\nbill_depth_mm: 18.2\\nflipper_length_mm: 193\\nbody_mass_g: 3775\\nsex: MALE', metadata={'source': '/Users/manuvenugopal/Downloads/LangChainNotebooks-UNZIP-ME/01-Data-Connections/some_data/penguins.csv', 'row': 217}),\n",
       " Document(page_content='species: Chinstrap\\nisland: Dream\\nbill_length_mm: 50.8\\nbill_depth_mm: 19\\nflipper_length_mm: 210\\nbody_mass_g: 4100\\nsex: MALE', metadata={'source': '/Users/manuvenugopal/Downloads/LangChainNotebooks-UNZIP-ME/01-Data-Connections/some_data/penguins.csv', 'row': 218}),\n",
       " Document(page_content='species: Chinstrap\\nisland: Dream\\nbill_length_mm: 50.2\\nbill_depth_mm: 18.7\\nflipper_length_mm: 198\\nbody_mass_g: 3775\\nsex: FEMALE', metadata={'source': '/Users/manuvenugopal/Downloads/LangChainNotebooks-UNZIP-ME/01-Data-Connections/some_data/penguins.csv', 'row': 219}),\n",
       " Document(page_content='species: Gentoo\\nisland: Biscoe\\nbill_length_mm: 46.1\\nbill_depth_mm: 13.2\\nflipper_length_mm: 211\\nbody_mass_g: 4500\\nsex: FEMALE', metadata={'source': '/Users/manuvenugopal/Downloads/LangChainNotebooks-UNZIP-ME/01-Data-Connections/some_data/penguins.csv', 'row': 220}),\n",
       " Document(page_content='species: Gentoo\\nisland: Biscoe\\nbill_length_mm: 50\\nbill_depth_mm: 16.3\\nflipper_length_mm: 230\\nbody_mass_g: 5700\\nsex: MALE', metadata={'source': '/Users/manuvenugopal/Downloads/LangChainNotebooks-UNZIP-ME/01-Data-Connections/some_data/penguins.csv', 'row': 221}),\n",
       " Document(page_content='species: Gentoo\\nisland: Biscoe\\nbill_length_mm: 48.7\\nbill_depth_mm: 14.1\\nflipper_length_mm: 210\\nbody_mass_g: 4450\\nsex: FEMALE', metadata={'source': '/Users/manuvenugopal/Downloads/LangChainNotebooks-UNZIP-ME/01-Data-Connections/some_data/penguins.csv', 'row': 222}),\n",
       " Document(page_content='species: Gentoo\\nisland: Biscoe\\nbill_length_mm: 50\\nbill_depth_mm: 15.2\\nflipper_length_mm: 218\\nbody_mass_g: 5700\\nsex: MALE', metadata={'source': '/Users/manuvenugopal/Downloads/LangChainNotebooks-UNZIP-ME/01-Data-Connections/some_data/penguins.csv', 'row': 223}),\n",
       " Document(page_content='species: Gentoo\\nisland: Biscoe\\nbill_length_mm: 47.6\\nbill_depth_mm: 14.5\\nflipper_length_mm: 215\\nbody_mass_g: 5400\\nsex: MALE', metadata={'source': '/Users/manuvenugopal/Downloads/LangChainNotebooks-UNZIP-ME/01-Data-Connections/some_data/penguins.csv', 'row': 224}),\n",
       " Document(page_content='species: Gentoo\\nisland: Biscoe\\nbill_length_mm: 46.5\\nbill_depth_mm: 13.5\\nflipper_length_mm: 210\\nbody_mass_g: 4550\\nsex: FEMALE', metadata={'source': '/Users/manuvenugopal/Downloads/LangChainNotebooks-UNZIP-ME/01-Data-Connections/some_data/penguins.csv', 'row': 225}),\n",
       " Document(page_content='species: Gentoo\\nisland: Biscoe\\nbill_length_mm: 45.4\\nbill_depth_mm: 14.6\\nflipper_length_mm: 211\\nbody_mass_g: 4800\\nsex: FEMALE', metadata={'source': '/Users/manuvenugopal/Downloads/LangChainNotebooks-UNZIP-ME/01-Data-Connections/some_data/penguins.csv', 'row': 226}),\n",
       " Document(page_content='species: Gentoo\\nisland: Biscoe\\nbill_length_mm: 46.7\\nbill_depth_mm: 15.3\\nflipper_length_mm: 219\\nbody_mass_g: 5200\\nsex: MALE', metadata={'source': '/Users/manuvenugopal/Downloads/LangChainNotebooks-UNZIP-ME/01-Data-Connections/some_data/penguins.csv', 'row': 227}),\n",
       " Document(page_content='species: Gentoo\\nisland: Biscoe\\nbill_length_mm: 43.3\\nbill_depth_mm: 13.4\\nflipper_length_mm: 209\\nbody_mass_g: 4400\\nsex: FEMALE', metadata={'source': '/Users/manuvenugopal/Downloads/LangChainNotebooks-UNZIP-ME/01-Data-Connections/some_data/penguins.csv', 'row': 228}),\n",
       " Document(page_content='species: Gentoo\\nisland: Biscoe\\nbill_length_mm: 46.8\\nbill_depth_mm: 15.4\\nflipper_length_mm: 215\\nbody_mass_g: 5150\\nsex: MALE', metadata={'source': '/Users/manuvenugopal/Downloads/LangChainNotebooks-UNZIP-ME/01-Data-Connections/some_data/penguins.csv', 'row': 229}),\n",
       " Document(page_content='species: Gentoo\\nisland: Biscoe\\nbill_length_mm: 40.9\\nbill_depth_mm: 13.7\\nflipper_length_mm: 214\\nbody_mass_g: 4650\\nsex: FEMALE', metadata={'source': '/Users/manuvenugopal/Downloads/LangChainNotebooks-UNZIP-ME/01-Data-Connections/some_data/penguins.csv', 'row': 230}),\n",
       " Document(page_content='species: Gentoo\\nisland: Biscoe\\nbill_length_mm: 49\\nbill_depth_mm: 16.1\\nflipper_length_mm: 216\\nbody_mass_g: 5550\\nsex: MALE', metadata={'source': '/Users/manuvenugopal/Downloads/LangChainNotebooks-UNZIP-ME/01-Data-Connections/some_data/penguins.csv', 'row': 231}),\n",
       " Document(page_content='species: Gentoo\\nisland: Biscoe\\nbill_length_mm: 45.5\\nbill_depth_mm: 13.7\\nflipper_length_mm: 214\\nbody_mass_g: 4650\\nsex: FEMALE', metadata={'source': '/Users/manuvenugopal/Downloads/LangChainNotebooks-UNZIP-ME/01-Data-Connections/some_data/penguins.csv', 'row': 232}),\n",
       " Document(page_content='species: Gentoo\\nisland: Biscoe\\nbill_length_mm: 48.4\\nbill_depth_mm: 14.6\\nflipper_length_mm: 213\\nbody_mass_g: 5850\\nsex: MALE', metadata={'source': '/Users/manuvenugopal/Downloads/LangChainNotebooks-UNZIP-ME/01-Data-Connections/some_data/penguins.csv', 'row': 233}),\n",
       " Document(page_content='species: Gentoo\\nisland: Biscoe\\nbill_length_mm: 45.8\\nbill_depth_mm: 14.6\\nflipper_length_mm: 210\\nbody_mass_g: 4200\\nsex: FEMALE', metadata={'source': '/Users/manuvenugopal/Downloads/LangChainNotebooks-UNZIP-ME/01-Data-Connections/some_data/penguins.csv', 'row': 234}),\n",
       " Document(page_content='species: Gentoo\\nisland: Biscoe\\nbill_length_mm: 49.3\\nbill_depth_mm: 15.7\\nflipper_length_mm: 217\\nbody_mass_g: 5850\\nsex: MALE', metadata={'source': '/Users/manuvenugopal/Downloads/LangChainNotebooks-UNZIP-ME/01-Data-Connections/some_data/penguins.csv', 'row': 235}),\n",
       " Document(page_content='species: Gentoo\\nisland: Biscoe\\nbill_length_mm: 42\\nbill_depth_mm: 13.5\\nflipper_length_mm: 210\\nbody_mass_g: 4150\\nsex: FEMALE', metadata={'source': '/Users/manuvenugopal/Downloads/LangChainNotebooks-UNZIP-ME/01-Data-Connections/some_data/penguins.csv', 'row': 236}),\n",
       " Document(page_content='species: Gentoo\\nisland: Biscoe\\nbill_length_mm: 49.2\\nbill_depth_mm: 15.2\\nflipper_length_mm: 221\\nbody_mass_g: 6300\\nsex: MALE', metadata={'source': '/Users/manuvenugopal/Downloads/LangChainNotebooks-UNZIP-ME/01-Data-Connections/some_data/penguins.csv', 'row': 237}),\n",
       " Document(page_content='species: Gentoo\\nisland: Biscoe\\nbill_length_mm: 46.2\\nbill_depth_mm: 14.5\\nflipper_length_mm: 209\\nbody_mass_g: 4800\\nsex: FEMALE', metadata={'source': '/Users/manuvenugopal/Downloads/LangChainNotebooks-UNZIP-ME/01-Data-Connections/some_data/penguins.csv', 'row': 238}),\n",
       " Document(page_content='species: Gentoo\\nisland: Biscoe\\nbill_length_mm: 48.7\\nbill_depth_mm: 15.1\\nflipper_length_mm: 222\\nbody_mass_g: 5350\\nsex: MALE', metadata={'source': '/Users/manuvenugopal/Downloads/LangChainNotebooks-UNZIP-ME/01-Data-Connections/some_data/penguins.csv', 'row': 239}),\n",
       " Document(page_content='species: Gentoo\\nisland: Biscoe\\nbill_length_mm: 50.2\\nbill_depth_mm: 14.3\\nflipper_length_mm: 218\\nbody_mass_g: 5700\\nsex: MALE', metadata={'source': '/Users/manuvenugopal/Downloads/LangChainNotebooks-UNZIP-ME/01-Data-Connections/some_data/penguins.csv', 'row': 240}),\n",
       " Document(page_content='species: Gentoo\\nisland: Biscoe\\nbill_length_mm: 45.1\\nbill_depth_mm: 14.5\\nflipper_length_mm: 215\\nbody_mass_g: 5000\\nsex: FEMALE', metadata={'source': '/Users/manuvenugopal/Downloads/LangChainNotebooks-UNZIP-ME/01-Data-Connections/some_data/penguins.csv', 'row': 241}),\n",
       " Document(page_content='species: Gentoo\\nisland: Biscoe\\nbill_length_mm: 46.5\\nbill_depth_mm: 14.5\\nflipper_length_mm: 213\\nbody_mass_g: 4400\\nsex: FEMALE', metadata={'source': '/Users/manuvenugopal/Downloads/LangChainNotebooks-UNZIP-ME/01-Data-Connections/some_data/penguins.csv', 'row': 242}),\n",
       " Document(page_content='species: Gentoo\\nisland: Biscoe\\nbill_length_mm: 46.3\\nbill_depth_mm: 15.8\\nflipper_length_mm: 215\\nbody_mass_g: 5050\\nsex: MALE', metadata={'source': '/Users/manuvenugopal/Downloads/LangChainNotebooks-UNZIP-ME/01-Data-Connections/some_data/penguins.csv', 'row': 243}),\n",
       " Document(page_content='species: Gentoo\\nisland: Biscoe\\nbill_length_mm: 42.9\\nbill_depth_mm: 13.1\\nflipper_length_mm: 215\\nbody_mass_g: 5000\\nsex: FEMALE', metadata={'source': '/Users/manuvenugopal/Downloads/LangChainNotebooks-UNZIP-ME/01-Data-Connections/some_data/penguins.csv', 'row': 244}),\n",
       " Document(page_content='species: Gentoo\\nisland: Biscoe\\nbill_length_mm: 46.1\\nbill_depth_mm: 15.1\\nflipper_length_mm: 215\\nbody_mass_g: 5100\\nsex: MALE', metadata={'source': '/Users/manuvenugopal/Downloads/LangChainNotebooks-UNZIP-ME/01-Data-Connections/some_data/penguins.csv', 'row': 245}),\n",
       " Document(page_content='species: Gentoo\\nisland: Biscoe\\nbill_length_mm: 44.5\\nbill_depth_mm: 14.3\\nflipper_length_mm: 216\\nbody_mass_g: 4100\\nsex: ', metadata={'source': '/Users/manuvenugopal/Downloads/LangChainNotebooks-UNZIP-ME/01-Data-Connections/some_data/penguins.csv', 'row': 246}),\n",
       " Document(page_content='species: Gentoo\\nisland: Biscoe\\nbill_length_mm: 47.8\\nbill_depth_mm: 15\\nflipper_length_mm: 215\\nbody_mass_g: 5650\\nsex: MALE', metadata={'source': '/Users/manuvenugopal/Downloads/LangChainNotebooks-UNZIP-ME/01-Data-Connections/some_data/penguins.csv', 'row': 247}),\n",
       " Document(page_content='species: Gentoo\\nisland: Biscoe\\nbill_length_mm: 48.2\\nbill_depth_mm: 14.3\\nflipper_length_mm: 210\\nbody_mass_g: 4600\\nsex: FEMALE', metadata={'source': '/Users/manuvenugopal/Downloads/LangChainNotebooks-UNZIP-ME/01-Data-Connections/some_data/penguins.csv', 'row': 248}),\n",
       " Document(page_content='species: Gentoo\\nisland: Biscoe\\nbill_length_mm: 50\\nbill_depth_mm: 15.3\\nflipper_length_mm: 220\\nbody_mass_g: 5550\\nsex: MALE', metadata={'source': '/Users/manuvenugopal/Downloads/LangChainNotebooks-UNZIP-ME/01-Data-Connections/some_data/penguins.csv', 'row': 249}),\n",
       " Document(page_content='species: Gentoo\\nisland: Biscoe\\nbill_length_mm: 47.3\\nbill_depth_mm: 15.3\\nflipper_length_mm: 222\\nbody_mass_g: 5250\\nsex: MALE', metadata={'source': '/Users/manuvenugopal/Downloads/LangChainNotebooks-UNZIP-ME/01-Data-Connections/some_data/penguins.csv', 'row': 250}),\n",
       " Document(page_content='species: Gentoo\\nisland: Biscoe\\nbill_length_mm: 42.8\\nbill_depth_mm: 14.2\\nflipper_length_mm: 209\\nbody_mass_g: 4700\\nsex: FEMALE', metadata={'source': '/Users/manuvenugopal/Downloads/LangChainNotebooks-UNZIP-ME/01-Data-Connections/some_data/penguins.csv', 'row': 251}),\n",
       " Document(page_content='species: Gentoo\\nisland: Biscoe\\nbill_length_mm: 45.1\\nbill_depth_mm: 14.5\\nflipper_length_mm: 207\\nbody_mass_g: 5050\\nsex: FEMALE', metadata={'source': '/Users/manuvenugopal/Downloads/LangChainNotebooks-UNZIP-ME/01-Data-Connections/some_data/penguins.csv', 'row': 252}),\n",
       " Document(page_content='species: Gentoo\\nisland: Biscoe\\nbill_length_mm: 59.6\\nbill_depth_mm: 17\\nflipper_length_mm: 230\\nbody_mass_g: 6050\\nsex: MALE', metadata={'source': '/Users/manuvenugopal/Downloads/LangChainNotebooks-UNZIP-ME/01-Data-Connections/some_data/penguins.csv', 'row': 253}),\n",
       " Document(page_content='species: Gentoo\\nisland: Biscoe\\nbill_length_mm: 49.1\\nbill_depth_mm: 14.8\\nflipper_length_mm: 220\\nbody_mass_g: 5150\\nsex: FEMALE', metadata={'source': '/Users/manuvenugopal/Downloads/LangChainNotebooks-UNZIP-ME/01-Data-Connections/some_data/penguins.csv', 'row': 254}),\n",
       " Document(page_content='species: Gentoo\\nisland: Biscoe\\nbill_length_mm: 48.4\\nbill_depth_mm: 16.3\\nflipper_length_mm: 220\\nbody_mass_g: 5400\\nsex: MALE', metadata={'source': '/Users/manuvenugopal/Downloads/LangChainNotebooks-UNZIP-ME/01-Data-Connections/some_data/penguins.csv', 'row': 255}),\n",
       " Document(page_content='species: Gentoo\\nisland: Biscoe\\nbill_length_mm: 42.6\\nbill_depth_mm: 13.7\\nflipper_length_mm: 213\\nbody_mass_g: 4950\\nsex: FEMALE', metadata={'source': '/Users/manuvenugopal/Downloads/LangChainNotebooks-UNZIP-ME/01-Data-Connections/some_data/penguins.csv', 'row': 256}),\n",
       " Document(page_content='species: Gentoo\\nisland: Biscoe\\nbill_length_mm: 44.4\\nbill_depth_mm: 17.3\\nflipper_length_mm: 219\\nbody_mass_g: 5250\\nsex: MALE', metadata={'source': '/Users/manuvenugopal/Downloads/LangChainNotebooks-UNZIP-ME/01-Data-Connections/some_data/penguins.csv', 'row': 257}),\n",
       " Document(page_content='species: Gentoo\\nisland: Biscoe\\nbill_length_mm: 44\\nbill_depth_mm: 13.6\\nflipper_length_mm: 208\\nbody_mass_g: 4350\\nsex: FEMALE', metadata={'source': '/Users/manuvenugopal/Downloads/LangChainNotebooks-UNZIP-ME/01-Data-Connections/some_data/penguins.csv', 'row': 258}),\n",
       " Document(page_content='species: Gentoo\\nisland: Biscoe\\nbill_length_mm: 48.7\\nbill_depth_mm: 15.7\\nflipper_length_mm: 208\\nbody_mass_g: 5350\\nsex: MALE', metadata={'source': '/Users/manuvenugopal/Downloads/LangChainNotebooks-UNZIP-ME/01-Data-Connections/some_data/penguins.csv', 'row': 259}),\n",
       " Document(page_content='species: Gentoo\\nisland: Biscoe\\nbill_length_mm: 42.7\\nbill_depth_mm: 13.7\\nflipper_length_mm: 208\\nbody_mass_g: 3950\\nsex: FEMALE', metadata={'source': '/Users/manuvenugopal/Downloads/LangChainNotebooks-UNZIP-ME/01-Data-Connections/some_data/penguins.csv', 'row': 260}),\n",
       " Document(page_content='species: Gentoo\\nisland: Biscoe\\nbill_length_mm: 49.6\\nbill_depth_mm: 16\\nflipper_length_mm: 225\\nbody_mass_g: 5700\\nsex: MALE', metadata={'source': '/Users/manuvenugopal/Downloads/LangChainNotebooks-UNZIP-ME/01-Data-Connections/some_data/penguins.csv', 'row': 261}),\n",
       " Document(page_content='species: Gentoo\\nisland: Biscoe\\nbill_length_mm: 45.3\\nbill_depth_mm: 13.7\\nflipper_length_mm: 210\\nbody_mass_g: 4300\\nsex: FEMALE', metadata={'source': '/Users/manuvenugopal/Downloads/LangChainNotebooks-UNZIP-ME/01-Data-Connections/some_data/penguins.csv', 'row': 262}),\n",
       " Document(page_content='species: Gentoo\\nisland: Biscoe\\nbill_length_mm: 49.6\\nbill_depth_mm: 15\\nflipper_length_mm: 216\\nbody_mass_g: 4750\\nsex: MALE', metadata={'source': '/Users/manuvenugopal/Downloads/LangChainNotebooks-UNZIP-ME/01-Data-Connections/some_data/penguins.csv', 'row': 263}),\n",
       " Document(page_content='species: Gentoo\\nisland: Biscoe\\nbill_length_mm: 50.5\\nbill_depth_mm: 15.9\\nflipper_length_mm: 222\\nbody_mass_g: 5550\\nsex: MALE', metadata={'source': '/Users/manuvenugopal/Downloads/LangChainNotebooks-UNZIP-ME/01-Data-Connections/some_data/penguins.csv', 'row': 264}),\n",
       " Document(page_content='species: Gentoo\\nisland: Biscoe\\nbill_length_mm: 43.6\\nbill_depth_mm: 13.9\\nflipper_length_mm: 217\\nbody_mass_g: 4900\\nsex: FEMALE', metadata={'source': '/Users/manuvenugopal/Downloads/LangChainNotebooks-UNZIP-ME/01-Data-Connections/some_data/penguins.csv', 'row': 265}),\n",
       " Document(page_content='species: Gentoo\\nisland: Biscoe\\nbill_length_mm: 45.5\\nbill_depth_mm: 13.9\\nflipper_length_mm: 210\\nbody_mass_g: 4200\\nsex: FEMALE', metadata={'source': '/Users/manuvenugopal/Downloads/LangChainNotebooks-UNZIP-ME/01-Data-Connections/some_data/penguins.csv', 'row': 266}),\n",
       " Document(page_content='species: Gentoo\\nisland: Biscoe\\nbill_length_mm: 50.5\\nbill_depth_mm: 15.9\\nflipper_length_mm: 225\\nbody_mass_g: 5400\\nsex: MALE', metadata={'source': '/Users/manuvenugopal/Downloads/LangChainNotebooks-UNZIP-ME/01-Data-Connections/some_data/penguins.csv', 'row': 267}),\n",
       " Document(page_content='species: Gentoo\\nisland: Biscoe\\nbill_length_mm: 44.9\\nbill_depth_mm: 13.3\\nflipper_length_mm: 213\\nbody_mass_g: 5100\\nsex: FEMALE', metadata={'source': '/Users/manuvenugopal/Downloads/LangChainNotebooks-UNZIP-ME/01-Data-Connections/some_data/penguins.csv', 'row': 268}),\n",
       " Document(page_content='species: Gentoo\\nisland: Biscoe\\nbill_length_mm: 45.2\\nbill_depth_mm: 15.8\\nflipper_length_mm: 215\\nbody_mass_g: 5300\\nsex: MALE', metadata={'source': '/Users/manuvenugopal/Downloads/LangChainNotebooks-UNZIP-ME/01-Data-Connections/some_data/penguins.csv', 'row': 269}),\n",
       " Document(page_content='species: Gentoo\\nisland: Biscoe\\nbill_length_mm: 46.6\\nbill_depth_mm: 14.2\\nflipper_length_mm: 210\\nbody_mass_g: 4850\\nsex: FEMALE', metadata={'source': '/Users/manuvenugopal/Downloads/LangChainNotebooks-UNZIP-ME/01-Data-Connections/some_data/penguins.csv', 'row': 270}),\n",
       " Document(page_content='species: Gentoo\\nisland: Biscoe\\nbill_length_mm: 48.5\\nbill_depth_mm: 14.1\\nflipper_length_mm: 220\\nbody_mass_g: 5300\\nsex: MALE', metadata={'source': '/Users/manuvenugopal/Downloads/LangChainNotebooks-UNZIP-ME/01-Data-Connections/some_data/penguins.csv', 'row': 271}),\n",
       " Document(page_content='species: Gentoo\\nisland: Biscoe\\nbill_length_mm: 45.1\\nbill_depth_mm: 14.4\\nflipper_length_mm: 210\\nbody_mass_g: 4400\\nsex: FEMALE', metadata={'source': '/Users/manuvenugopal/Downloads/LangChainNotebooks-UNZIP-ME/01-Data-Connections/some_data/penguins.csv', 'row': 272}),\n",
       " Document(page_content='species: Gentoo\\nisland: Biscoe\\nbill_length_mm: 50.1\\nbill_depth_mm: 15\\nflipper_length_mm: 225\\nbody_mass_g: 5000\\nsex: MALE', metadata={'source': '/Users/manuvenugopal/Downloads/LangChainNotebooks-UNZIP-ME/01-Data-Connections/some_data/penguins.csv', 'row': 273}),\n",
       " Document(page_content='species: Gentoo\\nisland: Biscoe\\nbill_length_mm: 46.5\\nbill_depth_mm: 14.4\\nflipper_length_mm: 217\\nbody_mass_g: 4900\\nsex: FEMALE', metadata={'source': '/Users/manuvenugopal/Downloads/LangChainNotebooks-UNZIP-ME/01-Data-Connections/some_data/penguins.csv', 'row': 274}),\n",
       " Document(page_content='species: Gentoo\\nisland: Biscoe\\nbill_length_mm: 45\\nbill_depth_mm: 15.4\\nflipper_length_mm: 220\\nbody_mass_g: 5050\\nsex: MALE', metadata={'source': '/Users/manuvenugopal/Downloads/LangChainNotebooks-UNZIP-ME/01-Data-Connections/some_data/penguins.csv', 'row': 275}),\n",
       " Document(page_content='species: Gentoo\\nisland: Biscoe\\nbill_length_mm: 43.8\\nbill_depth_mm: 13.9\\nflipper_length_mm: 208\\nbody_mass_g: 4300\\nsex: FEMALE', metadata={'source': '/Users/manuvenugopal/Downloads/LangChainNotebooks-UNZIP-ME/01-Data-Connections/some_data/penguins.csv', 'row': 276}),\n",
       " Document(page_content='species: Gentoo\\nisland: Biscoe\\nbill_length_mm: 45.5\\nbill_depth_mm: 15\\nflipper_length_mm: 220\\nbody_mass_g: 5000\\nsex: MALE', metadata={'source': '/Users/manuvenugopal/Downloads/LangChainNotebooks-UNZIP-ME/01-Data-Connections/some_data/penguins.csv', 'row': 277}),\n",
       " Document(page_content='species: Gentoo\\nisland: Biscoe\\nbill_length_mm: 43.2\\nbill_depth_mm: 14.5\\nflipper_length_mm: 208\\nbody_mass_g: 4450\\nsex: FEMALE', metadata={'source': '/Users/manuvenugopal/Downloads/LangChainNotebooks-UNZIP-ME/01-Data-Connections/some_data/penguins.csv', 'row': 278}),\n",
       " Document(page_content='species: Gentoo\\nisland: Biscoe\\nbill_length_mm: 50.4\\nbill_depth_mm: 15.3\\nflipper_length_mm: 224\\nbody_mass_g: 5550\\nsex: MALE', metadata={'source': '/Users/manuvenugopal/Downloads/LangChainNotebooks-UNZIP-ME/01-Data-Connections/some_data/penguins.csv', 'row': 279}),\n",
       " Document(page_content='species: Gentoo\\nisland: Biscoe\\nbill_length_mm: 45.3\\nbill_depth_mm: 13.8\\nflipper_length_mm: 208\\nbody_mass_g: 4200\\nsex: FEMALE', metadata={'source': '/Users/manuvenugopal/Downloads/LangChainNotebooks-UNZIP-ME/01-Data-Connections/some_data/penguins.csv', 'row': 280}),\n",
       " Document(page_content='species: Gentoo\\nisland: Biscoe\\nbill_length_mm: 46.2\\nbill_depth_mm: 14.9\\nflipper_length_mm: 221\\nbody_mass_g: 5300\\nsex: MALE', metadata={'source': '/Users/manuvenugopal/Downloads/LangChainNotebooks-UNZIP-ME/01-Data-Connections/some_data/penguins.csv', 'row': 281}),\n",
       " Document(page_content='species: Gentoo\\nisland: Biscoe\\nbill_length_mm: 45.7\\nbill_depth_mm: 13.9\\nflipper_length_mm: 214\\nbody_mass_g: 4400\\nsex: FEMALE', metadata={'source': '/Users/manuvenugopal/Downloads/LangChainNotebooks-UNZIP-ME/01-Data-Connections/some_data/penguins.csv', 'row': 282}),\n",
       " Document(page_content='species: Gentoo\\nisland: Biscoe\\nbill_length_mm: 54.3\\nbill_depth_mm: 15.7\\nflipper_length_mm: 231\\nbody_mass_g: 5650\\nsex: MALE', metadata={'source': '/Users/manuvenugopal/Downloads/LangChainNotebooks-UNZIP-ME/01-Data-Connections/some_data/penguins.csv', 'row': 283}),\n",
       " Document(page_content='species: Gentoo\\nisland: Biscoe\\nbill_length_mm: 45.8\\nbill_depth_mm: 14.2\\nflipper_length_mm: 219\\nbody_mass_g: 4700\\nsex: FEMALE', metadata={'source': '/Users/manuvenugopal/Downloads/LangChainNotebooks-UNZIP-ME/01-Data-Connections/some_data/penguins.csv', 'row': 284}),\n",
       " Document(page_content='species: Gentoo\\nisland: Biscoe\\nbill_length_mm: 49.8\\nbill_depth_mm: 16.8\\nflipper_length_mm: 230\\nbody_mass_g: 5700\\nsex: MALE', metadata={'source': '/Users/manuvenugopal/Downloads/LangChainNotebooks-UNZIP-ME/01-Data-Connections/some_data/penguins.csv', 'row': 285}),\n",
       " Document(page_content='species: Gentoo\\nisland: Biscoe\\nbill_length_mm: 46.2\\nbill_depth_mm: 14.4\\nflipper_length_mm: 214\\nbody_mass_g: 4650\\nsex: ', metadata={'source': '/Users/manuvenugopal/Downloads/LangChainNotebooks-UNZIP-ME/01-Data-Connections/some_data/penguins.csv', 'row': 286}),\n",
       " Document(page_content='species: Gentoo\\nisland: Biscoe\\nbill_length_mm: 49.5\\nbill_depth_mm: 16.2\\nflipper_length_mm: 229\\nbody_mass_g: 5800\\nsex: MALE', metadata={'source': '/Users/manuvenugopal/Downloads/LangChainNotebooks-UNZIP-ME/01-Data-Connections/some_data/penguins.csv', 'row': 287}),\n",
       " Document(page_content='species: Gentoo\\nisland: Biscoe\\nbill_length_mm: 43.5\\nbill_depth_mm: 14.2\\nflipper_length_mm: 220\\nbody_mass_g: 4700\\nsex: FEMALE', metadata={'source': '/Users/manuvenugopal/Downloads/LangChainNotebooks-UNZIP-ME/01-Data-Connections/some_data/penguins.csv', 'row': 288}),\n",
       " Document(page_content='species: Gentoo\\nisland: Biscoe\\nbill_length_mm: 50.7\\nbill_depth_mm: 15\\nflipper_length_mm: 223\\nbody_mass_g: 5550\\nsex: MALE', metadata={'source': '/Users/manuvenugopal/Downloads/LangChainNotebooks-UNZIP-ME/01-Data-Connections/some_data/penguins.csv', 'row': 289}),\n",
       " Document(page_content='species: Gentoo\\nisland: Biscoe\\nbill_length_mm: 47.7\\nbill_depth_mm: 15\\nflipper_length_mm: 216\\nbody_mass_g: 4750\\nsex: FEMALE', metadata={'source': '/Users/manuvenugopal/Downloads/LangChainNotebooks-UNZIP-ME/01-Data-Connections/some_data/penguins.csv', 'row': 290}),\n",
       " Document(page_content='species: Gentoo\\nisland: Biscoe\\nbill_length_mm: 46.4\\nbill_depth_mm: 15.6\\nflipper_length_mm: 221\\nbody_mass_g: 5000\\nsex: MALE', metadata={'source': '/Users/manuvenugopal/Downloads/LangChainNotebooks-UNZIP-ME/01-Data-Connections/some_data/penguins.csv', 'row': 291}),\n",
       " Document(page_content='species: Gentoo\\nisland: Biscoe\\nbill_length_mm: 48.2\\nbill_depth_mm: 15.6\\nflipper_length_mm: 221\\nbody_mass_g: 5100\\nsex: MALE', metadata={'source': '/Users/manuvenugopal/Downloads/LangChainNotebooks-UNZIP-ME/01-Data-Connections/some_data/penguins.csv', 'row': 292}),\n",
       " Document(page_content='species: Gentoo\\nisland: Biscoe\\nbill_length_mm: 46.5\\nbill_depth_mm: 14.8\\nflipper_length_mm: 217\\nbody_mass_g: 5200\\nsex: FEMALE', metadata={'source': '/Users/manuvenugopal/Downloads/LangChainNotebooks-UNZIP-ME/01-Data-Connections/some_data/penguins.csv', 'row': 293}),\n",
       " Document(page_content='species: Gentoo\\nisland: Biscoe\\nbill_length_mm: 46.4\\nbill_depth_mm: 15\\nflipper_length_mm: 216\\nbody_mass_g: 4700\\nsex: FEMALE', metadata={'source': '/Users/manuvenugopal/Downloads/LangChainNotebooks-UNZIP-ME/01-Data-Connections/some_data/penguins.csv', 'row': 294}),\n",
       " Document(page_content='species: Gentoo\\nisland: Biscoe\\nbill_length_mm: 48.6\\nbill_depth_mm: 16\\nflipper_length_mm: 230\\nbody_mass_g: 5800\\nsex: MALE', metadata={'source': '/Users/manuvenugopal/Downloads/LangChainNotebooks-UNZIP-ME/01-Data-Connections/some_data/penguins.csv', 'row': 295}),\n",
       " Document(page_content='species: Gentoo\\nisland: Biscoe\\nbill_length_mm: 47.5\\nbill_depth_mm: 14.2\\nflipper_length_mm: 209\\nbody_mass_g: 4600\\nsex: FEMALE', metadata={'source': '/Users/manuvenugopal/Downloads/LangChainNotebooks-UNZIP-ME/01-Data-Connections/some_data/penguins.csv', 'row': 296}),\n",
       " Document(page_content='species: Gentoo\\nisland: Biscoe\\nbill_length_mm: 51.1\\nbill_depth_mm: 16.3\\nflipper_length_mm: 220\\nbody_mass_g: 6000\\nsex: MALE', metadata={'source': '/Users/manuvenugopal/Downloads/LangChainNotebooks-UNZIP-ME/01-Data-Connections/some_data/penguins.csv', 'row': 297}),\n",
       " Document(page_content='species: Gentoo\\nisland: Biscoe\\nbill_length_mm: 45.2\\nbill_depth_mm: 13.8\\nflipper_length_mm: 215\\nbody_mass_g: 4750\\nsex: FEMALE', metadata={'source': '/Users/manuvenugopal/Downloads/LangChainNotebooks-UNZIP-ME/01-Data-Connections/some_data/penguins.csv', 'row': 298}),\n",
       " Document(page_content='species: Gentoo\\nisland: Biscoe\\nbill_length_mm: 45.2\\nbill_depth_mm: 16.4\\nflipper_length_mm: 223\\nbody_mass_g: 5950\\nsex: MALE', metadata={'source': '/Users/manuvenugopal/Downloads/LangChainNotebooks-UNZIP-ME/01-Data-Connections/some_data/penguins.csv', 'row': 299}),\n",
       " Document(page_content='species: Gentoo\\nisland: Biscoe\\nbill_length_mm: 49.1\\nbill_depth_mm: 14.5\\nflipper_length_mm: 212\\nbody_mass_g: 4625\\nsex: FEMALE', metadata={'source': '/Users/manuvenugopal/Downloads/LangChainNotebooks-UNZIP-ME/01-Data-Connections/some_data/penguins.csv', 'row': 300}),\n",
       " Document(page_content='species: Gentoo\\nisland: Biscoe\\nbill_length_mm: 52.5\\nbill_depth_mm: 15.6\\nflipper_length_mm: 221\\nbody_mass_g: 5450\\nsex: MALE', metadata={'source': '/Users/manuvenugopal/Downloads/LangChainNotebooks-UNZIP-ME/01-Data-Connections/some_data/penguins.csv', 'row': 301}),\n",
       " Document(page_content='species: Gentoo\\nisland: Biscoe\\nbill_length_mm: 47.4\\nbill_depth_mm: 14.6\\nflipper_length_mm: 212\\nbody_mass_g: 4725\\nsex: FEMALE', metadata={'source': '/Users/manuvenugopal/Downloads/LangChainNotebooks-UNZIP-ME/01-Data-Connections/some_data/penguins.csv', 'row': 302}),\n",
       " Document(page_content='species: Gentoo\\nisland: Biscoe\\nbill_length_mm: 50\\nbill_depth_mm: 15.9\\nflipper_length_mm: 224\\nbody_mass_g: 5350\\nsex: MALE', metadata={'source': '/Users/manuvenugopal/Downloads/LangChainNotebooks-UNZIP-ME/01-Data-Connections/some_data/penguins.csv', 'row': 303}),\n",
       " Document(page_content='species: Gentoo\\nisland: Biscoe\\nbill_length_mm: 44.9\\nbill_depth_mm: 13.8\\nflipper_length_mm: 212\\nbody_mass_g: 4750\\nsex: FEMALE', metadata={'source': '/Users/manuvenugopal/Downloads/LangChainNotebooks-UNZIP-ME/01-Data-Connections/some_data/penguins.csv', 'row': 304}),\n",
       " Document(page_content='species: Gentoo\\nisland: Biscoe\\nbill_length_mm: 50.8\\nbill_depth_mm: 17.3\\nflipper_length_mm: 228\\nbody_mass_g: 5600\\nsex: MALE', metadata={'source': '/Users/manuvenugopal/Downloads/LangChainNotebooks-UNZIP-ME/01-Data-Connections/some_data/penguins.csv', 'row': 305}),\n",
       " Document(page_content='species: Gentoo\\nisland: Biscoe\\nbill_length_mm: 43.4\\nbill_depth_mm: 14.4\\nflipper_length_mm: 218\\nbody_mass_g: 4600\\nsex: FEMALE', metadata={'source': '/Users/manuvenugopal/Downloads/LangChainNotebooks-UNZIP-ME/01-Data-Connections/some_data/penguins.csv', 'row': 306}),\n",
       " Document(page_content='species: Gentoo\\nisland: Biscoe\\nbill_length_mm: 51.3\\nbill_depth_mm: 14.2\\nflipper_length_mm: 218\\nbody_mass_g: 5300\\nsex: MALE', metadata={'source': '/Users/manuvenugopal/Downloads/LangChainNotebooks-UNZIP-ME/01-Data-Connections/some_data/penguins.csv', 'row': 307}),\n",
       " Document(page_content='species: Gentoo\\nisland: Biscoe\\nbill_length_mm: 47.5\\nbill_depth_mm: 14\\nflipper_length_mm: 212\\nbody_mass_g: 4875\\nsex: FEMALE', metadata={'source': '/Users/manuvenugopal/Downloads/LangChainNotebooks-UNZIP-ME/01-Data-Connections/some_data/penguins.csv', 'row': 308}),\n",
       " Document(page_content='species: Gentoo\\nisland: Biscoe\\nbill_length_mm: 52.1\\nbill_depth_mm: 17\\nflipper_length_mm: 230\\nbody_mass_g: 5550\\nsex: MALE', metadata={'source': '/Users/manuvenugopal/Downloads/LangChainNotebooks-UNZIP-ME/01-Data-Connections/some_data/penguins.csv', 'row': 309}),\n",
       " Document(page_content='species: Gentoo\\nisland: Biscoe\\nbill_length_mm: 47.5\\nbill_depth_mm: 15\\nflipper_length_mm: 218\\nbody_mass_g: 4950\\nsex: FEMALE', metadata={'source': '/Users/manuvenugopal/Downloads/LangChainNotebooks-UNZIP-ME/01-Data-Connections/some_data/penguins.csv', 'row': 310}),\n",
       " Document(page_content='species: Gentoo\\nisland: Biscoe\\nbill_length_mm: 52.2\\nbill_depth_mm: 17.1\\nflipper_length_mm: 228\\nbody_mass_g: 5400\\nsex: MALE', metadata={'source': '/Users/manuvenugopal/Downloads/LangChainNotebooks-UNZIP-ME/01-Data-Connections/some_data/penguins.csv', 'row': 311}),\n",
       " Document(page_content='species: Gentoo\\nisland: Biscoe\\nbill_length_mm: 45.5\\nbill_depth_mm: 14.5\\nflipper_length_mm: 212\\nbody_mass_g: 4750\\nsex: FEMALE', metadata={'source': '/Users/manuvenugopal/Downloads/LangChainNotebooks-UNZIP-ME/01-Data-Connections/some_data/penguins.csv', 'row': 312}),\n",
       " Document(page_content='species: Gentoo\\nisland: Biscoe\\nbill_length_mm: 49.5\\nbill_depth_mm: 16.1\\nflipper_length_mm: 224\\nbody_mass_g: 5650\\nsex: MALE', metadata={'source': '/Users/manuvenugopal/Downloads/LangChainNotebooks-UNZIP-ME/01-Data-Connections/some_data/penguins.csv', 'row': 313}),\n",
       " Document(page_content='species: Gentoo\\nisland: Biscoe\\nbill_length_mm: 44.5\\nbill_depth_mm: 14.7\\nflipper_length_mm: 214\\nbody_mass_g: 4850\\nsex: FEMALE', metadata={'source': '/Users/manuvenugopal/Downloads/LangChainNotebooks-UNZIP-ME/01-Data-Connections/some_data/penguins.csv', 'row': 314}),\n",
       " Document(page_content='species: Gentoo\\nisland: Biscoe\\nbill_length_mm: 50.8\\nbill_depth_mm: 15.7\\nflipper_length_mm: 226\\nbody_mass_g: 5200\\nsex: MALE', metadata={'source': '/Users/manuvenugopal/Downloads/LangChainNotebooks-UNZIP-ME/01-Data-Connections/some_data/penguins.csv', 'row': 315}),\n",
       " Document(page_content='species: Gentoo\\nisland: Biscoe\\nbill_length_mm: 49.4\\nbill_depth_mm: 15.8\\nflipper_length_mm: 216\\nbody_mass_g: 4925\\nsex: MALE', metadata={'source': '/Users/manuvenugopal/Downloads/LangChainNotebooks-UNZIP-ME/01-Data-Connections/some_data/penguins.csv', 'row': 316}),\n",
       " Document(page_content='species: Gentoo\\nisland: Biscoe\\nbill_length_mm: 46.9\\nbill_depth_mm: 14.6\\nflipper_length_mm: 222\\nbody_mass_g: 4875\\nsex: FEMALE', metadata={'source': '/Users/manuvenugopal/Downloads/LangChainNotebooks-UNZIP-ME/01-Data-Connections/some_data/penguins.csv', 'row': 317}),\n",
       " Document(page_content='species: Gentoo\\nisland: Biscoe\\nbill_length_mm: 48.4\\nbill_depth_mm: 14.4\\nflipper_length_mm: 203\\nbody_mass_g: 4625\\nsex: FEMALE', metadata={'source': '/Users/manuvenugopal/Downloads/LangChainNotebooks-UNZIP-ME/01-Data-Connections/some_data/penguins.csv', 'row': 318}),\n",
       " Document(page_content='species: Gentoo\\nisland: Biscoe\\nbill_length_mm: 51.1\\nbill_depth_mm: 16.5\\nflipper_length_mm: 225\\nbody_mass_g: 5250\\nsex: MALE', metadata={'source': '/Users/manuvenugopal/Downloads/LangChainNotebooks-UNZIP-ME/01-Data-Connections/some_data/penguins.csv', 'row': 319}),\n",
       " Document(page_content='species: Gentoo\\nisland: Biscoe\\nbill_length_mm: 48.5\\nbill_depth_mm: 15\\nflipper_length_mm: 219\\nbody_mass_g: 4850\\nsex: FEMALE', metadata={'source': '/Users/manuvenugopal/Downloads/LangChainNotebooks-UNZIP-ME/01-Data-Connections/some_data/penguins.csv', 'row': 320}),\n",
       " Document(page_content='species: Gentoo\\nisland: Biscoe\\nbill_length_mm: 55.9\\nbill_depth_mm: 17\\nflipper_length_mm: 228\\nbody_mass_g: 5600\\nsex: MALE', metadata={'source': '/Users/manuvenugopal/Downloads/LangChainNotebooks-UNZIP-ME/01-Data-Connections/some_data/penguins.csv', 'row': 321}),\n",
       " Document(page_content='species: Gentoo\\nisland: Biscoe\\nbill_length_mm: 47.2\\nbill_depth_mm: 15.5\\nflipper_length_mm: 215\\nbody_mass_g: 4975\\nsex: FEMALE', metadata={'source': '/Users/manuvenugopal/Downloads/LangChainNotebooks-UNZIP-ME/01-Data-Connections/some_data/penguins.csv', 'row': 322}),\n",
       " Document(page_content='species: Gentoo\\nisland: Biscoe\\nbill_length_mm: 49.1\\nbill_depth_mm: 15\\nflipper_length_mm: 228\\nbody_mass_g: 5500\\nsex: MALE', metadata={'source': '/Users/manuvenugopal/Downloads/LangChainNotebooks-UNZIP-ME/01-Data-Connections/some_data/penguins.csv', 'row': 323}),\n",
       " Document(page_content='species: Gentoo\\nisland: Biscoe\\nbill_length_mm: 47.3\\nbill_depth_mm: 13.8\\nflipper_length_mm: 216\\nbody_mass_g: 4725\\nsex: ', metadata={'source': '/Users/manuvenugopal/Downloads/LangChainNotebooks-UNZIP-ME/01-Data-Connections/some_data/penguins.csv', 'row': 324}),\n",
       " Document(page_content='species: Gentoo\\nisland: Biscoe\\nbill_length_mm: 46.8\\nbill_depth_mm: 16.1\\nflipper_length_mm: 215\\nbody_mass_g: 5500\\nsex: MALE', metadata={'source': '/Users/manuvenugopal/Downloads/LangChainNotebooks-UNZIP-ME/01-Data-Connections/some_data/penguins.csv', 'row': 325}),\n",
       " Document(page_content='species: Gentoo\\nisland: Biscoe\\nbill_length_mm: 41.7\\nbill_depth_mm: 14.7\\nflipper_length_mm: 210\\nbody_mass_g: 4700\\nsex: FEMALE', metadata={'source': '/Users/manuvenugopal/Downloads/LangChainNotebooks-UNZIP-ME/01-Data-Connections/some_data/penguins.csv', 'row': 326}),\n",
       " Document(page_content='species: Gentoo\\nisland: Biscoe\\nbill_length_mm: 53.4\\nbill_depth_mm: 15.8\\nflipper_length_mm: 219\\nbody_mass_g: 5500\\nsex: MALE', metadata={'source': '/Users/manuvenugopal/Downloads/LangChainNotebooks-UNZIP-ME/01-Data-Connections/some_data/penguins.csv', 'row': 327}),\n",
       " Document(page_content='species: Gentoo\\nisland: Biscoe\\nbill_length_mm: 43.3\\nbill_depth_mm: 14\\nflipper_length_mm: 208\\nbody_mass_g: 4575\\nsex: FEMALE', metadata={'source': '/Users/manuvenugopal/Downloads/LangChainNotebooks-UNZIP-ME/01-Data-Connections/some_data/penguins.csv', 'row': 328}),\n",
       " Document(page_content='species: Gentoo\\nisland: Biscoe\\nbill_length_mm: 48.1\\nbill_depth_mm: 15.1\\nflipper_length_mm: 209\\nbody_mass_g: 5500\\nsex: MALE', metadata={'source': '/Users/manuvenugopal/Downloads/LangChainNotebooks-UNZIP-ME/01-Data-Connections/some_data/penguins.csv', 'row': 329}),\n",
       " Document(page_content='species: Gentoo\\nisland: Biscoe\\nbill_length_mm: 50.5\\nbill_depth_mm: 15.2\\nflipper_length_mm: 216\\nbody_mass_g: 5000\\nsex: FEMALE', metadata={'source': '/Users/manuvenugopal/Downloads/LangChainNotebooks-UNZIP-ME/01-Data-Connections/some_data/penguins.csv', 'row': 330}),\n",
       " Document(page_content='species: Gentoo\\nisland: Biscoe\\nbill_length_mm: 49.8\\nbill_depth_mm: 15.9\\nflipper_length_mm: 229\\nbody_mass_g: 5950\\nsex: MALE', metadata={'source': '/Users/manuvenugopal/Downloads/LangChainNotebooks-UNZIP-ME/01-Data-Connections/some_data/penguins.csv', 'row': 331}),\n",
       " Document(page_content='species: Gentoo\\nisland: Biscoe\\nbill_length_mm: 43.5\\nbill_depth_mm: 15.2\\nflipper_length_mm: 213\\nbody_mass_g: 4650\\nsex: FEMALE', metadata={'source': '/Users/manuvenugopal/Downloads/LangChainNotebooks-UNZIP-ME/01-Data-Connections/some_data/penguins.csv', 'row': 332}),\n",
       " Document(page_content='species: Gentoo\\nisland: Biscoe\\nbill_length_mm: 51.5\\nbill_depth_mm: 16.3\\nflipper_length_mm: 230\\nbody_mass_g: 5500\\nsex: MALE', metadata={'source': '/Users/manuvenugopal/Downloads/LangChainNotebooks-UNZIP-ME/01-Data-Connections/some_data/penguins.csv', 'row': 333}),\n",
       " Document(page_content='species: Gentoo\\nisland: Biscoe\\nbill_length_mm: 46.2\\nbill_depth_mm: 14.1\\nflipper_length_mm: 217\\nbody_mass_g: 4375\\nsex: FEMALE', metadata={'source': '/Users/manuvenugopal/Downloads/LangChainNotebooks-UNZIP-ME/01-Data-Connections/some_data/penguins.csv', 'row': 334}),\n",
       " Document(page_content='species: Gentoo\\nisland: Biscoe\\nbill_length_mm: 55.1\\nbill_depth_mm: 16\\nflipper_length_mm: 230\\nbody_mass_g: 5850\\nsex: MALE', metadata={'source': '/Users/manuvenugopal/Downloads/LangChainNotebooks-UNZIP-ME/01-Data-Connections/some_data/penguins.csv', 'row': 335}),\n",
       " Document(page_content='species: Gentoo\\nisland: Biscoe\\nbill_length_mm: 44.5\\nbill_depth_mm: 15.7\\nflipper_length_mm: 217\\nbody_mass_g: 4875\\nsex: ', metadata={'source': '/Users/manuvenugopal/Downloads/LangChainNotebooks-UNZIP-ME/01-Data-Connections/some_data/penguins.csv', 'row': 336}),\n",
       " Document(page_content='species: Gentoo\\nisland: Biscoe\\nbill_length_mm: 48.8\\nbill_depth_mm: 16.2\\nflipper_length_mm: 222\\nbody_mass_g: 6000\\nsex: MALE', metadata={'source': '/Users/manuvenugopal/Downloads/LangChainNotebooks-UNZIP-ME/01-Data-Connections/some_data/penguins.csv', 'row': 337}),\n",
       " Document(page_content='species: Gentoo\\nisland: Biscoe\\nbill_length_mm: 47.2\\nbill_depth_mm: 13.7\\nflipper_length_mm: 214\\nbody_mass_g: 4925\\nsex: FEMALE', metadata={'source': '/Users/manuvenugopal/Downloads/LangChainNotebooks-UNZIP-ME/01-Data-Connections/some_data/penguins.csv', 'row': 338}),\n",
       " Document(page_content='species: Gentoo\\nisland: Biscoe\\nbill_length_mm: \\nbill_depth_mm: \\nflipper_length_mm: \\nbody_mass_g: \\nsex: ', metadata={'source': '/Users/manuvenugopal/Downloads/LangChainNotebooks-UNZIP-ME/01-Data-Connections/some_data/penguins.csv', 'row': 339}),\n",
       " Document(page_content='species: Gentoo\\nisland: Biscoe\\nbill_length_mm: 46.8\\nbill_depth_mm: 14.3\\nflipper_length_mm: 215\\nbody_mass_g: 4850\\nsex: FEMALE', metadata={'source': '/Users/manuvenugopal/Downloads/LangChainNotebooks-UNZIP-ME/01-Data-Connections/some_data/penguins.csv', 'row': 340}),\n",
       " Document(page_content='species: Gentoo\\nisland: Biscoe\\nbill_length_mm: 50.4\\nbill_depth_mm: 15.7\\nflipper_length_mm: 222\\nbody_mass_g: 5750\\nsex: MALE', metadata={'source': '/Users/manuvenugopal/Downloads/LangChainNotebooks-UNZIP-ME/01-Data-Connections/some_data/penguins.csv', 'row': 341}),\n",
       " Document(page_content='species: Gentoo\\nisland: Biscoe\\nbill_length_mm: 45.2\\nbill_depth_mm: 14.8\\nflipper_length_mm: 212\\nbody_mass_g: 5200\\nsex: FEMALE', metadata={'source': '/Users/manuvenugopal/Downloads/LangChainNotebooks-UNZIP-ME/01-Data-Connections/some_data/penguins.csv', 'row': 342}),\n",
       " Document(page_content='species: Gentoo\\nisland: Biscoe\\nbill_length_mm: 49.9\\nbill_depth_mm: 16.1\\nflipper_length_mm: 213\\nbody_mass_g: 5400\\nsex: MALE', metadata={'source': '/Users/manuvenugopal/Downloads/LangChainNotebooks-UNZIP-ME/01-Data-Connections/some_data/penguins.csv', 'row': 343})]"
      ]
     },
     "execution_count": 7,
     "metadata": {},
     "output_type": "execute_result"
    }
   ],
   "source": [
    "# We can see that the CSV document is being loaded as list of document objects\n",
    "# Each document object consist of two important part 1: page content 2: Metadata\n",
    "\n",
    "data"
   ]
  },
  {
   "cell_type": "code",
   "execution_count": 8,
   "metadata": {},
   "outputs": [
    {
     "name": "stdout",
     "output_type": "stream",
     "text": [
      "species: Adelie\n",
      "island: Torgersen\n",
      "bill_length_mm: 39.1\n",
      "bill_depth_mm: 18.7\n",
      "flipper_length_mm: 181\n",
      "body_mass_g: 3750\n",
      "sex: MALE\n"
     ]
    }
   ],
   "source": [
    "print(data[0].page_content)"
   ]
  },
  {
   "cell_type": "code",
   "execution_count": 9,
   "metadata": {},
   "outputs": [
    {
     "name": "stdout",
     "output_type": "stream",
     "text": [
      "{'source': '/Users/manuvenugopal/Downloads/LangChainNotebooks-UNZIP-ME/01-Data-Connections/some_data/penguins.csv', 'row': 0}\n"
     ]
    }
   ],
   "source": [
    "print(data[0].metadata)"
   ]
  },
  {
   "cell_type": "markdown",
   "metadata": {},
   "source": [
    "## HTML file"
   ]
  },
  {
   "cell_type": "code",
   "execution_count": 20,
   "metadata": {},
   "outputs": [
    {
     "name": "stdout",
     "output_type": "stream",
     "text": [
      "Requirement already satisfied: beautifulsoup4 in /Users/manuvenugopal/Documents/LangChain/langchain/lib/python3.11/site-packages (4.12.3)\n",
      "Requirement already satisfied: soupsieve>1.2 in /Users/manuvenugopal/Documents/LangChain/langchain/lib/python3.11/site-packages (from beautifulsoup4) (2.5)\n",
      "Collecting lxml\n",
      "  Downloading lxml-5.2.1-cp311-cp311-macosx_10_9_universal2.whl.metadata (3.4 kB)\n",
      "Downloading lxml-5.2.1-cp311-cp311-macosx_10_9_universal2.whl (8.5 MB)\n",
      "\u001b[2K   \u001b[90m━━━━━━━━━━━━━━━━━━━━━━━━━━━━━━━━━━━━━━━━\u001b[0m \u001b[32m8.5/8.5 MB\u001b[0m \u001b[31m16.4 MB/s\u001b[0m eta \u001b[36m0:00:00\u001b[0ma \u001b[36m0:00:01\u001b[0m\n",
      "\u001b[?25hInstalling collected packages: lxml\n",
      "Successfully installed lxml-5.2.1\n"
     ]
    }
   ],
   "source": [
    "# We need to install beatifulsoap instance for loading HTML docs\n",
    "# Need to restart the kernal, sometime we may encounter the some error in case we not restart the kernal.\n",
    "\n",
    "!pip install beautifulsoup4\n",
    "!pip install lxml"
   ]
  },
  {
   "cell_type": "code",
   "execution_count": 1,
   "metadata": {},
   "outputs": [],
   "source": [
    "# BSHTMLLoader is used to read the HTML documents.\n",
    "\n",
    "from langchain.document_loaders import BSHTMLLoader"
   ]
  },
  {
   "cell_type": "code",
   "execution_count": 2,
   "metadata": {},
   "outputs": [],
   "source": [
    "loader_html =  BSHTMLLoader(\"/Users/manuvenugopal/Downloads/LangChainNotebooks-UNZIP-ME/01-Data-Connections/some_data/some_website.html\")"
   ]
  },
  {
   "cell_type": "code",
   "execution_count": 3,
   "metadata": {},
   "outputs": [],
   "source": [
    "data = loader_html.load()"
   ]
  },
  {
   "cell_type": "code",
   "execution_count": 4,
   "metadata": {},
   "outputs": [
    {
     "name": "stdout",
     "output_type": "stream",
     "text": [
      "[Document(page_content='Heading 1', metadata={'source': '/Users/manuvenugopal/Downloads/LangChainNotebooks-UNZIP-ME/01-Data-Connections/some_data/some_website.html', 'title': ''})]\n"
     ]
    }
   ],
   "source": [
    "print(data)"
   ]
  },
  {
   "cell_type": "code",
   "execution_count": 7,
   "metadata": {},
   "outputs": [
    {
     "name": "stdout",
     "output_type": "stream",
     "text": [
      "Heading 1\n"
     ]
    }
   ],
   "source": [
    "print(data[0].page_content)"
   ]
  },
  {
   "cell_type": "code",
   "execution_count": 8,
   "metadata": {},
   "outputs": [
    {
     "name": "stdout",
     "output_type": "stream",
     "text": [
      "{'source': '/Users/manuvenugopal/Downloads/LangChainNotebooks-UNZIP-ME/01-Data-Connections/some_data/some_website.html', 'title': ''}\n"
     ]
    }
   ],
   "source": [
    "print(data[0].metadata)"
   ]
  },
  {
   "cell_type": "markdown",
   "metadata": {},
   "source": [
    "## PDF file"
   ]
  },
  {
   "cell_type": "code",
   "execution_count": 11,
   "metadata": {},
   "outputs": [
    {
     "name": "stdout",
     "output_type": "stream",
     "text": [
      "Collecting pypdf\n",
      "  Downloading pypdf-4.2.0-py3-none-any.whl.metadata (7.4 kB)\n",
      "Downloading pypdf-4.2.0-py3-none-any.whl (290 kB)\n",
      "\u001b[2K   \u001b[90m━━━━━━━━━━━━━━━━━━━━━━━━━━━━━━━━━━━━━━━━\u001b[0m \u001b[32m290.4/290.4 kB\u001b[0m \u001b[31m4.4 MB/s\u001b[0m eta \u001b[36m0:00:00\u001b[0ma \u001b[36m0:00:01\u001b[0m\n",
      "\u001b[?25hInstalling collected packages: pypdf\n",
      "Successfully installed pypdf-4.2.0\n"
     ]
    }
   ],
   "source": [
    "!pip install pypdf"
   ]
  },
  {
   "cell_type": "code",
   "execution_count": 1,
   "metadata": {},
   "outputs": [],
   "source": [
    "from langchain.document_loaders import PyPDFLoader"
   ]
  },
  {
   "cell_type": "code",
   "execution_count": 2,
   "metadata": {},
   "outputs": [],
   "source": [
    "loader_pdf  = PyPDFLoader(\"/Users/manuvenugopal/Downloads/LangChainNotebooks-UNZIP-ME/01-Data-Connections/some_data/SomeReport.pdf\")"
   ]
  },
  {
   "cell_type": "code",
   "execution_count": 3,
   "metadata": {},
   "outputs": [],
   "source": [
    "data = loader_pdf.load()"
   ]
  },
  {
   "cell_type": "code",
   "execution_count": 7,
   "metadata": {},
   "outputs": [
    {
     "data": {
      "text/plain": [
       "'This\\nis\\nthe\\nfirst\\nline\\nPDF.\\nThis\\nis\\nthe\\nsecond\\nline\\nin\\nthe\\nPDF.\\nThis\\nis\\nthe\\nthird\\nline\\nin\\nthe\\nPDF.'"
      ]
     },
     "execution_count": 7,
     "metadata": {},
     "output_type": "execute_result"
    }
   ],
   "source": [
    "# Here we can see that pypdf treat evey white space as newline which is not correct.\n",
    "\n",
    "data[0].page_content"
   ]
  },
  {
   "cell_type": "code",
   "execution_count": 8,
   "metadata": {},
   "outputs": [
    {
     "data": {
      "text/plain": [
       "'This is the first line PDF. This is the second line in the PDF. This is the third line in the PDF.'"
      ]
     },
     "execution_count": 8,
     "metadata": {},
     "output_type": "execute_result"
    }
   ],
   "source": [
    "# One of the way to fix this problem is to replace the \\n with white space\n",
    "\n",
    "data[0].page_content.replace(\"\\n\", \" \")"
   ]
  },
  {
   "cell_type": "code",
   "execution_count": null,
   "metadata": {},
   "outputs": [],
   "source": []
  }
 ],
 "metadata": {
  "kernelspec": {
   "display_name": "langchain",
   "language": "python",
   "name": "python3"
  },
  "language_info": {
   "codemirror_mode": {
    "name": "ipython",
    "version": 3
   },
   "file_extension": ".py",
   "mimetype": "text/x-python",
   "name": "python",
   "nbconvert_exporter": "python",
   "pygments_lexer": "ipython3",
   "version": "3.11.7"
  }
 },
 "nbformat": 4,
 "nbformat_minor": 2
}
