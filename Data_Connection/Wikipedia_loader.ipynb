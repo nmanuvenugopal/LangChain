{
 "cells": [
  {
   "cell_type": "code",
   "execution_count": 14,
   "metadata": {},
   "outputs": [],
   "source": [
    "import os\n",
    "from langchain.chat_models import ChatOpenAI\n",
    "from langchain.prompts import (\n",
    "    HumanMessagePromptTemplate, SystemMessagePromptTemplate, ChatPromptTemplate\n",
    ")\n",
    "from langchain.document_loaders import WikipediaLoader"
   ]
  },
  {
   "cell_type": "code",
   "execution_count": 15,
   "metadata": {},
   "outputs": [],
   "source": [
    "os.environ[\"OPENAI_API_KEY\"] = \"Your API Key\""
   ]
  },
  {
   "cell_type": "code",
   "execution_count": 16,
   "metadata": {},
   "outputs": [],
   "source": [
    "def query_wikipedia(person_name, question):\n",
    "    # We should tell wikipedia loader about the which person we are searching for\n",
    "    loader = WikipediaLoader(query=person_name, load_max_docs=1)\n",
    "    data = loader.load()\n",
    "\n",
    "    # We need to draft prompts\n",
    "    # Here we need the question and documents in which we can find the answer for this question\n",
    "    template = \"Answer this question: \\n {question} \\n Here is some extra context: \\n {document}\"\n",
    "    human_prompt =  HumanMessagePromptTemplate.from_template(template)\n",
    "    chat_prompt = ChatPromptTemplate.from_messages([human_prompt])\n",
    "    # We need both question and document to fill in prompt \n",
    "    request = chat_prompt.format_prompt(question = question, document = data[0].page_content).to_messages()\n",
    "    chat_model = ChatOpenAI()\n",
    "    result  = chat_model(request)\n",
    "\n",
    "    return result.content\n",
    "\n"
   ]
  },
  {
   "cell_type": "code",
   "execution_count": 19,
   "metadata": {},
   "outputs": [],
   "source": [
    "details = query_wikipedia(\"MS Dhoni\", \"When was he born?\")"
   ]
  },
  {
   "cell_type": "code",
   "execution_count": 20,
   "metadata": {},
   "outputs": [
    {
     "name": "stdout",
     "output_type": "stream",
     "text": [
      "Mahendra Singh Dhoni was born on July 7, 1981.\n"
     ]
    }
   ],
   "source": [
    "print(details)"
   ]
  },
  {
   "cell_type": "code",
   "execution_count": null,
   "metadata": {},
   "outputs": [],
   "source": []
  }
 ],
 "metadata": {
  "kernelspec": {
   "display_name": "langchain",
   "language": "python",
   "name": "python3"
  },
  "language_info": {
   "codemirror_mode": {
    "name": "ipython",
    "version": 3
   },
   "file_extension": ".py",
   "mimetype": "text/x-python",
   "name": "python",
   "nbconvert_exporter": "python",
   "pygments_lexer": "ipython3",
   "version": "3.11.7"
  }
 },
 "nbformat": 4,
 "nbformat_minor": 2
}
