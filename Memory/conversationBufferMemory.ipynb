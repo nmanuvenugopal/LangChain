{
 "cells": [
  {
   "cell_type": "code",
   "execution_count": 2,
   "metadata": {},
   "outputs": [],
   "source": [
    "import os\n",
    "from langchain.chat_models import ChatOpenAI\n",
    "from langchain.chains import ConversationChain\n",
    "from langchain.memory import ConversationBufferMemory"
   ]
  },
  {
   "cell_type": "code",
   "execution_count": 3,
   "metadata": {},
   "outputs": [],
   "source": [
    "# Setting the environment path and autheticating the OpenAI API\n",
    "\n",
    "os.environ[\"OPENAI_API_KEY\"] = \"Your API key\""
   ]
  },
  {
   "cell_type": "code",
   "execution_count": 4,
   "metadata": {},
   "outputs": [],
   "source": [
    "# Instance of Conversation Chain needs the instance of llm (and in this case memory)\n",
    "\n",
    "llm = ChatOpenAI()\n",
    "memory = ConversationBufferMemory()"
   ]
  },
  {
   "cell_type": "code",
   "execution_count": 8,
   "metadata": {},
   "outputs": [],
   "source": [
    "# Instance of the chain\n",
    "\n",
    "chain = ConversationChain(llm=llm, memory=memory, verbose=True)"
   ]
  },
  {
   "cell_type": "code",
   "execution_count": 9,
   "metadata": {},
   "outputs": [
    {
     "name": "stdout",
     "output_type": "stream",
     "text": [
      "\n",
      "\n",
      "\u001b[1m> Entering new ConversationChain chain...\u001b[0m\n",
      "Prompt after formatting:\n",
      "\u001b[32;1m\u001b[1;3mThe following is a friendly conversation between a human and an AI. The AI is talkative and provides lots of specific details from its context. If the AI does not know the answer to a question, it truthfully says it does not know.\n",
      "\n",
      "Current conversation:\n",
      "\n",
      "Human: Hello, Nice to meet you!\n",
      "AI:\u001b[0m\n",
      "\n",
      "\u001b[1m> Finished chain.\u001b[0m\n"
     ]
    },
    {
     "data": {
      "text/plain": [
       "\"Hello! It's great to meet you too. I'm an AI designed to assist with any questions or tasks you may have. How can I help you today?\""
      ]
     },
     "execution_count": 9,
     "metadata": {},
     "output_type": "execute_result"
    }
   ],
   "source": [
    "# Conversation Chain used to predict the outcome based on the input (Just like ChatGPT)\n",
    "\n",
    "chain.predict(input = \"Hello, Nice to meet you!\")"
   ]
  },
  {
   "cell_type": "code",
   "execution_count": 10,
   "metadata": {},
   "outputs": [
    {
     "name": "stdout",
     "output_type": "stream",
     "text": [
      "\n",
      "\n",
      "\u001b[1m> Entering new ConversationChain chain...\u001b[0m\n",
      "Prompt after formatting:\n",
      "\u001b[32;1m\u001b[1;3mThe following is a friendly conversation between a human and an AI. The AI is talkative and provides lots of specific details from its context. If the AI does not know the answer to a question, it truthfully says it does not know.\n",
      "\n",
      "Current conversation:\n",
      "Human: Hello, Nice to meet you!\n",
      "AI: Hello! It's great to meet you too. I'm an AI designed to assist with any questions or tasks you may have. How can I help you today?\n",
      "Human: Tell me an interestring fact about Artificial Intelligence\n",
      "AI:\u001b[0m\n",
      "\n",
      "\u001b[1m> Finished chain.\u001b[0m\n"
     ]
    },
    {
     "data": {
      "text/plain": [
       "\"One interesting fact about Artificial Intelligence is that AI systems are constantly learning and evolving based on new data and experiences. This process is known as machine learning, where algorithms improve their performance over time without being explicitly programmed to do so. This allows AI to become more advanced and efficient at tasks such as image recognition, natural language processing, and decision making. Isn't that fascinating?\""
      ]
     },
     "execution_count": 10,
     "metadata": {},
     "output_type": "execute_result"
    }
   ],
   "source": [
    "chain.predict(input = \"Tell me an interestring fact about Artificial Intelligence\")"
   ]
  },
  {
   "cell_type": "code",
   "execution_count": 13,
   "metadata": {},
   "outputs": [
    {
     "name": "stdout",
     "output_type": "stream",
     "text": [
      "Human: Hello, Nice to meet you!\n",
      "AI: Hello! It's great to meet you too. I'm an AI designed to assist with any questions or tasks you may have. How can I help you today?\n",
      "Human: Tell me an interestring fact about Artificial Intelligence\n",
      "AI: One interesting fact about Artificial Intelligence is that AI systems are constantly learning and evolving based on new data and experiences. This process is known as machine learning, where algorithms improve their performance over time without being explicitly programmed to do so. This allows AI to become more advanced and efficient at tasks such as image recognition, natural language processing, and decision making. Isn't that fascinating?\n"
     ]
    }
   ],
   "source": [
    "# We see that what is being stored in buffer memory\n",
    "\n",
    "print(memory.buffer)"
   ]
  },
  {
   "cell_type": "code",
   "execution_count": 14,
   "metadata": {},
   "outputs": [
    {
     "name": "stdout",
     "output_type": "stream",
     "text": [
      "chat_memory=ChatMessageHistory(messages=[HumanMessage(content='Hello, Nice to meet you!'), AIMessage(content=\"Hello! It's great to meet you too. I'm an AI designed to assist with any questions or tasks you may have. How can I help you today?\"), HumanMessage(content='Tell me an interestring fact about Artificial Intelligence'), AIMessage(content=\"One interesting fact about Artificial Intelligence is that AI systems are constantly learning and evolving based on new data and experiences. This process is known as machine learning, where algorithms improve their performance over time without being explicitly programmed to do so. This allows AI to become more advanced and efficient at tasks such as image recognition, natural language processing, and decision making. Isn't that fascinating?\")])\n"
     ]
    }
   ],
   "source": [
    "print(chain.memory)"
   ]
  },
  {
   "cell_type": "code",
   "execution_count": 16,
   "metadata": {},
   "outputs": [],
   "source": [
    "# I need to save this memory in order to retrieve it later \n",
    "# We will be using pickle to write to file and read from file\n",
    "# File will be written in bytes and should read in readbytes format\n",
    "\n",
    "import pickle"
   ]
  },
  {
   "cell_type": "code",
   "execution_count": 17,
   "metadata": {},
   "outputs": [
    {
     "data": {
      "text/plain": [
       "b\"\\x80\\x04\\x95\\xe6\\x05\\x00\\x00\\x00\\x00\\x00\\x00\\x8c\\x17langchain.memory.buffer\\x94\\x8c\\x18ConversationBufferMemory\\x94\\x93\\x94)\\x81\\x94}\\x94(\\x8c\\x08__dict__\\x94}\\x94(\\x8c\\x0bchat_memory\\x94\\x8c4langchain_community.chat_message_histories.in_memory\\x94\\x8c\\x12ChatMessageHistory\\x94\\x93\\x94)\\x81\\x94}\\x94(h\\x05}\\x94\\x8c\\x08messages\\x94]\\x94(\\x8c\\x1dlangchain_core.messages.human\\x94\\x8c\\x0cHumanMessage\\x94\\x93\\x94)\\x81\\x94}\\x94(h\\x05}\\x94(\\x8c\\x07content\\x94\\x8c\\x18Hello, Nice to meet you!\\x94\\x8c\\x11additional_kwargs\\x94}\\x94\\x8c\\x11response_metadata\\x94}\\x94\\x8c\\x04type\\x94\\x8c\\x05human\\x94\\x8c\\x04name\\x94N\\x8c\\x02id\\x94N\\x8c\\x07example\\x94\\x89u\\x8c\\x0e__fields_set__\\x94\\x8f\\x94(h\\x16\\x90\\x8c\\x1c__private_attribute_values__\\x94}\\x94\\x8c\\n_lc_kwargs\\x94}\\x94h\\x16h\\x17ssub\\x8c\\x1alangchain_core.messages.ai\\x94\\x8c\\tAIMessage\\x94\\x93\\x94)\\x81\\x94}\\x94(h\\x05}\\x94(h\\x16\\x8c\\x83Hello! It's great to meet you too. I'm an AI designed to assist with any questions or tasks you may have. How can I help you today?\\x94h\\x18}\\x94h\\x1a}\\x94h\\x1c\\x8c\\x02ai\\x94h\\x1eNh\\x1fNh \\x89\\x8c\\ntool_calls\\x94]\\x94\\x8c\\x12invalid_tool_calls\\x94]\\x94uh!\\x8f\\x94(h\\x16\\x90h#}\\x94h%}\\x94h\\x16h-ssubh\\x12)\\x81\\x94}\\x94(h\\x05}\\x94(h\\x16\\x8c:Tell me an interestring fact about Artificial Intelligence\\x94h\\x18}\\x94h\\x1a}\\x94h\\x1ch\\x1dh\\x1eNh\\x1fNh \\x89uh!\\x8f\\x94(h\\x16\\x90h#}\\x94h%}\\x94h\\x16h;ssubh))\\x81\\x94}\\x94(h\\x05}\\x94(h\\x16X\\xbe\\x01\\x00\\x00One interesting fact about Artificial Intelligence is that AI systems are constantly learning and evolving based on new data and experiences. This process is known as machine learning, where algorithms improve their performance over time without being explicitly programmed to do so. This allows AI to become more advanced and efficient at tasks such as image recognition, natural language processing, and decision making. Isn't that fascinating?\\x94h\\x18}\\x94h\\x1a}\\x94h\\x1ch0h\\x1eNh\\x1fNh \\x89h1]\\x94h3]\\x94uh!\\x8f\\x94(h\\x16\\x90h#}\\x94h%}\\x94h\\x16hDssubesh!\\x8f\\x94h#}\\x94ub\\x8c\\noutput_key\\x94N\\x8c\\tinput_key\\x94N\\x8c\\x0freturn_messages\\x94\\x89\\x8c\\x0chuman_prefix\\x94\\x8c\\x05Human\\x94\\x8c\\tai_prefix\\x94\\x8c\\x02AI\\x94\\x8c\\nmemory_key\\x94\\x8c\\x07history\\x94uh!\\x8f\\x94h#}\\x94h%}\\x94sub.\""
      ]
     },
     "execution_count": 17,
     "metadata": {},
     "output_type": "execute_result"
    }
   ],
   "source": [
    "# we need to convert the memory to pickle string before writing or saving memory\n",
    "\n",
    "pickle_str = pickle.dumps(chain.memory)\n",
    "pickle_str"
   ]
  },
  {
   "cell_type": "code",
   "execution_count": 18,
   "metadata": {},
   "outputs": [],
   "source": [
    "# Now we need to write (save) this file\n",
    "\n",
    "with open('conversation.pkl', 'wb') as file:\n",
    "    file.write(pickle_str)"
   ]
  },
  {
   "cell_type": "code",
   "execution_count": 19,
   "metadata": {},
   "outputs": [],
   "source": [
    "conversation_from_memory = open('conversation.pkl', 'rb').read()"
   ]
  },
  {
   "cell_type": "code",
   "execution_count": 21,
   "metadata": {},
   "outputs": [],
   "source": [
    "# Create a new instance of the model and memory (we will be using pickle file)\n",
    "\n",
    "chat_model = ChatOpenAI()\n",
    "chain_pickle = ConversationChain(llm=chat_model, memory=pickle.loads(conversation_from_memory), verbose=True)"
   ]
  },
  {
   "cell_type": "code",
   "execution_count": 23,
   "metadata": {},
   "outputs": [
    {
     "name": "stdout",
     "output_type": "stream",
     "text": [
      "chat_memory=ChatMessageHistory(messages=[HumanMessage(content='Hello, Nice to meet you!'), AIMessage(content=\"Hello! It's great to meet you too. I'm an AI designed to assist with any questions or tasks you may have. How can I help you today?\"), HumanMessage(content='Tell me an interestring fact about Artificial Intelligence'), AIMessage(content=\"One interesting fact about Artificial Intelligence is that AI systems are constantly learning and evolving based on new data and experiences. This process is known as machine learning, where algorithms improve their performance over time without being explicitly programmed to do so. This allows AI to become more advanced and efficient at tasks such as image recognition, natural language processing, and decision making. Isn't that fascinating?\")])\n"
     ]
    }
   ],
   "source": [
    "print(chain_pickle.memory)"
   ]
  },
  {
   "cell_type": "code",
   "execution_count": 25,
   "metadata": {},
   "outputs": [
    {
     "name": "stdout",
     "output_type": "stream",
     "text": [
      "Human: Hello, Nice to meet you!\n",
      "AI: Hello! It's great to meet you too. I'm an AI designed to assist with any questions or tasks you may have. How can I help you today?\n",
      "Human: Tell me an interestring fact about Artificial Intelligence\n",
      "AI: One interesting fact about Artificial Intelligence is that AI systems are constantly learning and evolving based on new data and experiences. This process is known as machine learning, where algorithms improve their performance over time without being explicitly programmed to do so. This allows AI to become more advanced and efficient at tasks such as image recognition, natural language processing, and decision making. Isn't that fascinating?\n"
     ]
    }
   ],
   "source": [
    "print(chain_pickle.memory.buffer)"
   ]
  },
  {
   "cell_type": "code",
   "execution_count": null,
   "metadata": {},
   "outputs": [],
   "source": []
  }
 ],
 "metadata": {
  "kernelspec": {
   "display_name": "langchain",
   "language": "python",
   "name": "python3"
  },
  "language_info": {
   "codemirror_mode": {
    "name": "ipython",
    "version": 3
   },
   "file_extension": ".py",
   "mimetype": "text/x-python",
   "name": "python",
   "nbconvert_exporter": "python",
   "pygments_lexer": "ipython3",
   "version": "3.11.7"
  }
 },
 "nbformat": 4,
 "nbformat_minor": 2
}
