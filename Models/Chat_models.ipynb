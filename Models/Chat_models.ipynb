{
 "cells": [
  {
   "cell_type": "code",
   "execution_count": 23,
   "metadata": {},
   "outputs": [],
   "source": [
    "from langchain.chat_models import ChatOpenAI\n",
    "from langchain.schema import AIMessage, HumanMessage, SystemMessage"
   ]
  },
  {
   "cell_type": "code",
   "execution_count": 22,
   "metadata": {},
   "outputs": [
    {
     "name": "stderr",
     "output_type": "stream",
     "text": [
      "/Users/manuvenugopal/Documents/LangChain/langchain/lib/python3.11/site-packages/langchain_core/_api/deprecation.py:119: LangChainDeprecationWarning: The class `ChatOpenAI` was deprecated in LangChain 0.0.10 and will be removed in 0.2.0. An updated version of the class exists in the langchain-openai package and should be used instead. To use it run `pip install -U langchain-openai` and import as `from langchain_openai import ChatOpenAI`.\n",
      "  warn_deprecated(\n"
     ]
    }
   ],
   "source": [
    "chat_model = ChatOpenAI()"
   ]
  },
  {
   "cell_type": "code",
   "execution_count": 24,
   "metadata": {},
   "outputs": [
    {
     "name": "stderr",
     "output_type": "stream",
     "text": [
      "/Users/manuvenugopal/Documents/LangChain/langchain/lib/python3.11/site-packages/langchain_core/_api/deprecation.py:119: LangChainDeprecationWarning: The method `BaseChatModel.__call__` was deprecated in langchain-core 0.1.7 and will be removed in 0.2.0. Use invoke instead.\n",
      "  warn_deprecated(\n"
     ]
    }
   ],
   "source": [
    "result =  chat_model([SystemMessage(content=\"Consider yourself as expert in AI, Answer the below queries\"),\n",
    "                      HumanMessage(content=\"Tell me what makes machine learning useful\")])"
   ]
  },
  {
   "cell_type": "code",
   "execution_count": 28,
   "metadata": {},
   "outputs": [
    {
     "name": "stdout",
     "output_type": "stream",
     "text": [
      "Machine learning is useful for several reasons, including:\n",
      "\n",
      "1. Automation: Machine learning algorithms can automate the process of making predictions or decisions based on data, saving time and resources.\n",
      "2. Personalization: Machine learning can be used to personalize user experiences, such as recommending products or content based on past behavior.\n",
      "3. Pattern recognition: Machine learning can identify patterns and trends in data that may not be obvious to humans, leading to valuable insights.\n",
      "4. Scalability: Machine learning models can be trained on large amounts of data and can scale to handle increasing amounts of information.\n",
      "5. Continuous learning: Machine learning models can be updated with new data to improve their performance over time.\n",
      "6. Complex data analysis: Machine learning can handle complex, multi-dimensional data and extract meaningful information from it.\n",
      "7. Predictive analytics: Machine learning can be used to make accurate predictions about future outcomes based on historical data.\n",
      "8. Fraud detection: Machine learning algorithms can detect patterns of fraudulent behavior in financial transactions or other data.\n",
      "9. Medical diagnosis: Machine learning can assist in diagnosing medical conditions by analyzing patient data and identifying patterns associated with specific diseases.\n",
      "10. Natural language processing: Machine learning can be used to analyze and generate human language, enabling applications such as chatbots and language translation. \n",
      "\n",
      "Overall, machine learning is a powerful tool that can be applied across a wide range of industries and use cases to improve decision-making, efficiency, and user experiences.\n"
     ]
    }
   ],
   "source": [
    "print(result.content)"
   ]
  },
  {
   "cell_type": "code",
   "execution_count": 31,
   "metadata": {},
   "outputs": [],
   "source": [
    "# We can add multiple query using chat models also\n",
    "\n",
    "result = chat_model.generate([[SystemMessage(content=\"Consider yourself as expert in AI, Answer the below queries\"),\n",
    "                      HumanMessage(content=\"Tell me what makes machine learning useful\")],\n",
    "                      [SystemMessage(content=\"Consider yourself as simple AI assistant, Answer the below queries\"),\n",
    "                      HumanMessage(content=\"Tell me what makes machine learning useful\")]])"
   ]
  },
  {
   "cell_type": "code",
   "execution_count": 34,
   "metadata": {},
   "outputs": [
    {
     "name": "stdout",
     "output_type": "stream",
     "text": [
      "Machine learning is useful for several reasons:\n",
      "\n",
      "1. Automation: Machine learning algorithms can automate routine tasks and processes, saving time and reducing the need for manual intervention.\n",
      "\n",
      "2. Personalization: Machine learning can be used to personalize user experiences, such as recommending products, content, or services based on a user's preferences and behavior.\n",
      "\n",
      "3. Predictive analytics: Machine learning models can analyze historical data to make predictions about future outcomes, helping businesses make informed decisions and identify trends.\n",
      "\n",
      "4. Optimization: Machine learning can be used to optimize processes and systems, such as supply chain management, resource allocation, and scheduling.\n",
      "\n",
      "5. Fraud detection: Machine learning algorithms can detect patterns of fraudulent behavior and help prevent financial and identity theft.\n",
      "\n",
      "6. Image and speech recognition: Machine learning is used in applications such as facial recognition, object detection, and speech-to-text conversion.\n",
      "\n",
      "Overall, machine learning is a powerful tool that can help organizations improve efficiency, make better decisions, and provide more personalized and effective services to their customers.\n"
     ]
    }
   ],
   "source": [
    "print(result.generations[0][0].text)"
   ]
  },
  {
   "cell_type": "code",
   "execution_count": 35,
   "metadata": {},
   "outputs": [
    {
     "name": "stdout",
     "output_type": "stream",
     "text": [
      "Machine learning is useful because it allows computers to learn from data and make predictions or decisions without being explicitly programmed. This enables machines to handle complex and large datasets, identify patterns and trends, and make accurate predictions or recommendations. Machine learning has a wide range of applications, including image and speech recognition, healthcare diagnostics, financial forecasting, and personalized recommendations. By continuously learning and improving from new data, machine learning models can adapt to changing conditions and improve their performance over time.\n"
     ]
    }
   ],
   "source": [
    "print(result.generations[1][0].text)"
   ]
  },
  {
   "cell_type": "code",
   "execution_count": 36,
   "metadata": {},
   "outputs": [],
   "source": [
    "# Now we can add addiitonal parameter to tweak the model performance and output.\n",
    "\n",
    "result = chat_model([SystemMessage(content=\"Consider yourself as simple AI assistant, Answer the below queries\"),\n",
    "                      HumanMessage(content=\"Tell me what makes machine learning useful\")], temperature = 0, max_tokens= 20)"
   ]
  },
  {
   "cell_type": "code",
   "execution_count": 37,
   "metadata": {},
   "outputs": [
    {
     "data": {
      "text/plain": [
       "'Machine learning is useful because it allows computers to learn from data and make predictions or decisions without being explicitly'"
      ]
     },
     "execution_count": 37,
     "metadata": {},
     "output_type": "execute_result"
    }
   ],
   "source": [
    "result.content"
   ]
  },
  {
   "cell_type": "code",
   "execution_count": 52,
   "metadata": {},
   "outputs": [],
   "source": [
    "import langchain\n",
    "from langchain.cache import InMemoryCache\n",
    "langchain.llm_cache = InMemoryCache()\n",
    "from langchain.llms import OpenAI\n",
    "llm = OpenAI()"
   ]
  },
  {
   "cell_type": "code",
   "execution_count": 53,
   "metadata": {},
   "outputs": [
    {
     "data": {
      "text/plain": [
       "'\\n\\nMachine learning is a subset of artificial intelligence that focuses on developing algorithms and statistical models that enable computers to learn and make predictions or decisions without explicit programming. It is based on the idea that machines can learn from data, identify patterns, and make decisions with minimal human intervention.\\n\\nThe process of machine learning involves feeding large amounts of data into a machine learning algorithm, which then uses this data to identify patterns and make predictions or decisions. As the algorithm is exposed to more data, it can refine its predictions and improve its performance.\\n\\nThere are various types of machine learning techniques, including supervised learning, unsupervised learning, and reinforcement learning. Supervised learning involves training the algorithm on a labeled dataset, where the desired outcome is already known, and the algorithm learns to make predictions based on this data. Unsupervised learning involves training the algorithm on an unlabeled dataset and allowing it to identify patterns and relationships on its own. Reinforcement learning involves a feedback mechanism where the algorithm learns from its own actions and receives rewards or punishments based on its performance.\\n\\nMachine learning has a wide range of applications, including natural language processing, image and speech recognition, recommendation systems, and predictive analytics. It is used in various industries, such as healthcare, finance, marketing, and transportation, to automate processes'"
      ]
     },
     "execution_count": 53,
     "metadata": {},
     "output_type": "execute_result"
    }
   ],
   "source": [
    "llm.predict('Tell me about the Machine learning')"
   ]
  },
  {
   "cell_type": "code",
   "execution_count": 54,
   "metadata": {},
   "outputs": [
    {
     "data": {
      "text/plain": [
       "'\\n\\nMachine learning is a subset of artificial intelligence that focuses on developing algorithms and statistical models that enable computers to learn and make predictions or decisions without explicit programming. It is based on the idea that machines can learn from data, identify patterns, and make decisions with minimal human intervention.\\n\\nThe process of machine learning involves feeding large amounts of data into a machine learning algorithm, which then uses this data to identify patterns and make predictions or decisions. As the algorithm is exposed to more data, it can refine its predictions and improve its performance.\\n\\nThere are various types of machine learning techniques, including supervised learning, unsupervised learning, and reinforcement learning. Supervised learning involves training the algorithm on a labeled dataset, where the desired outcome is already known, and the algorithm learns to make predictions based on this data. Unsupervised learning involves training the algorithm on an unlabeled dataset and allowing it to identify patterns and relationships on its own. Reinforcement learning involves a feedback mechanism where the algorithm learns from its own actions and receives rewards or punishments based on its performance.\\n\\nMachine learning has a wide range of applications, including natural language processing, image and speech recognition, recommendation systems, and predictive analytics. It is used in various industries, such as healthcare, finance, marketing, and transportation, to automate processes'"
      ]
     },
     "execution_count": 54,
     "metadata": {},
     "output_type": "execute_result"
    }
   ],
   "source": [
    "llm.predict('Tell me about the Machine learning')"
   ]
  },
  {
   "cell_type": "code",
   "execution_count": 55,
   "metadata": {},
   "outputs": [],
   "source": [
    "result = chat_model([SystemMessage(content=\"Consider yourself as simple AI assistant, Answer the below queries\"),\n",
    "                      HumanMessage(content=\"Tell me what makes machine learning useful\")], temperature = 0, max_tokens= 20)"
   ]
  },
  {
   "cell_type": "code",
   "execution_count": 56,
   "metadata": {},
   "outputs": [],
   "source": [
    "result = chat_model([SystemMessage(content=\"Consider yourself as simple AI assistant, Answer the below queries\"),\n",
    "                      HumanMessage(content=\"Tell me what makes machine learning useful\")], temperature = 0, max_tokens= 20)"
   ]
  },
  {
   "cell_type": "code",
   "execution_count": null,
   "metadata": {},
   "outputs": [],
   "source": [
    "ßs"
   ]
  }
 ],
 "metadata": {
  "kernelspec": {
   "display_name": "langchain",
   "language": "python",
   "name": "python3"
  },
  "language_info": {
   "codemirror_mode": {
    "name": "ipython",
    "version": 3
   },
   "file_extension": ".py",
   "mimetype": "text/x-python",
   "name": "python",
   "nbconvert_exporter": "python",
   "pygments_lexer": "ipython3",
   "version": "3.11.7"
  }
 },
 "nbformat": 4,
 "nbformat_minor": 2
}
