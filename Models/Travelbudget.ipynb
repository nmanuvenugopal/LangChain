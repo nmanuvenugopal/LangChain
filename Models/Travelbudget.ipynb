{
 "cells": [
  {
   "cell_type": "code",
   "execution_count": 3,
   "metadata": {},
   "outputs": [],
   "source": [
    "import os\n",
    "import langchain\n",
    "from langchain.chat_models import ChatOpenAI\n",
    "from langchain.prompts import ChatPromptTemplate, SystemMessagePromptTemplate, HumanMessagePromptTemplate "
   ]
  },
  {
   "cell_type": "code",
   "execution_count": 4,
   "metadata": {},
   "outputs": [],
   "source": [
    "os.environ[\"OPENAI_API_KEY\"] = \"Your API key\""
   ]
  },
  {
   "cell_type": "code",
   "execution_count": 5,
   "metadata": {},
   "outputs": [],
   "source": [
    "chat_model = ChatOpenAI()"
   ]
  },
  {
   "cell_type": "code",
   "execution_count": 8,
   "metadata": {},
   "outputs": [],
   "source": [
    "def travel_idea(interest, budget):\n",
    "\n",
    "    # System \n",
    "    system_prompt = \"Imagine yourself as a tour agent who helps people to plan trip of their {interest} on a budget {budget}\"\n",
    "    system_message_prompt = SystemMessagePromptTemplate.from_template(system_prompt)\n",
    "    \n",
    "    # Human\n",
    "    human_prompt = \"Please give me an example itinerary\"\n",
    "    human_message_prompt = HumanMessagePromptTemplate.from_template(human_prompt)\n",
    "    # Chatprompt\n",
    "    chat_prompt = ChatPromptTemplate.from_messages([system_message_prompt, human_message_prompt])\n",
    "    # Include varibales \n",
    "    request = chat_prompt.format_prompt(interest=interest, budget=budget).to_messages()\n",
    "    # result\n",
    "    result = chat_model(request)\n",
    "    return result.content"
   ]
  },
  {
   "cell_type": "code",
   "execution_count": 9,
   "metadata": {},
   "outputs": [
    {
     "name": "stdout",
     "output_type": "stream",
     "text": [
      "Of course! Here's an example itinerary for a fishing trip on a budget of $10,000:\n",
      "\n",
      "Day 1: Arrival in Destin, Florida\n",
      "- Check into a budget-friendly hotel or rental property near the beach\n",
      "- Explore the local area and grab dinner at a casual seafood restaurant\n",
      "\n",
      "Day 2: Deep Sea Fishing Charter\n",
      "- Book a half-day deep sea fishing charter for an exciting day out on the water\n",
      "- Try your luck at catching some big game fish like marlin, tuna, or mahi-mahi\n",
      "- Enjoy a picnic lunch on board the charter boat\n",
      "\n",
      "Day 3: Inshore Fishing Excursion\n",
      "- Join a guided inshore fishing excursion to target species like redfish, trout, and snook\n",
      "- Learn different fishing techniques from a local expert\n",
      "- Have a fish fry dinner with your catch at a nearby waterfront restaurant\n",
      "\n",
      "Day 4: Free Day\n",
      "- Spend the day relaxing on the beach or exploring the local attractions\n",
      "- Rent a kayak or paddleboard for some leisurely fishing in the bay\n",
      "- Enjoy a sunset cruise to cap off your day\n",
      "\n",
      "Day 5: Departure\n",
      "- Pack up your belongings and check out of your accommodation\n",
      "- Head to the airport for your flight back home, reminiscing about the wonderful memories made on your fishing trip\n",
      "\n",
      "This itinerary provides a mix of deep sea and inshore fishing experiences, as well as some downtime to enjoy the beautiful surroundings. With careful planning and budgeting, you can have an amazing fishing trip without breaking the bank.\n"
     ]
    }
   ],
   "source": [
    "print(travel_idea(interest=\"fishing\", budget=10000))"
   ]
  },
  {
   "cell_type": "code",
   "execution_count": null,
   "metadata": {},
   "outputs": [],
   "source": []
  }
 ],
 "metadata": {
  "kernelspec": {
   "display_name": "langchain",
   "language": "python",
   "name": "python3"
  },
  "language_info": {
   "codemirror_mode": {
    "name": "ipython",
    "version": 3
   },
   "file_extension": ".py",
   "mimetype": "text/x-python",
   "name": "python",
   "nbconvert_exporter": "python",
   "pygments_lexer": "ipython3",
   "version": "3.11.7"
  }
 },
 "nbformat": 4,
 "nbformat_minor": 2
}
